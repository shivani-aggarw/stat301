{
 "cells": [
  {
   "cell_type": "markdown",
   "id": "ffb9a6c5-7abd-45df-bcda-104852237e54",
   "metadata": {},
   "source": [
    "# Project Planning Stage, Methods, and Code\n",
    "\n",
    "Name: Anthony Leong (69730208)"
   ]
  },
  {
   "cell_type": "markdown",
   "id": "6d25e15a-2048-44fd-b1e4-5abf4f5ab35e",
   "metadata": {},
   "source": [
    "## Data Description"
   ]
  },
  {
   "cell_type": "markdown",
   "id": "3c6957a8-39df-441e-a6c8-9ad30c3574fa",
   "metadata": {},
   "source": [
    "The dataset is a comprehensive catalogue of Airbnb listings in some popular European cities, such as London, Rome, and Budapest. In total, the dataset contains the complete information of 51,708 Airbnb listings, with 9,993, 9,027, and 4,022 of those listings coming from the cities of interest London, Rome, and Budapest respectively. The data was collected using Airbnb to obtain the information for each listing, TripAdvisor to obtain reviews of nearby attractions/restaurants, and Wikipedia to calculate the distance to the nearest metro station (Gyódi & Nawaro, 2021).\n",
    "\n",
    "Variables:\n",
    "- `id`: The id of the listing (numeric)\n",
    "- `realSum`: The total price of the listing for two people and two nights in EUR (numeric)\n",
    "- `room_type`: The type of listing - the entire home/apartment, a private room, or a shared room (categorical, 3 levels)\n",
    "- `room_shared`: Indicates whether the listing is for a shared room (categorical, binary)\n",
    "- `room_private`: Indicates whether the listing is for a private room (categorical, binary)\n",
    "- `person_capacity`: The maximum capacity of the listing (numeric)\n",
    "- `host_is_superhost`: Indicates whether the host of the listing is a superhost (categorical, binary)\n",
    "- `multi`: Indicates whether the listing is from a host with 2-4 listings (categorical, binary)\n",
    "- `biz`: Indicates whether the listing is from a host with more than 4 listings (categorical, binary)\n",
    "- `cleanliness_rating`: The rating of the listing's cleanliness (numeric)\n",
    "- `guest_satisfaction_overall`: The overall satisfaction rating of the listing (numeric)\n",
    "- `bedrooms`: The total number of bedrooms (numeric)\n",
    "- `dist`: The distance from the listing to the city centre in km (numeric)\n",
    "- `metro_dist`: The distance from the listing to the nearest metro station in km (numeric)\n",
    "- `attr_index`: The attraction index of the listing location, determined by the number of reviews at nearby attractions (numeric)\n",
    "- `attr_index_norm`: The normalized attraction index, range 0 to 100 (numeric)\n",
    "- `rest_index`: The restaurant index of the listing location, determined by the number of reviews at nearby restaurants (numeric)\n",
    "- `rest_index_norm`: The normalized restaurant index, range 0 to 100 (numeric)\n",
    "- `lng`: The longitude of the listing (numeric)\n",
    "- `lat`: The latitude of the listing (numeric)\n",
    "- `city`: The city where the listing is located (categorical, 10 levels)\n",
    "- `weekend`: Indicates whether the listing is on a weekend (categorical, binary)"
   ]
  },
  {
   "cell_type": "markdown",
   "id": "28248404-f0d8-44f0-a535-c0d7b682fd61",
   "metadata": {},
   "source": [
    "#### Pre-selection of Variables"
   ]
  },
  {
   "cell_type": "markdown",
   "id": "1e3f8110-cbbd-4cd3-b042-5944039b574c",
   "metadata": {},
   "source": [
    "The following variables/observations will be dropped:\n",
    "- All information related to the type of room is contained within the `room_type` variable, so `room_shared` and `room_private` are redundant. Since those dummy variables can be created directly from `room_type`, `room_shared` and `room_private` will not be needed.\n",
    "- The `id` variable is simply a unique identifier for each listing, thus `id` is a meaningless variable to analyze and will be dropped.\n",
    "- Since the cities of interest are only London, Rome, and Budapest, observations (listings) that do not come from one of those three cities will be dropped."
   ]
  },
  {
   "cell_type": "markdown",
   "id": "7138f8d5-3deb-4c31-908b-472d36accd8f",
   "metadata": {},
   "source": [
    "## Question"
   ]
  },
  {
   "cell_type": "markdown",
   "id": "fb18bc75-ce4a-4eee-ad72-df5f6082123f",
   "metadata": {},
   "source": [
    "The statistical question that will be answered is:\n",
    "\n",
    "- How is the price of a listing associated with its maximum capacity and number of bedrooms? Are these associations different between London, Rome, and Budapest?\n",
    "\n",
    "This is an inferential question with `realSum` as the response variable and with `person_capacity`, `bedrooms`, and `city` as predictors of interest. To avoid potential confounding, variable selection will be performed using all available variables in the dataset, not just the predictors of interest. Excessive interaction terms could result in an overly complicated model, so for the sake of simplicity, the only interaction terms that will be included in the model are: \n",
    "\n",
    "- Between `person_capacity` and `city` \n",
    "- Between `bedrooms` and `city`"
   ]
  },
  {
   "cell_type": "markdown",
   "id": "d1f4571e-63e4-4fde-831e-eccb823c75fd",
   "metadata": {},
   "source": [
    "## Exploratory Data Analysis and Visualization"
   ]
  },
  {
   "cell_type": "code",
   "execution_count": 1,
   "id": "914165f7-61fc-48ec-a3fd-eebe5db97388",
   "metadata": {},
   "outputs": [
    {
     "name": "stderr",
     "output_type": "stream",
     "text": [
      "Warning message:\n",
      "\"package 'MASS' was built under R version 4.4.3\"\n",
      "Warning message:\n",
      "\"package 'httr' was built under R version 4.4.3\"\n",
      "Warning message:\n",
      "\"package 'ggridges' was built under R version 4.4.3\"\n",
      "Loading required package: carData\n",
      "\n",
      "Warning message:\n",
      "\"package 'rsample' was built under R version 4.4.3\"\n",
      "Warning message:\n",
      "\"package 'glmnet' was built under R version 4.4.3\"\n",
      "Loading required package: Matrix\n",
      "\n",
      "Loaded glmnet 4.1-8\n",
      "\n",
      "Warning message:\n",
      "\"package 'tidyverse' was built under R version 4.4.3\"\n",
      "── \u001b[1mAttaching core tidyverse packages\u001b[22m ──────────────────────────────────────────────────────────────── tidyverse 2.0.0 ──\n",
      "\u001b[32m✔\u001b[39m \u001b[34mdplyr    \u001b[39m 1.1.4     \u001b[32m✔\u001b[39m \u001b[34mreadr    \u001b[39m 2.1.5\n",
      "\u001b[32m✔\u001b[39m \u001b[34mforcats  \u001b[39m 1.0.0     \u001b[32m✔\u001b[39m \u001b[34mstringr  \u001b[39m 1.5.1\n",
      "\u001b[32m✔\u001b[39m \u001b[34mggplot2  \u001b[39m 3.5.1     \u001b[32m✔\u001b[39m \u001b[34mtibble   \u001b[39m 3.2.1\n",
      "\u001b[32m✔\u001b[39m \u001b[34mlubridate\u001b[39m 1.9.3     \u001b[32m✔\u001b[39m \u001b[34mtidyr    \u001b[39m 1.3.1\n",
      "\u001b[32m✔\u001b[39m \u001b[34mpurrr    \u001b[39m 1.0.2     \n",
      "── \u001b[1mConflicts\u001b[22m ────────────────────────────────────────────────────────────────────────────────── tidyverse_conflicts() ──\n",
      "\u001b[31m✖\u001b[39m \u001b[34mtidyr\u001b[39m::\u001b[32mexpand()\u001b[39m    masks \u001b[34mMatrix\u001b[39m::expand()\n",
      "\u001b[31m✖\u001b[39m \u001b[34mdplyr\u001b[39m::\u001b[32mfilter()\u001b[39m    masks \u001b[34mstats\u001b[39m::filter()\n",
      "\u001b[31m✖\u001b[39m \u001b[34mdplyr\u001b[39m::\u001b[32mlag()\u001b[39m       masks \u001b[34mstats\u001b[39m::lag()\n",
      "\u001b[31m✖\u001b[39m \u001b[34mtidyr\u001b[39m::\u001b[32mpack()\u001b[39m      masks \u001b[34mMatrix\u001b[39m::pack()\n",
      "\u001b[31m✖\u001b[39m \u001b[34mdplyr\u001b[39m::\u001b[32mrecode()\u001b[39m    masks \u001b[34mcar\u001b[39m::recode()\n",
      "\u001b[31m✖\u001b[39m \u001b[34mdplyr\u001b[39m::\u001b[32mselect()\u001b[39m    masks \u001b[34mMASS\u001b[39m::select()\n",
      "\u001b[31m✖\u001b[39m \u001b[34mpurrr\u001b[39m::\u001b[32msome()\u001b[39m      masks \u001b[34mcar\u001b[39m::some()\n",
      "\u001b[31m✖\u001b[39m \u001b[34mlubridate\u001b[39m::\u001b[32mstamp()\u001b[39m masks \u001b[34mcowplot\u001b[39m::stamp()\n",
      "\u001b[31m✖\u001b[39m \u001b[34mtidyr\u001b[39m::\u001b[32munpack()\u001b[39m    masks \u001b[34mMatrix\u001b[39m::unpack()\n",
      "\u001b[36mℹ\u001b[39m Use the conflicted package (\u001b[3m\u001b[34m<http://conflicted.r-lib.org/>\u001b[39m\u001b[23m) to force all conflicts to become errors\n"
     ]
    }
   ],
   "source": [
    "#loading packages\n",
    "\n",
    "#install.packages(\"MASS\")\n",
    "#install.packages(\"httr\")\n",
    "#install.packages(\"ggridges\")\n",
    "#install.packages(\"car\")\n",
    "#install.packages(\"rsample\")\n",
    "#install.packages(\"glmnet\")\n",
    "#install.packages(\"cowplot\")\n",
    "#install.packages(\"broom\")\n",
    "#install.packages(\"tidyverse\")\n",
    "library(MASS)\n",
    "library(httr)\n",
    "library(ggridges)\n",
    "library(car)\n",
    "library(rsample)\n",
    "library(glmnet)\n",
    "library(cowplot)\n",
    "library(broom)\n",
    "library(tidyverse)\n",
    "options(repr.matrix.max.rows = 8)"
   ]
  },
  {
   "cell_type": "code",
   "execution_count": 2,
   "id": "fe47423d-334c-486a-8c1e-5cb56e65ad65",
   "metadata": {},
   "outputs": [
    {
     "name": "stderr",
     "output_type": "stream",
     "text": [
      "\u001b[1m\u001b[22mNew names:\n",
      "\u001b[36m•\u001b[39m `` -> `...1`\n",
      "\u001b[1mRows: \u001b[22m\u001b[34m4614\u001b[39m \u001b[1mColumns: \u001b[22m\u001b[34m20\u001b[39m\n",
      "\u001b[36m──\u001b[39m \u001b[1mColumn specification\u001b[22m \u001b[36m────────────────────────────────────────────────────────────────────────────────────────────────\u001b[39m\n",
      "\u001b[1mDelimiter:\u001b[22m \",\"\n",
      "\u001b[31mchr\u001b[39m  (1): room_type\n",
      "\u001b[32mdbl\u001b[39m (16): ...1, realSum, person_capacity, multi, biz, cleanliness_rating, gu...\n",
      "\u001b[33mlgl\u001b[39m  (3): room_shared, room_private, host_is_superhost\n",
      "\n",
      "\u001b[36mℹ\u001b[39m Use `spec()` to retrieve the full column specification for this data.\n",
      "\u001b[36mℹ\u001b[39m Specify the column types or set `show_col_types = FALSE` to quiet this message.\n",
      "\u001b[1m\u001b[22mNew names:\n",
      "\u001b[36m•\u001b[39m `` -> `...1`\n",
      "\u001b[1mRows: \u001b[22m\u001b[34m5379\u001b[39m \u001b[1mColumns: \u001b[22m\u001b[34m20\u001b[39m\n",
      "\u001b[36m──\u001b[39m \u001b[1mColumn specification\u001b[22m \u001b[36m────────────────────────────────────────────────────────────────────────────────────────────────\u001b[39m\n",
      "\u001b[1mDelimiter:\u001b[22m \",\"\n",
      "\u001b[31mchr\u001b[39m  (1): room_type\n",
      "\u001b[32mdbl\u001b[39m (16): ...1, realSum, person_capacity, multi, biz, cleanliness_rating, gu...\n",
      "\u001b[33mlgl\u001b[39m  (3): room_shared, room_private, host_is_superhost\n",
      "\n",
      "\u001b[36mℹ\u001b[39m Use `spec()` to retrieve the full column specification for this data.\n",
      "\u001b[36mℹ\u001b[39m Specify the column types or set `show_col_types = FALSE` to quiet this message.\n",
      "\u001b[1m\u001b[22mNew names:\n",
      "\u001b[36m•\u001b[39m `` -> `...1`\n",
      "\u001b[1mRows: \u001b[22m\u001b[34m4492\u001b[39m \u001b[1mColumns: \u001b[22m\u001b[34m20\u001b[39m\n",
      "\u001b[36m──\u001b[39m \u001b[1mColumn specification\u001b[22m \u001b[36m────────────────────────────────────────────────────────────────────────────────────────────────\u001b[39m\n",
      "\u001b[1mDelimiter:\u001b[22m \",\"\n",
      "\u001b[31mchr\u001b[39m  (1): room_type\n",
      "\u001b[32mdbl\u001b[39m (16): ...1, realSum, person_capacity, multi, biz, cleanliness_rating, gu...\n",
      "\u001b[33mlgl\u001b[39m  (3): room_shared, room_private, host_is_superhost\n",
      "\n",
      "\u001b[36mℹ\u001b[39m Use `spec()` to retrieve the full column specification for this data.\n",
      "\u001b[36mℹ\u001b[39m Specify the column types or set `show_col_types = FALSE` to quiet this message.\n",
      "\u001b[1m\u001b[22mNew names:\n",
      "\u001b[36m•\u001b[39m `` -> `...1`\n",
      "\u001b[1mRows: \u001b[22m\u001b[34m4535\u001b[39m \u001b[1mColumns: \u001b[22m\u001b[34m20\u001b[39m\n",
      "\u001b[36m──\u001b[39m \u001b[1mColumn specification\u001b[22m \u001b[36m────────────────────────────────────────────────────────────────────────────────────────────────\u001b[39m\n",
      "\u001b[1mDelimiter:\u001b[22m \",\"\n",
      "\u001b[31mchr\u001b[39m  (1): room_type\n",
      "\u001b[32mdbl\u001b[39m (16): ...1, realSum, person_capacity, multi, biz, cleanliness_rating, gu...\n",
      "\u001b[33mlgl\u001b[39m  (3): room_shared, room_private, host_is_superhost\n",
      "\n",
      "\u001b[36mℹ\u001b[39m Use `spec()` to retrieve the full column specification for this data.\n",
      "\u001b[36mℹ\u001b[39m Specify the column types or set `show_col_types = FALSE` to quiet this message.\n",
      "\u001b[1m\u001b[22mNew names:\n",
      "\u001b[36m•\u001b[39m `` -> `...1`\n",
      "\u001b[1mRows: \u001b[22m\u001b[34m2074\u001b[39m \u001b[1mColumns: \u001b[22m\u001b[34m20\u001b[39m\n",
      "\u001b[36m──\u001b[39m \u001b[1mColumn specification\u001b[22m \u001b[36m────────────────────────────────────────────────────────────────────────────────────────────────\u001b[39m\n",
      "\u001b[1mDelimiter:\u001b[22m \",\"\n",
      "\u001b[31mchr\u001b[39m  (1): room_type\n",
      "\u001b[32mdbl\u001b[39m (16): ...1, realSum, person_capacity, multi, biz, cleanliness_rating, gu...\n",
      "\u001b[33mlgl\u001b[39m  (3): room_shared, room_private, host_is_superhost\n",
      "\n",
      "\u001b[36mℹ\u001b[39m Use `spec()` to retrieve the full column specification for this data.\n",
      "\u001b[36mℹ\u001b[39m Specify the column types or set `show_col_types = FALSE` to quiet this message.\n",
      "\u001b[1m\u001b[22mNew names:\n",
      "\u001b[36m•\u001b[39m `` -> `...1`\n",
      "\u001b[1mRows: \u001b[22m\u001b[34m1948\u001b[39m \u001b[1mColumns: \u001b[22m\u001b[34m20\u001b[39m\n",
      "\u001b[36m──\u001b[39m \u001b[1mColumn specification\u001b[22m \u001b[36m────────────────────────────────────────────────────────────────────────────────────────────────\u001b[39m\n",
      "\u001b[1mDelimiter:\u001b[22m \",\"\n",
      "\u001b[31mchr\u001b[39m  (1): room_type\n",
      "\u001b[32mdbl\u001b[39m (16): ...1, realSum, person_capacity, multi, biz, cleanliness_rating, gu...\n",
      "\u001b[33mlgl\u001b[39m  (3): room_shared, room_private, host_is_superhost\n",
      "\n",
      "\u001b[36mℹ\u001b[39m Use `spec()` to retrieve the full column specification for this data.\n",
      "\u001b[36mℹ\u001b[39m Specify the column types or set `show_col_types = FALSE` to quiet this message.\n"
     ]
    }
   ],
   "source": [
    "#loading in data for london, rome, and budapest listings from the web\n",
    "url1 <- 'https://www.kaggle.com/api/v1/datasets/download/thedevastator/airbnb-prices-in-european-cities/london_weekdays.csv'\n",
    "url2 <- 'https://www.kaggle.com/api/v1/datasets/download/thedevastator/airbnb-prices-in-european-cities/london_weekends.csv'\n",
    "url3 <- 'https://www.kaggle.com/api/v1/datasets/download/thedevastator/airbnb-prices-in-european-cities/rome_weekdays.csv'\n",
    "url4 <- 'https://www.kaggle.com/api/v1/datasets/download/thedevastator/airbnb-prices-in-european-cities/rome_weekends.csv'\n",
    "url5 <- 'https://www.kaggle.com/api/v1/datasets/download/thedevastator/airbnb-prices-in-european-cities/budapest_weekdays.csv'\n",
    "url6 <- 'https://www.kaggle.com/api/v1/datasets/download/thedevastator/airbnb-prices-in-european-cities/budapest_weekends.csv'\n",
    "\n",
    "download <- function(url) {\n",
    "    temp <- tempfile(fileext = '.csv')\n",
    "    GET(url, write_disk(temp))\n",
    "    data <- read_delim(temp, skip = 0, delim = \",\") |>\n",
    "                dplyr::select(-c(1, room_shared, room_private))\n",
    "    return(data)\n",
    "}\n",
    "\n",
    "london_day <- download(url1)\n",
    "london_end <- download(url2)\n",
    "rome_day <- download(url3)\n",
    "rome_end <- download(url4)\n",
    "budapest_day <- download(url5)\n",
    "budapest_end <- download(url6)"
   ]
  },
  {
   "cell_type": "code",
   "execution_count": 3,
   "id": "460e3d37-7be7-4e33-8573-75016080f19c",
   "metadata": {},
   "outputs": [
    {
     "data": {
      "text/html": [
       "<table class=\"dataframe\">\n",
       "<caption>A tibble: 13824 × 19</caption>\n",
       "<thead>\n",
       "\t<tr><th scope=col>realSum</th><th scope=col>room_type</th><th scope=col>person_capacity</th><th scope=col>host_is_superhost</th><th scope=col>multi</th><th scope=col>biz</th><th scope=col>cleanliness_rating</th><th scope=col>guest_satisfaction_overall</th><th scope=col>bedrooms</th><th scope=col>dist</th><th scope=col>metro_dist</th><th scope=col>attr_index</th><th scope=col>attr_index_norm</th><th scope=col>rest_index</th><th scope=col>rest_index_norm</th><th scope=col>lng</th><th scope=col>lat</th><th scope=col>city</th><th scope=col>weekend</th></tr>\n",
       "\t<tr><th scope=col>&lt;dbl&gt;</th><th scope=col>&lt;chr&gt;</th><th scope=col>&lt;dbl&gt;</th><th scope=col>&lt;lgl&gt;</th><th scope=col>&lt;dbl&gt;</th><th scope=col>&lt;dbl&gt;</th><th scope=col>&lt;dbl&gt;</th><th scope=col>&lt;dbl&gt;</th><th scope=col>&lt;dbl&gt;</th><th scope=col>&lt;dbl&gt;</th><th scope=col>&lt;dbl&gt;</th><th scope=col>&lt;dbl&gt;</th><th scope=col>&lt;dbl&gt;</th><th scope=col>&lt;dbl&gt;</th><th scope=col>&lt;dbl&gt;</th><th scope=col>&lt;dbl&gt;</th><th scope=col>&lt;dbl&gt;</th><th scope=col>&lt;chr&gt;</th><th scope=col>&lt;dbl&gt;</th></tr>\n",
       "</thead>\n",
       "<tbody>\n",
       "\t<tr><td>238.9905</td><td>Entire home/apt</td><td>6</td><td> TRUE</td><td>0</td><td>1</td><td>10</td><td>99</td><td>1</td><td>0.3593550</td><td>0.3526430</td><td> 404.4047</td><td> 24.116552</td><td>893.4773</td><td>67.65685</td><td>19.05074</td><td>47.50076</td><td>Budapest</td><td>0</td></tr>\n",
       "\t<tr><td>300.7943</td><td>Entire home/apt</td><td>6</td><td>FALSE</td><td>0</td><td>1</td><td> 9</td><td>98</td><td>2</td><td>0.9294272</td><td>0.2002355</td><td>1676.8760</td><td>100.000000</td><td>452.5397</td><td>34.26770</td><td>19.04493</td><td>47.50405</td><td>Budapest</td><td>0</td></tr>\n",
       "\t<tr><td>162.3819</td><td>Entire home/apt</td><td>4</td><td> TRUE</td><td>0</td><td>0</td><td>10</td><td>98</td><td>1</td><td>2.4508403</td><td>0.2794518</td><td> 163.5885</td><td>  9.755551</td><td>191.9923</td><td>14.53825</td><td>19.02170</td><td>47.49882</td><td>Budapest</td><td>0</td></tr>\n",
       "\t<tr><td>118.4377</td><td>Entire home/apt</td><td>2</td><td>FALSE</td><td>0</td><td>0</td><td> 9</td><td>92</td><td>1</td><td>1.5594494</td><td>0.4779711</td><td> 191.7198</td><td> 11.433155</td><td>326.2156</td><td>24.70205</td><td>19.06301</td><td>47.51126</td><td>Budapest</td><td>0</td></tr>\n",
       "\t<tr><td>⋮</td><td>⋮</td><td>⋮</td><td>⋮</td><td>⋮</td><td>⋮</td><td>⋮</td><td>⋮</td><td>⋮</td><td>⋮</td><td>⋮</td><td>⋮</td><td>⋮</td><td>⋮</td><td>⋮</td><td>⋮</td><td>⋮</td><td>⋮</td><td>⋮</td></tr>\n",
       "\t<tr><td>601.0801</td><td>Entire home/apt</td><td>2</td><td>FALSE</td><td>0</td><td>1</td><td>10</td><td>92</td><td>1</td><td>1.978217</td><td>0.2779185</td><td> 777.7236</td><td>17.23081</td><td>1979.2231</td><td>43.12247</td><td>12.47957</td><td>41.90636</td><td>Rome</td><td>1</td></tr>\n",
       "\t<tr><td>582.3767</td><td>Entire home/apt</td><td>6</td><td> TRUE</td><td>0</td><td>1</td><td>10</td><td>96</td><td>2</td><td>3.124166</td><td>1.9395050</td><td> 540.3414</td><td>11.97150</td><td>1985.4354</td><td>43.25782</td><td>12.46700</td><td>41.89100</td><td>Rome</td><td>1</td></tr>\n",
       "\t<tr><td>447.2448</td><td>Entire home/apt</td><td>4</td><td> TRUE</td><td>1</td><td>0</td><td>10</td><td>98</td><td>1</td><td>1.641598</td><td>0.8588370</td><td>1125.8572</td><td>24.94387</td><td>1687.8958</td><td>36.77516</td><td>12.48342</td><td>41.89634</td><td>Rome</td><td>1</td></tr>\n",
       "\t<tr><td>265.8219</td><td>Entire home/apt</td><td>6</td><td>FALSE</td><td>0</td><td>1</td><td>10</td><td>96</td><td>2</td><td>4.411877</td><td>0.3524935</td><td> 167.7019</td><td> 3.71551</td><td> 467.3403</td><td>10.18221</td><td>12.53000</td><td>41.86700</td><td>Rome</td><td>1</td></tr>\n",
       "</tbody>\n",
       "</table>\n"
      ],
      "text/latex": [
       "A tibble: 13824 × 19\n",
       "\\begin{tabular}{lllllllllllllllllll}\n",
       " realSum & room\\_type & person\\_capacity & host\\_is\\_superhost & multi & biz & cleanliness\\_rating & guest\\_satisfaction\\_overall & bedrooms & dist & metro\\_dist & attr\\_index & attr\\_index\\_norm & rest\\_index & rest\\_index\\_norm & lng & lat & city & weekend\\\\\n",
       " <dbl> & <chr> & <dbl> & <lgl> & <dbl> & <dbl> & <dbl> & <dbl> & <dbl> & <dbl> & <dbl> & <dbl> & <dbl> & <dbl> & <dbl> & <dbl> & <dbl> & <chr> & <dbl>\\\\\n",
       "\\hline\n",
       "\t 238.9905 & Entire home/apt & 6 &  TRUE & 0 & 1 & 10 & 99 & 1 & 0.3593550 & 0.3526430 &  404.4047 &  24.116552 & 893.4773 & 67.65685 & 19.05074 & 47.50076 & Budapest & 0\\\\\n",
       "\t 300.7943 & Entire home/apt & 6 & FALSE & 0 & 1 &  9 & 98 & 2 & 0.9294272 & 0.2002355 & 1676.8760 & 100.000000 & 452.5397 & 34.26770 & 19.04493 & 47.50405 & Budapest & 0\\\\\n",
       "\t 162.3819 & Entire home/apt & 4 &  TRUE & 0 & 0 & 10 & 98 & 1 & 2.4508403 & 0.2794518 &  163.5885 &   9.755551 & 191.9923 & 14.53825 & 19.02170 & 47.49882 & Budapest & 0\\\\\n",
       "\t 118.4377 & Entire home/apt & 2 & FALSE & 0 & 0 &  9 & 92 & 1 & 1.5594494 & 0.4779711 &  191.7198 &  11.433155 & 326.2156 & 24.70205 & 19.06301 & 47.51126 & Budapest & 0\\\\\n",
       "\t ⋮ & ⋮ & ⋮ & ⋮ & ⋮ & ⋮ & ⋮ & ⋮ & ⋮ & ⋮ & ⋮ & ⋮ & ⋮ & ⋮ & ⋮ & ⋮ & ⋮ & ⋮ & ⋮\\\\\n",
       "\t 601.0801 & Entire home/apt & 2 & FALSE & 0 & 1 & 10 & 92 & 1 & 1.978217 & 0.2779185 &  777.7236 & 17.23081 & 1979.2231 & 43.12247 & 12.47957 & 41.90636 & Rome & 1\\\\\n",
       "\t 582.3767 & Entire home/apt & 6 &  TRUE & 0 & 1 & 10 & 96 & 2 & 3.124166 & 1.9395050 &  540.3414 & 11.97150 & 1985.4354 & 43.25782 & 12.46700 & 41.89100 & Rome & 1\\\\\n",
       "\t 447.2448 & Entire home/apt & 4 &  TRUE & 1 & 0 & 10 & 98 & 1 & 1.641598 & 0.8588370 & 1125.8572 & 24.94387 & 1687.8958 & 36.77516 & 12.48342 & 41.89634 & Rome & 1\\\\\n",
       "\t 265.8219 & Entire home/apt & 6 & FALSE & 0 & 1 & 10 & 96 & 2 & 4.411877 & 0.3524935 &  167.7019 &  3.71551 &  467.3403 & 10.18221 & 12.53000 & 41.86700 & Rome & 1\\\\\n",
       "\\end{tabular}\n"
      ],
      "text/markdown": [
       "\n",
       "A tibble: 13824 × 19\n",
       "\n",
       "| realSum &lt;dbl&gt; | room_type &lt;chr&gt; | person_capacity &lt;dbl&gt; | host_is_superhost &lt;lgl&gt; | multi &lt;dbl&gt; | biz &lt;dbl&gt; | cleanliness_rating &lt;dbl&gt; | guest_satisfaction_overall &lt;dbl&gt; | bedrooms &lt;dbl&gt; | dist &lt;dbl&gt; | metro_dist &lt;dbl&gt; | attr_index &lt;dbl&gt; | attr_index_norm &lt;dbl&gt; | rest_index &lt;dbl&gt; | rest_index_norm &lt;dbl&gt; | lng &lt;dbl&gt; | lat &lt;dbl&gt; | city &lt;chr&gt; | weekend &lt;dbl&gt; |\n",
       "|---|---|---|---|---|---|---|---|---|---|---|---|---|---|---|---|---|---|---|\n",
       "| 238.9905 | Entire home/apt | 6 |  TRUE | 0 | 1 | 10 | 99 | 1 | 0.3593550 | 0.3526430 |  404.4047 |  24.116552 | 893.4773 | 67.65685 | 19.05074 | 47.50076 | Budapest | 0 |\n",
       "| 300.7943 | Entire home/apt | 6 | FALSE | 0 | 1 |  9 | 98 | 2 | 0.9294272 | 0.2002355 | 1676.8760 | 100.000000 | 452.5397 | 34.26770 | 19.04493 | 47.50405 | Budapest | 0 |\n",
       "| 162.3819 | Entire home/apt | 4 |  TRUE | 0 | 0 | 10 | 98 | 1 | 2.4508403 | 0.2794518 |  163.5885 |   9.755551 | 191.9923 | 14.53825 | 19.02170 | 47.49882 | Budapest | 0 |\n",
       "| 118.4377 | Entire home/apt | 2 | FALSE | 0 | 0 |  9 | 92 | 1 | 1.5594494 | 0.4779711 |  191.7198 |  11.433155 | 326.2156 | 24.70205 | 19.06301 | 47.51126 | Budapest | 0 |\n",
       "| ⋮ | ⋮ | ⋮ | ⋮ | ⋮ | ⋮ | ⋮ | ⋮ | ⋮ | ⋮ | ⋮ | ⋮ | ⋮ | ⋮ | ⋮ | ⋮ | ⋮ | ⋮ | ⋮ |\n",
       "| 601.0801 | Entire home/apt | 2 | FALSE | 0 | 1 | 10 | 92 | 1 | 1.978217 | 0.2779185 |  777.7236 | 17.23081 | 1979.2231 | 43.12247 | 12.47957 | 41.90636 | Rome | 1 |\n",
       "| 582.3767 | Entire home/apt | 6 |  TRUE | 0 | 1 | 10 | 96 | 2 | 3.124166 | 1.9395050 |  540.3414 | 11.97150 | 1985.4354 | 43.25782 | 12.46700 | 41.89100 | Rome | 1 |\n",
       "| 447.2448 | Entire home/apt | 4 |  TRUE | 1 | 0 | 10 | 98 | 1 | 1.641598 | 0.8588370 | 1125.8572 | 24.94387 | 1687.8958 | 36.77516 | 12.48342 | 41.89634 | Rome | 1 |\n",
       "| 265.8219 | Entire home/apt | 6 | FALSE | 0 | 1 | 10 | 96 | 2 | 4.411877 | 0.3524935 |  167.7019 |  3.71551 |  467.3403 | 10.18221 | 12.53000 | 41.86700 | Rome | 1 |\n",
       "\n"
      ],
      "text/plain": [
       "      realSum  room_type       person_capacity host_is_superhost multi biz\n",
       "1     238.9905 Entire home/apt 6                TRUE             0     1  \n",
       "2     300.7943 Entire home/apt 6               FALSE             0     1  \n",
       "3     162.3819 Entire home/apt 4                TRUE             0     0  \n",
       "4     118.4377 Entire home/apt 2               FALSE             0     0  \n",
       "⋮     ⋮        ⋮               ⋮               ⋮                 ⋮     ⋮  \n",
       "13821 601.0801 Entire home/apt 2               FALSE             0     1  \n",
       "13822 582.3767 Entire home/apt 6                TRUE             0     1  \n",
       "13823 447.2448 Entire home/apt 4                TRUE             1     0  \n",
       "13824 265.8219 Entire home/apt 6               FALSE             0     1  \n",
       "      cleanliness_rating guest_satisfaction_overall bedrooms dist     \n",
       "1     10                 99                         1        0.3593550\n",
       "2      9                 98                         2        0.9294272\n",
       "3     10                 98                         1        2.4508403\n",
       "4      9                 92                         1        1.5594494\n",
       "⋮     ⋮                  ⋮                          ⋮        ⋮        \n",
       "13821 10                 92                         1        1.978217 \n",
       "13822 10                 96                         2        3.124166 \n",
       "13823 10                 98                         1        1.641598 \n",
       "13824 10                 96                         2        4.411877 \n",
       "      metro_dist attr_index attr_index_norm rest_index rest_index_norm lng     \n",
       "1     0.3526430   404.4047   24.116552      893.4773   67.65685        19.05074\n",
       "2     0.2002355  1676.8760  100.000000      452.5397   34.26770        19.04493\n",
       "3     0.2794518   163.5885    9.755551      191.9923   14.53825        19.02170\n",
       "4     0.4779711   191.7198   11.433155      326.2156   24.70205        19.06301\n",
       "⋮     ⋮          ⋮          ⋮               ⋮          ⋮               ⋮       \n",
       "13821 0.2779185   777.7236  17.23081        1979.2231  43.12247        12.47957\n",
       "13822 1.9395050   540.3414  11.97150        1985.4354  43.25782        12.46700\n",
       "13823 0.8588370  1125.8572  24.94387        1687.8958  36.77516        12.48342\n",
       "13824 0.3524935   167.7019   3.71551         467.3403  10.18221        12.53000\n",
       "      lat      city     weekend\n",
       "1     47.50076 Budapest 0      \n",
       "2     47.50405 Budapest 0      \n",
       "3     47.49882 Budapest 0      \n",
       "4     47.51126 Budapest 0      \n",
       "⋮     ⋮        ⋮        ⋮      \n",
       "13821 41.90636 Rome     1      \n",
       "13822 41.89100 Rome     1      \n",
       "13823 41.89634 Rome     1      \n",
       "13824 41.86700 Rome     1      "
      ]
     },
     "metadata": {},
     "output_type": "display_data"
    }
   ],
   "source": [
    "#helper function that manually creates the city and weekend variables, also drops any observations with missing values\n",
    "add_vars <- function(data, city, weekend) {\n",
    "    data <- mutate(data, \n",
    "                   \"city\" = city,\n",
    "                   \"weekend\" = weekend) |>\n",
    "            drop_na() \n",
    "    return(data)\n",
    "}\n",
    "\n",
    "#combining into one dataset\n",
    "london_day_vars <- add_vars(london_day, \"London\", 0)\n",
    "london_end_vars <- add_vars(london_end, \"London\", 1)\n",
    "rome_day_vars <- add_vars(rome_day, \"Rome\", 0)\n",
    "rome_end_vars <- add_vars(rome_end, \"Rome\", 1)\n",
    "budapest_day_vars <- add_vars(budapest_day, \"Budapest\", 0)\n",
    "budapest_end_vars <- add_vars(budapest_end, \"Budapest\", 1)\n",
    "airbnb <- bind_rows(london_day_vars, london_end_vars, rome_day_vars, rome_end_vars, budapest_day_vars, budapest_end_vars)\n",
    "\n",
    "#splitting data into two sets - one for variable selection and another for inference\n",
    "set.seed(9999)\n",
    "airbnb_split <- initial_split(airbnb, prop = 0.6, strata = city)\n",
    "airbnb_selection <- training(airbnb_split)\n",
    "airbnb_inference <- testing(airbnb_split)\n",
    "airbnb_selection"
   ]
  },
  {
   "cell_type": "markdown",
   "id": "a1a92897-196d-4818-88b1-3b4462468c78",
   "metadata": {},
   "source": [
    "Since `bedrooms`, `person_capacity`, and `city` are the predictors of interest, visualizing the distribution of `realSum` against each predictor allows preliminary assessments to be made on the strength of these associations and also provides a way to identify potential violations of assumptions. At this stage, it is especially important to assess assumptions such as linearity (between the response and the predictors) and homoscedasticity, as this information will help determine if certain steps need to be taken in order to apply the desired methods."
   ]
  },
  {
   "cell_type": "code",
   "execution_count": 4,
   "id": "e52d81d1-9386-4a06-bd55-f45b30ff5e23",
   "metadata": {},
   "outputs": [
    {
     "name": "stderr",
     "output_type": "stream",
     "text": [
      "\u001b[1m\u001b[22m`geom_smooth()` using formula = 'y ~ x'\n",
      "Warning message:\n",
      "\"\u001b[1m\u001b[22mRemoved 10 rows containing non-finite outside the scale range (`stat_smooth()`).\"\n",
      "Warning message:\n",
      "\"\u001b[1m\u001b[22mRemoved 10 rows containing missing values or values outside the scale range (`geom_point()`).\"\n",
      "\u001b[1m\u001b[22m`geom_smooth()` using formula = 'y ~ x'\n",
      "Warning message:\n",
      "\"\u001b[1m\u001b[22mRemoved 8 rows containing non-finite outside the scale range (`stat_smooth()`).\"\n",
      "Warning message:\n",
      "\"\u001b[1m\u001b[22mRemoved 8 rows containing missing values or values outside the scale range (`geom_point()`).\"\n",
      "Warning message:\n",
      "\"\u001b[1m\u001b[22mRemoved 8 rows containing non-finite outside the scale range (`stat_ydensity()`).\"\n"
     ]
    },
    {
     "data": {
      "image/png": "[encoded data removed]",
      "text/plain": [
       "plot without title"
      ]
     },
     "metadata": {
      "image/png": {
       "height": 720,
       "width": 1200
      }
     },
     "output_type": "display_data"
    }
   ],
   "source": [
    "#title\n",
    "title <- ggdraw() + draw_label(\"Distribution of Listing Price vs City, Number of Bedrooms, and Maximum Capacity\", fontface = \"bold\", size = 24)\n",
    "\n",
    "#distribution of listing price by city\n",
    "options(repr.plot.width = 20, repr.plot.height = 10)\n",
    "city_plot <- airbnb_selection |> \n",
    "    ggplot() + \n",
    "    geom_violin(aes(x = realSum, y = city, fill = city), linewidth = 0.7) + \n",
    "    theme(text = element_text(size = 20),\n",
    "          panel.background = element_rect(fill = \"white\"),\n",
    "          axis.line.x.top = element_blank(),\n",
    "          axis.line.y.right = element_blank(),\n",
    "          axis.line.x.bottom = element_line(),\n",
    "          axis.line.y.left = element_line(),\n",
    "          axis.text.y = element_text(angle = 90, hjust = 0.5)) +\n",
    "    labs(x = \"Listing Price (EUR)\", y = \"City\", fill = \"City\") +\n",
    "    xlim(c(0, 5000))\n",
    "\n",
    "#scatterplot of listing price vs number of bedrooms\n",
    "options(repr.plot.width = 10, repr.plot.height = 6)\n",
    "bedroom_plot <- airbnb_selection |>\n",
    "    ggplot(aes(x = bedrooms, y = realSum)) +\n",
    "    geom_point(aes(colour = city)) + \n",
    "    geom_smooth(method = lm, se = FALSE, aes(colour = city)) + \n",
    "    theme(text = element_text(size = 20),\n",
    "          panel.background = element_rect(fill = \"white\"),\n",
    "          axis.line.x.top = element_blank(),\n",
    "          axis.line.y.right = element_blank(),\n",
    "          axis.line.x.bottom = element_line(),\n",
    "          axis.line.y.left = element_line(),\n",
    "          axis.text.y = element_text(angle = 90, hjust = 0.5)) +\n",
    "    labs(x = \"Number of Bedrooms\", y = \"Listing Price (EUR)\", colour = \"City\") + \n",
    "    ylim(c(0, 4000)) + \n",
    "    xlim(c(0,5))\n",
    "\n",
    "#scatterplot of listing price vs maximum capacity\n",
    "capacity_plot <- airbnb_selection |>\n",
    "    ggplot(aes(x = person_capacity, y = realSum)) +\n",
    "    geom_point(aes(colour = city)) + \n",
    "    geom_smooth(method = lm, se = FALSE, aes(colour = city)) + \n",
    "    theme(text = element_text(size = 20),\n",
    "          panel.background = element_rect(fill = \"white\"),\n",
    "          axis.line.x.top = element_blank(),\n",
    "          axis.line.y.right = element_blank(),\n",
    "          axis.line.x.bottom = element_line(),\n",
    "          axis.line.y.left = element_line(),\n",
    "          axis.text.y = element_text(angle = 90, hjust = 0.5)) +\n",
    "    labs(x = \"Maximum Capacity\", y = \"Listing Price (EUR)\", colour = \"City\") + \n",
    "    ylim(c(0, 4000))\n",
    "\n",
    "#combining into a single plot\n",
    "options(repr.plot.width = 20, repr.plot.height = 12)\n",
    "plot_grid(title, city_plot, plot_grid(bedroom_plot, capacity_plot, ncol = 2, nrow = 1), ncol = 1, rel_heights = c(0.1, 1, 1))"
   ]
  },
  {
   "cell_type": "markdown",
   "id": "47e49062-2904-41e0-92a0-76221a1b341e",
   "metadata": {},
   "source": [
    "**Figure 1.** Plots showing the distribution of listing prices against number of bedrooms (bottom left), maximum capacity (bottom right), and city (top). The lines in both scatterplots represent the result of regressing listing price on the x-axis predictor and `city` with interaction. All three plots were generated using only the dataset designated for variable selection. The range of some variables were truncated for visual clarity."
   ]
  },
  {
   "cell_type": "markdown",
   "id": "eae3ac25-3427-455c-9bb1-db4e12772c84",
   "metadata": {},
   "source": [
    "From the plots, we can see that the distribution of listing prices for each city is heavily right skewed. Additionally, the distribution of listing prices for Rome and Budapest are very similar as both distributions have similar peaks and variances, whereas the distribution of listing prices for London has a peak that is similar to the other two cities but with a significantly greater variance. The association between listing price and `bedrooms` appears to be fairly similar between Rome and Budapest, but the association in London differs significantly compared to the other two cities. A similar pattern is observed in the association between listing price and `person_capacity`—Rome and Budapest have similar associations which differ greatly compared to the association found in London listings.\n",
    "\n",
    "The large amount of data makes it difficult to see trends in the data and thus definitively judge whether assumptions are violated. While linearity (individually) between listing price and the two numerical predictors cannot be determined for certain, at the very least, the plots do not suggest a severe violation of the linearity assumption as neither scatterplot displays a clear pattern in the data. As for homoscedasticity, the variance of listing price seems to be somewhat constant for all values of `person_capacity`. On the other hand, the variance of listing price appears to decrease significantly for listings with four or more bedrooms, though this could be due to the vast majority of listings having less than four bedrooms and/or outliers inflating the perceived variance due to the large size of the dataset. Regardless, homoscedasticity is an assumption that will need to be monitored closely."
   ]
  },
  {
   "cell_type": "markdown",
   "id": "78cf8515-a472-484e-933e-a243db206ed9",
   "metadata": {},
   "source": [
    "## Methods and Plan"
   ]
  },
  {
   "cell_type": "markdown",
   "id": "b6f57f70-2ffa-4444-b3bc-7e8a4592e5e9",
   "metadata": {},
   "source": [
    "Since the response variable is continuous with an unbounded range (at least for large positive values), multiple linear regression is the most appropriate method for modeling the relationship between listing price and the predictors of interest (`bedrooms`, `person_capacity`, and `city`). The coefficients obtained from multiple linear regression are easy to interpret, which makes it simple and straightforward to assess the association between listing price and each predictor. To ensure that the regression coefficients are unbiased, variable selection will be performed. Since there are many categorical variables and some interaction terms, the `stepAIC()` function will be used to perform (stepwise) variable selection since it evaluates the contribution of an entire variable as opposed to individual coefficients. Additionally, the dataset will need to be split to avoid the issue of using the same data to select variables and perform inference (this was done in earlier code).\n",
    "\n",
    "The assumptions required to apply multiple linear regression are:\n",
    "- A linear relationship between the response and the predictors\n",
    "- Independent residuals\n",
    "- Residuals follow a Normal distribution\n",
    "- Equal variance of residuals (homoscedasticity)\n",
    "\n",
    "A notable limitation of this method is that multicollinearity goes largely unaddressed. Given the large number of potential predictors, 18 in total, multicollinearity is very likely to be an issue to some degree. In the context of multiple linear regression and stepwise variable selection, the main approach to mitigate multicollinearity is to manually drop collinear variables before fitting the model, though this may be undesirable if collinear variables have theoretical importance. Additionally, the variables selected by `stepAIC()` will depend on the direction in which stepwise selection is performed. "
   ]
  },
  {
   "cell_type": "markdown",
   "id": "638d934f-6989-48ac-bdca-7ad4b3458746",
   "metadata": {},
   "source": [
    "## Computational Code and Output"
   ]
  },
  {
   "cell_type": "code",
   "execution_count": 5,
   "id": "ea7e540c-9984-4110-845e-5f7ec3319b04",
   "metadata": {},
   "outputs": [],
   "source": [
    "#full and null models\n",
    "null_model <- lm(realSum ~ 1, data = airbnb_selection)\n",
    "full_model <- lm(realSum ~ . + bedrooms:city + person_capacity:city, data = airbnb_selection)"
   ]
  },
  {
   "cell_type": "code",
   "execution_count": 6,
   "id": "0a5039fc-d809-4851-9fce-24f03cdea15d",
   "metadata": {},
   "outputs": [
    {
     "data": {
      "text/plain": [
       "\n",
       "Call:\n",
       "lm(formula = realSum ~ room_type + person_capacity + bedrooms + \n",
       "    metro_dist + attr_index_norm + rest_index + rest_index_norm + \n",
       "    lng + city + bedrooms:city + person_capacity:city, data = airbnb_selection)\n",
       "\n",
       "Residuals:\n",
       "    Min      1Q  Median      3Q     Max \n",
       " -908.1   -69.0   -18.2    34.1 12717.6 \n",
       "\n",
       "Coefficients:\n",
       "                             Estimate Std. Error t value Pr(>|t|)    \n",
       "(Intercept)                 3.534e+03  1.084e+03   3.262 0.001111 ** \n",
       "room_typePrivate room      -1.119e+02  6.709e+00 -16.680  < 2e-16 ***\n",
       "room_typeShared room       -1.438e+02  4.174e+01  -3.445 0.000572 ***\n",
       "person_capacity             3.402e+00  5.758e+00   0.591 0.554661    \n",
       "bedrooms                    3.552e+01  1.095e+01   3.243 0.001187 ** \n",
       "metro_dist                 -1.272e+01  2.930e+00  -4.341 1.43e-05 ***\n",
       "attr_index_norm             6.118e+00  4.357e-01  14.043  < 2e-16 ***\n",
       "rest_index                  5.074e-02  1.308e-02   3.879 0.000106 ***\n",
       "rest_index_norm            -1.954e+00  4.304e-01  -4.541 5.65e-06 ***\n",
       "lng                        -1.795e+02  5.689e+01  -3.155 0.001610 ** \n",
       "cityLondon                 -3.590e+03  1.092e+03  -3.289 0.001008 ** \n",
       "cityRome                   -1.156e+03  3.743e+02  -3.090 0.002008 ** \n",
       "bedrooms:cityLondon         1.199e+02  1.360e+01   8.818  < 2e-16 ***\n",
       "bedrooms:cityRome           1.368e+01  1.418e+01   0.965 0.334706    \n",
       "person_capacity:cityLondon  5.423e+01  6.966e+00   7.785 7.48e-15 ***\n",
       "person_capacity:cityRome   -7.007e+00  6.977e+00  -1.004 0.315245    \n",
       "---\n",
       "Signif. codes:  0 '***' 0.001 '**' 0.01 '*' 0.05 '.' 0.1 ' ' 1\n",
       "\n",
       "Residual standard error: 299.1 on 13808 degrees of freedom\n",
       "Multiple R-squared:  0.2427,\tAdjusted R-squared:  0.2418 \n",
       "F-statistic: 294.9 on 15 and 13808 DF,  p-value: < 2.2e-16\n"
      ]
     },
     "metadata": {},
     "output_type": "display_data"
    }
   ],
   "source": [
    "#stepwise selection\n",
    "n <- nrow(airbnb_selection)\n",
    "MLR_model <- stepAIC(full_model, direction = \"backward\", scope = list(lower = null_model, upper = full_model), k = log(n), trace = 0)\n",
    "summary(MLR_model)"
   ]
  },
  {
   "cell_type": "code",
   "execution_count": 7,
   "id": "9a07d574-b426-460f-bf95-6dead1e18fd1",
   "metadata": {},
   "outputs": [
    {
     "data": {
      "text/html": [
       "<table class=\"dataframe\">\n",
       "<caption>A tibble: 16 × 7</caption>\n",
       "<thead>\n",
       "\t<tr><th scope=col>term</th><th scope=col>estimate</th><th scope=col>std.error</th><th scope=col>statistic</th><th scope=col>p.value</th><th scope=col>conf.low</th><th scope=col>conf.high</th></tr>\n",
       "\t<tr><th scope=col>&lt;chr&gt;</th><th scope=col>&lt;dbl&gt;</th><th scope=col>&lt;dbl&gt;</th><th scope=col>&lt;dbl&gt;</th><th scope=col>&lt;dbl&gt;</th><th scope=col>&lt;dbl&gt;</th><th scope=col>&lt;dbl&gt;</th></tr>\n",
       "</thead>\n",
       "<tbody>\n",
       "\t<tr><td>(Intercept)               </td><td> 3533.9513</td><td>1083.5255</td><td>  3.2615</td><td>0.0011</td><td> 1410.0942</td><td> 5657.8083</td></tr>\n",
       "\t<tr><td>room_typePrivate room     </td><td> -111.9132</td><td>   6.7094</td><td>-16.6801</td><td>0.0000</td><td> -125.0646</td><td>  -98.7619</td></tr>\n",
       "\t<tr><td>room_typeShared room      </td><td> -143.8235</td><td>  41.7429</td><td> -3.4455</td><td>0.0006</td><td> -225.6452</td><td>  -62.0018</td></tr>\n",
       "\t<tr><td>person_capacity           </td><td>    3.4017</td><td>   5.7577</td><td>  0.5908</td><td>0.5547</td><td>   -7.8842</td><td>   14.6876</td></tr>\n",
       "\t<tr><td>bedrooms                  </td><td>   35.5169</td><td>  10.9527</td><td>  3.2428</td><td>0.0012</td><td>   14.0481</td><td>   56.9857</td></tr>\n",
       "\t<tr><td>metro_dist                </td><td>  -12.7184</td><td>   2.9299</td><td> -4.3409</td><td>0.0000</td><td>  -18.4614</td><td>   -6.9754</td></tr>\n",
       "\t<tr><td>attr_index_norm           </td><td>    6.1182</td><td>   0.4357</td><td> 14.0431</td><td>0.0000</td><td>    5.2642</td><td>    6.9722</td></tr>\n",
       "\t<tr><td>rest_index                </td><td>    0.0507</td><td>   0.0131</td><td>  3.8786</td><td>0.0001</td><td>    0.0251</td><td>    0.0764</td></tr>\n",
       "\t<tr><td>rest_index_norm           </td><td>   -1.9543</td><td>   0.4304</td><td> -4.5407</td><td>0.0000</td><td>   -2.7979</td><td>   -1.1107</td></tr>\n",
       "\t<tr><td>lng                       </td><td> -179.4859</td><td>  56.8929</td><td> -3.1548</td><td>0.0016</td><td> -291.0038</td><td>  -67.9680</td></tr>\n",
       "\t<tr><td>cityLondon                </td><td>-3590.0012</td><td>1091.5279</td><td> -3.2890</td><td>0.0010</td><td>-5729.5442</td><td>-1450.4582</td></tr>\n",
       "\t<tr><td>cityRome                  </td><td>-1156.3651</td><td> 374.2787</td><td> -3.0896</td><td>0.0020</td><td>-1890.0021</td><td> -422.7281</td></tr>\n",
       "\t<tr><td>bedrooms:cityLondon       </td><td>  119.9139</td><td>  13.5989</td><td>  8.8179</td><td>0.0000</td><td>   93.2583</td><td>  146.5695</td></tr>\n",
       "\t<tr><td>bedrooms:cityRome         </td><td>   13.6818</td><td>  14.1822</td><td>  0.9647</td><td>0.3347</td><td>  -14.1173</td><td>   41.4808</td></tr>\n",
       "\t<tr><td>person_capacity:cityLondon</td><td>   54.2268</td><td>   6.9658</td><td>  7.7847</td><td>0.0000</td><td>   40.5729</td><td>   67.8807</td></tr>\n",
       "\t<tr><td>person_capacity:cityRome  </td><td>   -7.0071</td><td>   6.9770</td><td> -1.0043</td><td>0.3152</td><td>  -20.6831</td><td>    6.6688</td></tr>\n",
       "</tbody>\n",
       "</table>\n"
      ],
      "text/latex": [
       "A tibble: 16 × 7\n",
       "\\begin{tabular}{lllllll}\n",
       " term & estimate & std.error & statistic & p.value & conf.low & conf.high\\\\\n",
       " <chr> & <dbl> & <dbl> & <dbl> & <dbl> & <dbl> & <dbl>\\\\\n",
       "\\hline\n",
       "\t (Intercept)                &  3533.9513 & 1083.5255 &   3.2615 & 0.0011 &  1410.0942 &  5657.8083\\\\\n",
       "\t room\\_typePrivate room      &  -111.9132 &    6.7094 & -16.6801 & 0.0000 &  -125.0646 &   -98.7619\\\\\n",
       "\t room\\_typeShared room       &  -143.8235 &   41.7429 &  -3.4455 & 0.0006 &  -225.6452 &   -62.0018\\\\\n",
       "\t person\\_capacity            &     3.4017 &    5.7577 &   0.5908 & 0.5547 &    -7.8842 &    14.6876\\\\\n",
       "\t bedrooms                   &    35.5169 &   10.9527 &   3.2428 & 0.0012 &    14.0481 &    56.9857\\\\\n",
       "\t metro\\_dist                 &   -12.7184 &    2.9299 &  -4.3409 & 0.0000 &   -18.4614 &    -6.9754\\\\\n",
       "\t attr\\_index\\_norm            &     6.1182 &    0.4357 &  14.0431 & 0.0000 &     5.2642 &     6.9722\\\\\n",
       "\t rest\\_index                 &     0.0507 &    0.0131 &   3.8786 & 0.0001 &     0.0251 &     0.0764\\\\\n",
       "\t rest\\_index\\_norm            &    -1.9543 &    0.4304 &  -4.5407 & 0.0000 &    -2.7979 &    -1.1107\\\\\n",
       "\t lng                        &  -179.4859 &   56.8929 &  -3.1548 & 0.0016 &  -291.0038 &   -67.9680\\\\\n",
       "\t cityLondon                 & -3590.0012 & 1091.5279 &  -3.2890 & 0.0010 & -5729.5442 & -1450.4582\\\\\n",
       "\t cityRome                   & -1156.3651 &  374.2787 &  -3.0896 & 0.0020 & -1890.0021 &  -422.7281\\\\\n",
       "\t bedrooms:cityLondon        &   119.9139 &   13.5989 &   8.8179 & 0.0000 &    93.2583 &   146.5695\\\\\n",
       "\t bedrooms:cityRome          &    13.6818 &   14.1822 &   0.9647 & 0.3347 &   -14.1173 &    41.4808\\\\\n",
       "\t person\\_capacity:cityLondon &    54.2268 &    6.9658 &   7.7847 & 0.0000 &    40.5729 &    67.8807\\\\\n",
       "\t person\\_capacity:cityRome   &    -7.0071 &    6.9770 &  -1.0043 & 0.3152 &   -20.6831 &     6.6688\\\\\n",
       "\\end{tabular}\n"
      ],
      "text/markdown": [
       "\n",
       "A tibble: 16 × 7\n",
       "\n",
       "| term &lt;chr&gt; | estimate &lt;dbl&gt; | std.error &lt;dbl&gt; | statistic &lt;dbl&gt; | p.value &lt;dbl&gt; | conf.low &lt;dbl&gt; | conf.high &lt;dbl&gt; |\n",
       "|---|---|---|---|---|---|---|\n",
       "| (Intercept)                |  3533.9513 | 1083.5255 |   3.2615 | 0.0011 |  1410.0942 |  5657.8083 |\n",
       "| room_typePrivate room      |  -111.9132 |    6.7094 | -16.6801 | 0.0000 |  -125.0646 |   -98.7619 |\n",
       "| room_typeShared room       |  -143.8235 |   41.7429 |  -3.4455 | 0.0006 |  -225.6452 |   -62.0018 |\n",
       "| person_capacity            |     3.4017 |    5.7577 |   0.5908 | 0.5547 |    -7.8842 |    14.6876 |\n",
       "| bedrooms                   |    35.5169 |   10.9527 |   3.2428 | 0.0012 |    14.0481 |    56.9857 |\n",
       "| metro_dist                 |   -12.7184 |    2.9299 |  -4.3409 | 0.0000 |   -18.4614 |    -6.9754 |\n",
       "| attr_index_norm            |     6.1182 |    0.4357 |  14.0431 | 0.0000 |     5.2642 |     6.9722 |\n",
       "| rest_index                 |     0.0507 |    0.0131 |   3.8786 | 0.0001 |     0.0251 |     0.0764 |\n",
       "| rest_index_norm            |    -1.9543 |    0.4304 |  -4.5407 | 0.0000 |    -2.7979 |    -1.1107 |\n",
       "| lng                        |  -179.4859 |   56.8929 |  -3.1548 | 0.0016 |  -291.0038 |   -67.9680 |\n",
       "| cityLondon                 | -3590.0012 | 1091.5279 |  -3.2890 | 0.0010 | -5729.5442 | -1450.4582 |\n",
       "| cityRome                   | -1156.3651 |  374.2787 |  -3.0896 | 0.0020 | -1890.0021 |  -422.7281 |\n",
       "| bedrooms:cityLondon        |   119.9139 |   13.5989 |   8.8179 | 0.0000 |    93.2583 |   146.5695 |\n",
       "| bedrooms:cityRome          |    13.6818 |   14.1822 |   0.9647 | 0.3347 |   -14.1173 |    41.4808 |\n",
       "| person_capacity:cityLondon |    54.2268 |    6.9658 |   7.7847 | 0.0000 |    40.5729 |    67.8807 |\n",
       "| person_capacity:cityRome   |    -7.0071 |    6.9770 |  -1.0043 | 0.3152 |   -20.6831 |     6.6688 |\n",
       "\n"
      ],
      "text/plain": [
       "   term                       estimate   std.error statistic p.value conf.low  \n",
       "1  (Intercept)                 3533.9513 1083.5255   3.2615  0.0011   1410.0942\n",
       "2  room_typePrivate room       -111.9132    6.7094 -16.6801  0.0000   -125.0646\n",
       "3  room_typeShared room        -143.8235   41.7429  -3.4455  0.0006   -225.6452\n",
       "4  person_capacity                3.4017    5.7577   0.5908  0.5547     -7.8842\n",
       "5  bedrooms                      35.5169   10.9527   3.2428  0.0012     14.0481\n",
       "6  metro_dist                   -12.7184    2.9299  -4.3409  0.0000    -18.4614\n",
       "7  attr_index_norm                6.1182    0.4357  14.0431  0.0000      5.2642\n",
       "8  rest_index                     0.0507    0.0131   3.8786  0.0001      0.0251\n",
       "9  rest_index_norm               -1.9543    0.4304  -4.5407  0.0000     -2.7979\n",
       "10 lng                         -179.4859   56.8929  -3.1548  0.0016   -291.0038\n",
       "11 cityLondon                 -3590.0012 1091.5279  -3.2890  0.0010  -5729.5442\n",
       "12 cityRome                   -1156.3651  374.2787  -3.0896  0.0020  -1890.0021\n",
       "13 bedrooms:cityLondon          119.9139   13.5989   8.8179  0.0000     93.2583\n",
       "14 bedrooms:cityRome             13.6818   14.1822   0.9647  0.3347    -14.1173\n",
       "15 person_capacity:cityLondon    54.2268    6.9658   7.7847  0.0000     40.5729\n",
       "16 person_capacity:cityRome      -7.0071    6.9770  -1.0043  0.3152    -20.6831\n",
       "   conf.high \n",
       "1   5657.8083\n",
       "2    -98.7619\n",
       "3    -62.0018\n",
       "4     14.6876\n",
       "5     56.9857\n",
       "6     -6.9754\n",
       "7      6.9722\n",
       "8      0.0764\n",
       "9     -1.1107\n",
       "10   -67.9680\n",
       "11 -1450.4582\n",
       "12  -422.7281\n",
       "13   146.5695\n",
       "14    41.4808\n",
       "15    67.8807\n",
       "16     6.6688"
      ]
     },
     "metadata": {},
     "output_type": "display_data"
    }
   ],
   "source": [
    "#summary table\n",
    "options(repr.matrix.max.rows = 16)\n",
    "options(scipen = 1)\n",
    "tidy(MLR_model, conf.level = 0.95, conf.int = TRUE) |> mutate_if(is.numeric, round, 4)"
   ]
  },
  {
   "cell_type": "markdown",
   "id": "1ccb9e18-7778-4998-a3c5-c8311b2113df",
   "metadata": {},
   "source": [
    "**Table 1.** Table containing the estimate, standard error, test statistic, p-value, and confidence interval of each selected coefficient/variable."
   ]
  },
  {
   "cell_type": "markdown",
   "id": "0eb6793e-ee54-4346-9332-99729665ab6b",
   "metadata": {},
   "source": [
    "Out of the eight regression coefficients that correspond to predictors of interest, the coefficients for `bedrooms`, `cityLondon`, `cityRome`, `bedrooms:cityLondon`, and `person_capacity:cityLondon` are statistically significant at the 95% significance level, whereas the coefficients for `person_capacity`, `bedrooms:cityRome`, and `person_capacity:cityRome` are not statistically significant at the 95% significance level. For the most part, these results align with what was observed in Figure 1, as two of the three estimated coefficients that compare Rome to Budapest are not statistically significant at the 95% significance level, while all three of the estimated coefficients that compare London to Budapest are statistically significant at the 95% significance level. However, these results are not completely as expected—multicollinearity seems to be an issue since the coefficients for the intercept, `cityLondon`, and `cityRome` have very large estimates and standard errors compared to the other coefficients. A quick theoretical analysis of the selected variables suggests that removing variables such as `lng` could help mitigate multicollinearity without losing relevant information, since the longitude of a listing is likely to be highly correlated with what city the listing is in."
   ]
  },
  {
   "cell_type": "markdown",
   "id": "b6f976aa-1006-4601-b2e0-50babed633eb",
   "metadata": {},
   "source": [
    "## References"
   ]
  },
  {
   "cell_type": "markdown",
   "id": "3141f681-6046-4750-82a6-6593c0e15fb3",
   "metadata": {},
   "source": [
    "- Gyódi, K., & Nawaro, Ł. (2021). Determinants of Airbnb prices in European cities: A spatial econometrics approach. Tourism Management, 86, 104319. https://doi.org/10.1016/j.tourman.2021.104319"
   ]
  }
 ],
 "metadata": {
  "kernelspec": {
   "display_name": "R",
   "language": "R",
   "name": "ir"
  },
  "language_info": {
   "codemirror_mode": "r",
   "file_extension": ".r",
   "mimetype": "text/x-r-source",
   "name": "R",
   "pygments_lexer": "r",
   "version": "4.5.0"
  }
 },
 "nbformat": 4,
 "nbformat_minor": 5
}
