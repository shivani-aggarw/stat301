{
 "cells": [
  {
   "cell_type": "code",
   "execution_count": 1,
   "id": "2acaa4a5-a48c-4663-bd66-d2bd716b7ee2",
   "metadata": {},
   "outputs": [
    {
     "name": "stderr",
     "output_type": "stream",
     "text": [
      "Warning message:\n",
      "\"package 'MASS' was built under R version 4.4.3\"\n",
      "Warning message:\n",
      "\"package 'httr' was built under R version 4.4.3\"\n",
      "Loading required package: carData\n",
      "\n",
      "Warning message:\n",
      "\"package 'glmnet' was built under R version 4.4.3\"\n",
      "Loading required package: Matrix\n",
      "\n",
      "Loaded glmnet 4.1-8\n",
      "\n",
      "Warning message:\n",
      "\"package 'mltools' was built under R version 4.4.3\"\n",
      "Warning message:\n",
      "\"package 'tidyverse' was built under R version 4.4.3\"\n",
      "── \u001b[1mAttaching core tidyverse packages\u001b[22m ──────────────────────────────────────────────────────────────── tidyverse 2.0.0 ──\n",
      "\u001b[32m✔\u001b[39m \u001b[34mdplyr    \u001b[39m 1.1.4     \u001b[32m✔\u001b[39m \u001b[34mreadr    \u001b[39m 2.1.5\n",
      "\u001b[32m✔\u001b[39m \u001b[34mforcats  \u001b[39m 1.0.0     \u001b[32m✔\u001b[39m \u001b[34mstringr  \u001b[39m 1.5.1\n",
      "\u001b[32m✔\u001b[39m \u001b[34mggplot2  \u001b[39m 3.5.1     \u001b[32m✔\u001b[39m \u001b[34mtibble   \u001b[39m 3.2.1\n",
      "\u001b[32m✔\u001b[39m \u001b[34mlubridate\u001b[39m 1.9.3     \u001b[32m✔\u001b[39m \u001b[34mtidyr    \u001b[39m 1.3.1\n",
      "\u001b[32m✔\u001b[39m \u001b[34mpurrr    \u001b[39m 1.0.2     \n",
      "── \u001b[1mConflicts\u001b[22m ────────────────────────────────────────────────────────────────────────────────── tidyverse_conflicts() ──\n",
      "\u001b[31m✖\u001b[39m \u001b[34mtidyr\u001b[39m::\u001b[32mexpand()\u001b[39m     masks \u001b[34mMatrix\u001b[39m::expand()\n",
      "\u001b[31m✖\u001b[39m \u001b[34mdplyr\u001b[39m::\u001b[32mfilter()\u001b[39m     masks \u001b[34mstats\u001b[39m::filter()\n",
      "\u001b[31m✖\u001b[39m \u001b[34mdplyr\u001b[39m::\u001b[32mlag()\u001b[39m        masks \u001b[34mstats\u001b[39m::lag()\n",
      "\u001b[31m✖\u001b[39m \u001b[34mtidyr\u001b[39m::\u001b[32mpack()\u001b[39m       masks \u001b[34mMatrix\u001b[39m::pack()\n",
      "\u001b[31m✖\u001b[39m \u001b[34mdplyr\u001b[39m::\u001b[32mrecode()\u001b[39m     masks \u001b[34mcar\u001b[39m::recode()\n",
      "\u001b[31m✖\u001b[39m \u001b[34mtidyr\u001b[39m::\u001b[32mreplace_na()\u001b[39m masks \u001b[34mmltools\u001b[39m::replace_na()\n",
      "\u001b[31m✖\u001b[39m \u001b[34mdplyr\u001b[39m::\u001b[32mselect()\u001b[39m     masks \u001b[34mMASS\u001b[39m::select()\n",
      "\u001b[31m✖\u001b[39m \u001b[34mpurrr\u001b[39m::\u001b[32msome()\u001b[39m       masks \u001b[34mcar\u001b[39m::some()\n",
      "\u001b[31m✖\u001b[39m \u001b[34mtidyr\u001b[39m::\u001b[32munpack()\u001b[39m     masks \u001b[34mMatrix\u001b[39m::unpack()\n",
      "\u001b[36mℹ\u001b[39m Use the conflicted package (\u001b[3m\u001b[34m<http://conflicted.r-lib.org/>\u001b[39m\u001b[23m) to force all conflicts to become errors\n"
     ]
    }
   ],
   "source": [
    "#loading packages\n",
    "\n",
    "#install.packages(\"MASS\")\n",
    "#install.packages(\"httr\")\n",
    "#install.packages(\"ggridges\")\n",
    "#install.packages(\"car\")\n",
    "#install.packages(\"rsample\")\n",
    "#install.packages(\"glmnet\")\n",
    "#install.packages(\"cowplot\")\n",
    "#install.packages(\"broom\")\n",
    "#install.packages(\"mltools\")\n",
    "#install.packages(\"tidyverse\")\n",
    "library(MASS)\n",
    "library(httr)\n",
    "#library(ggridges)\n",
    "library(car)\n",
    "#library(rsample)\n",
    "library(glmnet)\n",
    "#library(cowplot)\n",
    "#library(broom)\n",
    "library(mltools)\n",
    "library(tidyverse)\n",
    "options(repr.matrix.max.rows = 8)"
   ]
  },
  {
   "cell_type": "code",
   "execution_count": 2,
   "id": "8007691a-7e00-4d77-91fc-164db934fcb4",
   "metadata": {},
   "outputs": [
    {
     "name": "stderr",
     "output_type": "stream",
     "text": [
      "\u001b[1m\u001b[22mNew names:\n",
      "\u001b[36m•\u001b[39m `` -> `...1`\n",
      "\u001b[1mRows: \u001b[22m\u001b[34m4614\u001b[39m \u001b[1mColumns: \u001b[22m\u001b[34m20\u001b[39m\n",
      "\u001b[36m──\u001b[39m \u001b[1mColumn specification\u001b[22m \u001b[36m────────────────────────────────────────────────────────────────────────────────────────────────\u001b[39m\n",
      "\u001b[1mDelimiter:\u001b[22m \",\"\n",
      "\u001b[31mchr\u001b[39m  (1): room_type\n",
      "\u001b[32mdbl\u001b[39m (16): ...1, realSum, person_capacity, multi, biz, cleanliness_rating, gu...\n",
      "\u001b[33mlgl\u001b[39m  (3): room_shared, room_private, host_is_superhost\n",
      "\n",
      "\u001b[36mℹ\u001b[39m Use `spec()` to retrieve the full column specification for this data.\n",
      "\u001b[36mℹ\u001b[39m Specify the column types or set `show_col_types = FALSE` to quiet this message.\n",
      "\u001b[1m\u001b[22mNew names:\n",
      "\u001b[36m•\u001b[39m `` -> `...1`\n",
      "\u001b[1mRows: \u001b[22m\u001b[34m5379\u001b[39m \u001b[1mColumns: \u001b[22m\u001b[34m20\u001b[39m\n",
      "\u001b[36m──\u001b[39m \u001b[1mColumn specification\u001b[22m \u001b[36m────────────────────────────────────────────────────────────────────────────────────────────────\u001b[39m\n",
      "\u001b[1mDelimiter:\u001b[22m \",\"\n",
      "\u001b[31mchr\u001b[39m  (1): room_type\n",
      "\u001b[32mdbl\u001b[39m (16): ...1, realSum, person_capacity, multi, biz, cleanliness_rating, gu...\n",
      "\u001b[33mlgl\u001b[39m  (3): room_shared, room_private, host_is_superhost\n",
      "\n",
      "\u001b[36mℹ\u001b[39m Use `spec()` to retrieve the full column specification for this data.\n",
      "\u001b[36mℹ\u001b[39m Specify the column types or set `show_col_types = FALSE` to quiet this message.\n",
      "\u001b[1m\u001b[22mNew names:\n",
      "\u001b[36m•\u001b[39m `` -> `...1`\n",
      "\u001b[1mRows: \u001b[22m\u001b[34m4492\u001b[39m \u001b[1mColumns: \u001b[22m\u001b[34m20\u001b[39m\n",
      "\u001b[36m──\u001b[39m \u001b[1mColumn specification\u001b[22m \u001b[36m────────────────────────────────────────────────────────────────────────────────────────────────\u001b[39m\n",
      "\u001b[1mDelimiter:\u001b[22m \",\"\n",
      "\u001b[31mchr\u001b[39m  (1): room_type\n",
      "\u001b[32mdbl\u001b[39m (16): ...1, realSum, person_capacity, multi, biz, cleanliness_rating, gu...\n",
      "\u001b[33mlgl\u001b[39m  (3): room_shared, room_private, host_is_superhost\n",
      "\n",
      "\u001b[36mℹ\u001b[39m Use `spec()` to retrieve the full column specification for this data.\n",
      "\u001b[36mℹ\u001b[39m Specify the column types or set `show_col_types = FALSE` to quiet this message.\n",
      "\u001b[1m\u001b[22mNew names:\n",
      "\u001b[36m•\u001b[39m `` -> `...1`\n",
      "\u001b[1mRows: \u001b[22m\u001b[34m4535\u001b[39m \u001b[1mColumns: \u001b[22m\u001b[34m20\u001b[39m\n",
      "\u001b[36m──\u001b[39m \u001b[1mColumn specification\u001b[22m \u001b[36m────────────────────────────────────────────────────────────────────────────────────────────────\u001b[39m\n",
      "\u001b[1mDelimiter:\u001b[22m \",\"\n",
      "\u001b[31mchr\u001b[39m  (1): room_type\n",
      "\u001b[32mdbl\u001b[39m (16): ...1, realSum, person_capacity, multi, biz, cleanliness_rating, gu...\n",
      "\u001b[33mlgl\u001b[39m  (3): room_shared, room_private, host_is_superhost\n",
      "\n",
      "\u001b[36mℹ\u001b[39m Use `spec()` to retrieve the full column specification for this data.\n",
      "\u001b[36mℹ\u001b[39m Specify the column types or set `show_col_types = FALSE` to quiet this message.\n",
      "\u001b[1m\u001b[22mNew names:\n",
      "\u001b[36m•\u001b[39m `` -> `...1`\n",
      "\u001b[1mRows: \u001b[22m\u001b[34m2074\u001b[39m \u001b[1mColumns: \u001b[22m\u001b[34m20\u001b[39m\n",
      "\u001b[36m──\u001b[39m \u001b[1mColumn specification\u001b[22m \u001b[36m────────────────────────────────────────────────────────────────────────────────────────────────\u001b[39m\n",
      "\u001b[1mDelimiter:\u001b[22m \",\"\n",
      "\u001b[31mchr\u001b[39m  (1): room_type\n",
      "\u001b[32mdbl\u001b[39m (16): ...1, realSum, person_capacity, multi, biz, cleanliness_rating, gu...\n",
      "\u001b[33mlgl\u001b[39m  (3): room_shared, room_private, host_is_superhost\n",
      "\n",
      "\u001b[36mℹ\u001b[39m Use `spec()` to retrieve the full column specification for this data.\n",
      "\u001b[36mℹ\u001b[39m Specify the column types or set `show_col_types = FALSE` to quiet this message.\n",
      "\u001b[1m\u001b[22mNew names:\n",
      "\u001b[36m•\u001b[39m `` -> `...1`\n",
      "\u001b[1mRows: \u001b[22m\u001b[34m1948\u001b[39m \u001b[1mColumns: \u001b[22m\u001b[34m20\u001b[39m\n",
      "\u001b[36m──\u001b[39m \u001b[1mColumn specification\u001b[22m \u001b[36m────────────────────────────────────────────────────────────────────────────────────────────────\u001b[39m\n",
      "\u001b[1mDelimiter:\u001b[22m \",\"\n",
      "\u001b[31mchr\u001b[39m  (1): room_type\n",
      "\u001b[32mdbl\u001b[39m (16): ...1, realSum, person_capacity, multi, biz, cleanliness_rating, gu...\n",
      "\u001b[33mlgl\u001b[39m  (3): room_shared, room_private, host_is_superhost\n",
      "\n",
      "\u001b[36mℹ\u001b[39m Use `spec()` to retrieve the full column specification for this data.\n",
      "\u001b[36mℹ\u001b[39m Specify the column types or set `show_col_types = FALSE` to quiet this message.\n"
     ]
    }
   ],
   "source": [
    "#loading in data for london, rome, and budapest listings from the web\n",
    "url1 <- 'https://www.kaggle.com/api/v1/datasets/download/thedevastator/airbnb-prices-in-european-cities/london_weekdays.csv'\n",
    "url2 <- 'https://www.kaggle.com/api/v1/datasets/download/thedevastator/airbnb-prices-in-european-cities/london_weekends.csv'\n",
    "url3 <- 'https://www.kaggle.com/api/v1/datasets/download/thedevastator/airbnb-prices-in-european-cities/rome_weekdays.csv'\n",
    "url4 <- 'https://www.kaggle.com/api/v1/datasets/download/thedevastator/airbnb-prices-in-european-cities/rome_weekends.csv'\n",
    "url5 <- 'https://www.kaggle.com/api/v1/datasets/download/thedevastator/airbnb-prices-in-european-cities/budapest_weekdays.csv'\n",
    "url6 <- 'https://www.kaggle.com/api/v1/datasets/download/thedevastator/airbnb-prices-in-european-cities/budapest_weekends.csv'\n",
    "\n",
    "download <- function(url) {\n",
    "    temp <- tempfile(fileext = '.csv')\n",
    "    GET(url, write_disk(temp))\n",
    "    data <- read_delim(temp, skip = 0, delim = \",\")\n",
    "    return(data)\n",
    "}\n",
    "\n",
    "london_day <- download(url1)\n",
    "london_end <- download(url2)\n",
    "rome_day <- download(url3)\n",
    "rome_end <- download(url4)\n",
    "budapest_day <- download(url5)\n",
    "budapest_end <- download(url6)"
   ]
  },
  {
   "cell_type": "code",
   "execution_count": 3,
   "id": "4f0dee89-2671-41cd-8a73-de185581a699",
   "metadata": {},
   "outputs": [
    {
     "data": {
      "text/html": [
       "<table class=\"dataframe\">\n",
       "<caption>A tibble: 13825 × 19</caption>\n",
       "<thead>\n",
       "\t<tr><th scope=col>realSum</th><th scope=col>room_type</th><th scope=col>person_capacity</th><th scope=col>host_is_superhost</th><th scope=col>multi</th><th scope=col>biz</th><th scope=col>cleanliness_rating</th><th scope=col>guest_satisfaction_overall</th><th scope=col>bedrooms</th><th scope=col>dist</th><th scope=col>metro_dist</th><th scope=col>attr_index</th><th scope=col>attr_index_norm</th><th scope=col>rest_index</th><th scope=col>rest_index_norm</th><th scope=col>lng</th><th scope=col>lat</th><th scope=col>city</th><th scope=col>weekend</th></tr>\n",
       "\t<tr><th scope=col>&lt;dbl&gt;</th><th scope=col>&lt;chr&gt;</th><th scope=col>&lt;dbl&gt;</th><th scope=col>&lt;lgl&gt;</th><th scope=col>&lt;dbl&gt;</th><th scope=col>&lt;dbl&gt;</th><th scope=col>&lt;dbl&gt;</th><th scope=col>&lt;dbl&gt;</th><th scope=col>&lt;dbl&gt;</th><th scope=col>&lt;dbl&gt;</th><th scope=col>&lt;dbl&gt;</th><th scope=col>&lt;dbl&gt;</th><th scope=col>&lt;dbl&gt;</th><th scope=col>&lt;dbl&gt;</th><th scope=col>&lt;dbl&gt;</th><th scope=col>&lt;dbl&gt;</th><th scope=col>&lt;dbl&gt;</th><th scope=col>&lt;chr&gt;</th><th scope=col>&lt;dbl&gt;</th></tr>\n",
       "</thead>\n",
       "<tbody>\n",
       "\t<tr><td> 92.11418</td><td>Private room   </td><td>2</td><td>FALSE</td><td>0</td><td>0</td><td>10</td><td>100</td><td>1</td><td>4.882852</td><td>2.0903951</td><td>244.9399</td><td> 5.427916</td><td> 668.2052</td><td>14.54871</td><td>12.4575</td><td>41.87234</td><td>Rome    </td><td>0</td></tr>\n",
       "\t<tr><td>180.00658</td><td>Entire home/apt</td><td>6</td><td>FALSE</td><td>0</td><td>0</td><td> 9</td><td> 92</td><td>1</td><td>1.845461</td><td>0.4056151</td><td>326.7423</td><td>19.485181</td><td> 274.6771</td><td>20.79940</td><td>19.0300</td><td>47.50100</td><td>Budapest</td><td>0</td></tr>\n",
       "\t<tr><td>251.56056</td><td>Entire home/apt</td><td>5</td><td>FALSE</td><td>0</td><td>1</td><td> 9</td><td> 95</td><td>1</td><td>2.239840</td><td>0.5201043</td><td>645.0867</td><td>14.295249</td><td>1616.5255</td><td>35.19631</td><td>12.4770</td><td>41.90800</td><td>Rome    </td><td>0</td></tr>\n",
       "\t<tr><td>195.91799</td><td>Entire home/apt</td><td>3</td><td> TRUE</td><td>0</td><td>0</td><td> 9</td><td> 99</td><td>1</td><td>2.261410</td><td>0.1300020</td><td>575.5465</td><td>12.754225</td><td>1063.6974</td><td>23.15969</td><td>12.4870</td><td>41.88400</td><td>Rome    </td><td>0</td></tr>\n",
       "\t<tr><td>⋮</td><td>⋮</td><td>⋮</td><td>⋮</td><td>⋮</td><td>⋮</td><td>⋮</td><td>⋮</td><td>⋮</td><td>⋮</td><td>⋮</td><td>⋮</td><td>⋮</td><td>⋮</td><td>⋮</td><td>⋮</td><td>⋮</td><td>⋮</td><td>⋮</td></tr>\n",
       "\t<tr><td>195.9180</td><td>Entire home/apt</td><td>4</td><td>FALSE</td><td>0</td><td>1</td><td>10</td><td>95</td><td>1</td><td>2.802646</td><td>1.6872206</td><td>629.0960</td><td>13.94089</td><td>2356.1297</td><td>51.29958</td><td>12.47081</td><td>41.89166</td><td>Rome    </td><td>0</td></tr>\n",
       "\t<tr><td>251.0930</td><td>Entire home/apt</td><td>5</td><td>FALSE</td><td>0</td><td>1</td><td> 9</td><td>92</td><td>1</td><td>2.085412</td><td>0.3675287</td><td>670.2653</td><td>14.85321</td><td>1559.5123</td><td>33.95497</td><td>12.47900</td><td>41.90800</td><td>Rome    </td><td>0</td></tr>\n",
       "\t<tr><td>167.6897</td><td>Private room   </td><td>2</td><td> TRUE</td><td>1</td><td>0</td><td>10</td><td>99</td><td>1</td><td>2.598554</td><td>0.3229886</td><td>411.9052</td><td>28.63199</td><td> 690.4995</td><td>12.36397</td><td>-0.10128</td><td>51.49167</td><td>London  </td><td>0</td></tr>\n",
       "\t<tr><td>177.1866</td><td>Entire home/apt</td><td>4</td><td>FALSE</td><td>0</td><td>0</td><td> 9</td><td>90</td><td>0</td><td>1.751475</td><td>0.1475408</td><td>174.2593</td><td>10.40048</td><td> 300.5346</td><td>26.27212</td><td>19.06915</td><td>47.51064</td><td>Budapest</td><td>1</td></tr>\n",
       "</tbody>\n",
       "</table>\n"
      ],
      "text/latex": [
       "A tibble: 13825 × 19\n",
       "\\begin{tabular}{lllllllllllllllllll}\n",
       " realSum & room\\_type & person\\_capacity & host\\_is\\_superhost & multi & biz & cleanliness\\_rating & guest\\_satisfaction\\_overall & bedrooms & dist & metro\\_dist & attr\\_index & attr\\_index\\_norm & rest\\_index & rest\\_index\\_norm & lng & lat & city & weekend\\\\\n",
       " <dbl> & <chr> & <dbl> & <lgl> & <dbl> & <dbl> & <dbl> & <dbl> & <dbl> & <dbl> & <dbl> & <dbl> & <dbl> & <dbl> & <dbl> & <dbl> & <dbl> & <chr> & <dbl>\\\\\n",
       "\\hline\n",
       "\t  92.11418 & Private room    & 2 & FALSE & 0 & 0 & 10 & 100 & 1 & 4.882852 & 2.0903951 & 244.9399 &  5.427916 &  668.2052 & 14.54871 & 12.4575 & 41.87234 & Rome     & 0\\\\\n",
       "\t 180.00658 & Entire home/apt & 6 & FALSE & 0 & 0 &  9 &  92 & 1 & 1.845461 & 0.4056151 & 326.7423 & 19.485181 &  274.6771 & 20.79940 & 19.0300 & 47.50100 & Budapest & 0\\\\\n",
       "\t 251.56056 & Entire home/apt & 5 & FALSE & 0 & 1 &  9 &  95 & 1 & 2.239840 & 0.5201043 & 645.0867 & 14.295249 & 1616.5255 & 35.19631 & 12.4770 & 41.90800 & Rome     & 0\\\\\n",
       "\t 195.91799 & Entire home/apt & 3 &  TRUE & 0 & 0 &  9 &  99 & 1 & 2.261410 & 0.1300020 & 575.5465 & 12.754225 & 1063.6974 & 23.15969 & 12.4870 & 41.88400 & Rome     & 0\\\\\n",
       "\t ⋮ & ⋮ & ⋮ & ⋮ & ⋮ & ⋮ & ⋮ & ⋮ & ⋮ & ⋮ & ⋮ & ⋮ & ⋮ & ⋮ & ⋮ & ⋮ & ⋮ & ⋮ & ⋮\\\\\n",
       "\t 195.9180 & Entire home/apt & 4 & FALSE & 0 & 1 & 10 & 95 & 1 & 2.802646 & 1.6872206 & 629.0960 & 13.94089 & 2356.1297 & 51.29958 & 12.47081 & 41.89166 & Rome     & 0\\\\\n",
       "\t 251.0930 & Entire home/apt & 5 & FALSE & 0 & 1 &  9 & 92 & 1 & 2.085412 & 0.3675287 & 670.2653 & 14.85321 & 1559.5123 & 33.95497 & 12.47900 & 41.90800 & Rome     & 0\\\\\n",
       "\t 167.6897 & Private room    & 2 &  TRUE & 1 & 0 & 10 & 99 & 1 & 2.598554 & 0.3229886 & 411.9052 & 28.63199 &  690.4995 & 12.36397 & -0.10128 & 51.49167 & London   & 0\\\\\n",
       "\t 177.1866 & Entire home/apt & 4 & FALSE & 0 & 0 &  9 & 90 & 0 & 1.751475 & 0.1475408 & 174.2593 & 10.40048 &  300.5346 & 26.27212 & 19.06915 & 47.51064 & Budapest & 1\\\\\n",
       "\\end{tabular}\n"
      ],
      "text/markdown": [
       "\n",
       "A tibble: 13825 × 19\n",
       "\n",
       "| realSum &lt;dbl&gt; | room_type &lt;chr&gt; | person_capacity &lt;dbl&gt; | host_is_superhost &lt;lgl&gt; | multi &lt;dbl&gt; | biz &lt;dbl&gt; | cleanliness_rating &lt;dbl&gt; | guest_satisfaction_overall &lt;dbl&gt; | bedrooms &lt;dbl&gt; | dist &lt;dbl&gt; | metro_dist &lt;dbl&gt; | attr_index &lt;dbl&gt; | attr_index_norm &lt;dbl&gt; | rest_index &lt;dbl&gt; | rest_index_norm &lt;dbl&gt; | lng &lt;dbl&gt; | lat &lt;dbl&gt; | city &lt;chr&gt; | weekend &lt;dbl&gt; |\n",
       "|---|---|---|---|---|---|---|---|---|---|---|---|---|---|---|---|---|---|---|\n",
       "|  92.11418 | Private room    | 2 | FALSE | 0 | 0 | 10 | 100 | 1 | 4.882852 | 2.0903951 | 244.9399 |  5.427916 |  668.2052 | 14.54871 | 12.4575 | 41.87234 | Rome     | 0 |\n",
       "| 180.00658 | Entire home/apt | 6 | FALSE | 0 | 0 |  9 |  92 | 1 | 1.845461 | 0.4056151 | 326.7423 | 19.485181 |  274.6771 | 20.79940 | 19.0300 | 47.50100 | Budapest | 0 |\n",
       "| 251.56056 | Entire home/apt | 5 | FALSE | 0 | 1 |  9 |  95 | 1 | 2.239840 | 0.5201043 | 645.0867 | 14.295249 | 1616.5255 | 35.19631 | 12.4770 | 41.90800 | Rome     | 0 |\n",
       "| 195.91799 | Entire home/apt | 3 |  TRUE | 0 | 0 |  9 |  99 | 1 | 2.261410 | 0.1300020 | 575.5465 | 12.754225 | 1063.6974 | 23.15969 | 12.4870 | 41.88400 | Rome     | 0 |\n",
       "| ⋮ | ⋮ | ⋮ | ⋮ | ⋮ | ⋮ | ⋮ | ⋮ | ⋮ | ⋮ | ⋮ | ⋮ | ⋮ | ⋮ | ⋮ | ⋮ | ⋮ | ⋮ | ⋮ |\n",
       "| 195.9180 | Entire home/apt | 4 | FALSE | 0 | 1 | 10 | 95 | 1 | 2.802646 | 1.6872206 | 629.0960 | 13.94089 | 2356.1297 | 51.29958 | 12.47081 | 41.89166 | Rome     | 0 |\n",
       "| 251.0930 | Entire home/apt | 5 | FALSE | 0 | 1 |  9 | 92 | 1 | 2.085412 | 0.3675287 | 670.2653 | 14.85321 | 1559.5123 | 33.95497 | 12.47900 | 41.90800 | Rome     | 0 |\n",
       "| 167.6897 | Private room    | 2 |  TRUE | 1 | 0 | 10 | 99 | 1 | 2.598554 | 0.3229886 | 411.9052 | 28.63199 |  690.4995 | 12.36397 | -0.10128 | 51.49167 | London   | 0 |\n",
       "| 177.1866 | Entire home/apt | 4 | FALSE | 0 | 0 |  9 | 90 | 0 | 1.751475 | 0.1475408 | 174.2593 | 10.40048 |  300.5346 | 26.27212 | 19.06915 | 47.51064 | Budapest | 1 |\n",
       "\n"
      ],
      "text/plain": [
       "      realSum   room_type       person_capacity host_is_superhost multi biz\n",
       "1      92.11418 Private room    2               FALSE             0     0  \n",
       "2     180.00658 Entire home/apt 6               FALSE             0     0  \n",
       "3     251.56056 Entire home/apt 5               FALSE             0     1  \n",
       "4     195.91799 Entire home/apt 3                TRUE             0     0  \n",
       "⋮     ⋮         ⋮               ⋮               ⋮                 ⋮     ⋮  \n",
       "13822 195.9180  Entire home/apt 4               FALSE             0     1  \n",
       "13823 251.0930  Entire home/apt 5               FALSE             0     1  \n",
       "13824 167.6897  Private room    2                TRUE             1     0  \n",
       "13825 177.1866  Entire home/apt 4               FALSE             0     0  \n",
       "      cleanliness_rating guest_satisfaction_overall bedrooms dist    \n",
       "1     10                 100                        1        4.882852\n",
       "2      9                  92                        1        1.845461\n",
       "3      9                  95                        1        2.239840\n",
       "4      9                  99                        1        2.261410\n",
       "⋮     ⋮                  ⋮                          ⋮        ⋮       \n",
       "13822 10                 95                         1        2.802646\n",
       "13823  9                 92                         1        2.085412\n",
       "13824 10                 99                         1        2.598554\n",
       "13825  9                 90                         0        1.751475\n",
       "      metro_dist attr_index attr_index_norm rest_index rest_index_norm lng     \n",
       "1     2.0903951  244.9399    5.427916        668.2052  14.54871        12.4575 \n",
       "2     0.4056151  326.7423   19.485181        274.6771  20.79940        19.0300 \n",
       "3     0.5201043  645.0867   14.295249       1616.5255  35.19631        12.4770 \n",
       "4     0.1300020  575.5465   12.754225       1063.6974  23.15969        12.4870 \n",
       "⋮     ⋮          ⋮          ⋮               ⋮          ⋮               ⋮       \n",
       "13822 1.6872206  629.0960   13.94089        2356.1297  51.29958        12.47081\n",
       "13823 0.3675287  670.2653   14.85321        1559.5123  33.95497        12.47900\n",
       "13824 0.3229886  411.9052   28.63199         690.4995  12.36397        -0.10128\n",
       "13825 0.1475408  174.2593   10.40048         300.5346  26.27212        19.06915\n",
       "      lat      city     weekend\n",
       "1     41.87234 Rome     0      \n",
       "2     47.50100 Budapest 0      \n",
       "3     41.90800 Rome     0      \n",
       "4     41.88400 Rome     0      \n",
       "⋮     ⋮        ⋮        ⋮      \n",
       "13822 41.89166 Rome     0      \n",
       "13823 41.90800 Rome     0      \n",
       "13824 51.49167 London   0      \n",
       "13825 47.51064 Budapest 1      "
      ]
     },
     "metadata": {},
     "output_type": "display_data"
    }
   ],
   "source": [
    "#helper function that manually creates the city and weekend variables, also drops any observations with missing values\n",
    "add_vars <- function(data, city, weekend) {\n",
    "    data <- mutate(data, \n",
    "                   \"city\" = city,\n",
    "                   \"weekend\" = weekend) |>\n",
    "            drop_na() \n",
    "    return(data)\n",
    "}\n",
    "\n",
    "#combining into one dataset\n",
    "london_day_vars <- add_vars(london_day, \"London\", 0)\n",
    "london_end_vars <- add_vars(london_end, \"London\", 1)\n",
    "rome_day_vars <- add_vars(rome_day, \"Rome\", 0)\n",
    "rome_end_vars <- add_vars(rome_end, \"Rome\", 1)\n",
    "budapest_day_vars <- add_vars(budapest_day, \"Budapest\", 0)\n",
    "budapest_end_vars <- add_vars(budapest_end, \"Budapest\", 1)\n",
    "airbnb_raw <- bind_rows(london_day_vars, london_end_vars, rome_day_vars, rome_end_vars, budapest_day_vars, budapest_end_vars)\n",
    "\n",
    "#removing unnecessary variables, creating temporary variable \"ID\"\n",
    "airbnb <- airbnb_raw |> \n",
    "    select(-c(1, room_shared, room_private)) |>\n",
    "    mutate(\"ID\" = row_number())\n",
    "\n",
    "#splitting data into three sets - one for training, one for validation, one for testing\n",
    "set.seed(9999)\n",
    "airbnb_training <- slice_sample(airbnb, prop = 0.6)   # 60% of the data\n",
    "airbnb_remaining <- anti_join(airbnb, airbnb_training, by = \"ID\")\n",
    "airbnb_validation <- slice_sample(airbnb_remaining, prop = 0.5)   # 20% of the data\n",
    "airbnb_testing <- anti_join(airbnb_remaining, airbnb_validation, by = \"ID\")   # 20% of the data\n",
    "\n",
    "#dropping ID\n",
    "airbnb_training <- select(airbnb_training, -ID)\n",
    "airbnb_validation <- select(airbnb_validation, -ID)\n",
    "airbnb_testing <- select(airbnb_testing, -ID)\n",
    "\n",
    "airbnb_training"
   ]
  },
  {
   "cell_type": "code",
   "execution_count": 4,
   "id": "f7894cc1-cfb4-4315-8dfe-d85a354fecc4",
   "metadata": {},
   "outputs": [
    {
     "data": {
      "text/html": [
       "<table class=\"dataframe\">\n",
       "<caption>A matrix: 18 × 3 of type dbl</caption>\n",
       "<thead>\n",
       "\t<tr><th></th><th scope=col>GVIF</th><th scope=col>Df</th><th scope=col>GVIF^(1/(2*Df))</th></tr>\n",
       "</thead>\n",
       "<tbody>\n",
       "\t<tr><th scope=row>room_type</th><td>1.703424e+00</td><td>2</td><td>  1.142433</td></tr>\n",
       "\t<tr><th scope=row>person_capacity</th><td>2.182325e+00</td><td>1</td><td>  1.477269</td></tr>\n",
       "\t<tr><th scope=row>host_is_superhost</th><td>1.149242e+00</td><td>1</td><td>  1.072027</td></tr>\n",
       "\t<tr><th scope=row>multi</th><td>1.439391e+00</td><td>1</td><td>  1.199746</td></tr>\n",
       "\t<tr><th scope=row>biz</th><td>1.598287e+00</td><td>1</td><td>  1.264234</td></tr>\n",
       "\t<tr><th scope=row>cleanliness_rating</th><td>2.323325e+00</td><td>1</td><td>  1.524246</td></tr>\n",
       "\t<tr><th scope=row>guest_satisfaction_overall</th><td>2.407902e+00</td><td>1</td><td>  1.551742</td></tr>\n",
       "\t<tr><th scope=row>bedrooms</th><td>1.572273e+00</td><td>1</td><td>  1.253903</td></tr>\n",
       "\t<tr><th scope=row>dist</th><td>4.797324e+00</td><td>1</td><td>  2.190279</td></tr>\n",
       "\t<tr><th scope=row>metro_dist</th><td>2.177066e+00</td><td>1</td><td>  1.475488</td></tr>\n",
       "\t<tr><th scope=row>attr_index</th><td>6.917159e+00</td><td>1</td><td>  2.630049</td></tr>\n",
       "\t<tr><th scope=row>attr_index_norm</th><td>7.059692e+00</td><td>1</td><td>  2.657008</td></tr>\n",
       "\t<tr><th scope=row>rest_index</th><td>9.884976e+00</td><td>1</td><td>  3.144038</td></tr>\n",
       "\t<tr><th scope=row>rest_index_norm</th><td>6.862976e+00</td><td>1</td><td>  2.619728</td></tr>\n",
       "\t<tr><th scope=row>lng</th><td>2.966355e+04</td><td>1</td><td>172.231092</td></tr>\n",
       "\t<tr><th scope=row>lat</th><td>3.692917e+04</td><td>1</td><td>192.169631</td></tr>\n",
       "\t<tr><th scope=row>city</th><td>5.127500e+08</td><td>2</td><td>150.479177</td></tr>\n",
       "\t<tr><th scope=row>weekend</th><td>1.010995e+00</td><td>1</td><td>  1.005482</td></tr>\n",
       "</tbody>\n",
       "</table>\n"
      ],
      "text/latex": [
       "A matrix: 18 × 3 of type dbl\n",
       "\\begin{tabular}{r|lll}\n",
       "  & GVIF & Df & GVIF\\textasciicircum{}(1/(2*Df))\\\\\n",
       "\\hline\n",
       "\troom\\_type & 1.703424e+00 & 2 &   1.142433\\\\\n",
       "\tperson\\_capacity & 2.182325e+00 & 1 &   1.477269\\\\\n",
       "\thost\\_is\\_superhost & 1.149242e+00 & 1 &   1.072027\\\\\n",
       "\tmulti & 1.439391e+00 & 1 &   1.199746\\\\\n",
       "\tbiz & 1.598287e+00 & 1 &   1.264234\\\\\n",
       "\tcleanliness\\_rating & 2.323325e+00 & 1 &   1.524246\\\\\n",
       "\tguest\\_satisfaction\\_overall & 2.407902e+00 & 1 &   1.551742\\\\\n",
       "\tbedrooms & 1.572273e+00 & 1 &   1.253903\\\\\n",
       "\tdist & 4.797324e+00 & 1 &   2.190279\\\\\n",
       "\tmetro\\_dist & 2.177066e+00 & 1 &   1.475488\\\\\n",
       "\tattr\\_index & 6.917159e+00 & 1 &   2.630049\\\\\n",
       "\tattr\\_index\\_norm & 7.059692e+00 & 1 &   2.657008\\\\\n",
       "\trest\\_index & 9.884976e+00 & 1 &   3.144038\\\\\n",
       "\trest\\_index\\_norm & 6.862976e+00 & 1 &   2.619728\\\\\n",
       "\tlng & 2.966355e+04 & 1 & 172.231092\\\\\n",
       "\tlat & 3.692917e+04 & 1 & 192.169631\\\\\n",
       "\tcity & 5.127500e+08 & 2 & 150.479177\\\\\n",
       "\tweekend & 1.010995e+00 & 1 &   1.005482\\\\\n",
       "\\end{tabular}\n"
      ],
      "text/markdown": [
       "\n",
       "A matrix: 18 × 3 of type dbl\n",
       "\n",
       "| <!--/--> | GVIF | Df | GVIF^(1/(2*Df)) |\n",
       "|---|---|---|---|\n",
       "| room_type | 1.703424e+00 | 2 |   1.142433 |\n",
       "| person_capacity | 2.182325e+00 | 1 |   1.477269 |\n",
       "| host_is_superhost | 1.149242e+00 | 1 |   1.072027 |\n",
       "| multi | 1.439391e+00 | 1 |   1.199746 |\n",
       "| biz | 1.598287e+00 | 1 |   1.264234 |\n",
       "| cleanliness_rating | 2.323325e+00 | 1 |   1.524246 |\n",
       "| guest_satisfaction_overall | 2.407902e+00 | 1 |   1.551742 |\n",
       "| bedrooms | 1.572273e+00 | 1 |   1.253903 |\n",
       "| dist | 4.797324e+00 | 1 |   2.190279 |\n",
       "| metro_dist | 2.177066e+00 | 1 |   1.475488 |\n",
       "| attr_index | 6.917159e+00 | 1 |   2.630049 |\n",
       "| attr_index_norm | 7.059692e+00 | 1 |   2.657008 |\n",
       "| rest_index | 9.884976e+00 | 1 |   3.144038 |\n",
       "| rest_index_norm | 6.862976e+00 | 1 |   2.619728 |\n",
       "| lng | 2.966355e+04 | 1 | 172.231092 |\n",
       "| lat | 3.692917e+04 | 1 | 192.169631 |\n",
       "| city | 5.127500e+08 | 2 | 150.479177 |\n",
       "| weekend | 1.010995e+00 | 1 |   1.005482 |\n",
       "\n"
      ],
      "text/plain": [
       "                           GVIF         Df GVIF^(1/(2*Df))\n",
       "room_type                  1.703424e+00 2    1.142433     \n",
       "person_capacity            2.182325e+00 1    1.477269     \n",
       "host_is_superhost          1.149242e+00 1    1.072027     \n",
       "multi                      1.439391e+00 1    1.199746     \n",
       "biz                        1.598287e+00 1    1.264234     \n",
       "cleanliness_rating         2.323325e+00 1    1.524246     \n",
       "guest_satisfaction_overall 2.407902e+00 1    1.551742     \n",
       "bedrooms                   1.572273e+00 1    1.253903     \n",
       "dist                       4.797324e+00 1    2.190279     \n",
       "metro_dist                 2.177066e+00 1    1.475488     \n",
       "attr_index                 6.917159e+00 1    2.630049     \n",
       "attr_index_norm            7.059692e+00 1    2.657008     \n",
       "rest_index                 9.884976e+00 1    3.144038     \n",
       "rest_index_norm            6.862976e+00 1    2.619728     \n",
       "lng                        2.966355e+04 1  172.231092     \n",
       "lat                        3.692917e+04 1  192.169631     \n",
       "city                       5.127500e+08 2  150.479177     \n",
       "weekend                    1.010995e+00 1    1.005482     "
      ]
     },
     "metadata": {},
     "output_type": "display_data"
    },
    {
     "data": {
      "text/html": [
       "<table class=\"dataframe\">\n",
       "<caption>A matrix: 14 × 3 of type dbl</caption>\n",
       "<thead>\n",
       "\t<tr><th></th><th scope=col>GVIF</th><th scope=col>Df</th><th scope=col>GVIF^(1/(2*Df))</th></tr>\n",
       "</thead>\n",
       "<tbody>\n",
       "\t<tr><th scope=row>room_type</th><td>1.679058</td><td>2</td><td>1.138325</td></tr>\n",
       "\t<tr><th scope=row>person_capacity</th><td>2.181159</td><td>1</td><td>1.476875</td></tr>\n",
       "\t<tr><th scope=row>host_is_superhost</th><td>1.145996</td><td>1</td><td>1.070512</td></tr>\n",
       "\t<tr><th scope=row>multi</th><td>1.437650</td><td>1</td><td>1.199020</td></tr>\n",
       "\t<tr><th scope=row>biz</th><td>1.593196</td><td>1</td><td>1.262219</td></tr>\n",
       "\t<tr><th scope=row>cleanliness_rating</th><td>2.319002</td><td>1</td><td>1.522827</td></tr>\n",
       "\t<tr><th scope=row>guest_satisfaction_overall</th><td>2.405313</td><td>1</td><td>1.550907</td></tr>\n",
       "\t<tr><th scope=row>bedrooms</th><td>1.571290</td><td>1</td><td>1.253511</td></tr>\n",
       "\t<tr><th scope=row>dist</th><td>3.701048</td><td>1</td><td>1.923811</td></tr>\n",
       "\t<tr><th scope=row>metro_dist</th><td>1.928981</td><td>1</td><td>1.388877</td></tr>\n",
       "\t<tr><th scope=row>attr_index</th><td>3.859564</td><td>1</td><td>1.964577</td></tr>\n",
       "\t<tr><th scope=row>rest_index</th><td>4.784449</td><td>1</td><td>2.187338</td></tr>\n",
       "\t<tr><th scope=row>city</th><td>2.954860</td><td>2</td><td>1.311095</td></tr>\n",
       "\t<tr><th scope=row>weekend</th><td>1.003156</td><td>1</td><td>1.001577</td></tr>\n",
       "</tbody>\n",
       "</table>\n"
      ],
      "text/latex": [
       "A matrix: 14 × 3 of type dbl\n",
       "\\begin{tabular}{r|lll}\n",
       "  & GVIF & Df & GVIF\\textasciicircum{}(1/(2*Df))\\\\\n",
       "\\hline\n",
       "\troom\\_type & 1.679058 & 2 & 1.138325\\\\\n",
       "\tperson\\_capacity & 2.181159 & 1 & 1.476875\\\\\n",
       "\thost\\_is\\_superhost & 1.145996 & 1 & 1.070512\\\\\n",
       "\tmulti & 1.437650 & 1 & 1.199020\\\\\n",
       "\tbiz & 1.593196 & 1 & 1.262219\\\\\n",
       "\tcleanliness\\_rating & 2.319002 & 1 & 1.522827\\\\\n",
       "\tguest\\_satisfaction\\_overall & 2.405313 & 1 & 1.550907\\\\\n",
       "\tbedrooms & 1.571290 & 1 & 1.253511\\\\\n",
       "\tdist & 3.701048 & 1 & 1.923811\\\\\n",
       "\tmetro\\_dist & 1.928981 & 1 & 1.388877\\\\\n",
       "\tattr\\_index & 3.859564 & 1 & 1.964577\\\\\n",
       "\trest\\_index & 4.784449 & 1 & 2.187338\\\\\n",
       "\tcity & 2.954860 & 2 & 1.311095\\\\\n",
       "\tweekend & 1.003156 & 1 & 1.001577\\\\\n",
       "\\end{tabular}\n"
      ],
      "text/markdown": [
       "\n",
       "A matrix: 14 × 3 of type dbl\n",
       "\n",
       "| <!--/--> | GVIF | Df | GVIF^(1/(2*Df)) |\n",
       "|---|---|---|---|\n",
       "| room_type | 1.679058 | 2 | 1.138325 |\n",
       "| person_capacity | 2.181159 | 1 | 1.476875 |\n",
       "| host_is_superhost | 1.145996 | 1 | 1.070512 |\n",
       "| multi | 1.437650 | 1 | 1.199020 |\n",
       "| biz | 1.593196 | 1 | 1.262219 |\n",
       "| cleanliness_rating | 2.319002 | 1 | 1.522827 |\n",
       "| guest_satisfaction_overall | 2.405313 | 1 | 1.550907 |\n",
       "| bedrooms | 1.571290 | 1 | 1.253511 |\n",
       "| dist | 3.701048 | 1 | 1.923811 |\n",
       "| metro_dist | 1.928981 | 1 | 1.388877 |\n",
       "| attr_index | 3.859564 | 1 | 1.964577 |\n",
       "| rest_index | 4.784449 | 1 | 2.187338 |\n",
       "| city | 2.954860 | 2 | 1.311095 |\n",
       "| weekend | 1.003156 | 1 | 1.001577 |\n",
       "\n"
      ],
      "text/plain": [
       "                           GVIF     Df GVIF^(1/(2*Df))\n",
       "room_type                  1.679058 2  1.138325       \n",
       "person_capacity            2.181159 1  1.476875       \n",
       "host_is_superhost          1.145996 1  1.070512       \n",
       "multi                      1.437650 1  1.199020       \n",
       "biz                        1.593196 1  1.262219       \n",
       "cleanliness_rating         2.319002 1  1.522827       \n",
       "guest_satisfaction_overall 2.405313 1  1.550907       \n",
       "bedrooms                   1.571290 1  1.253511       \n",
       "dist                       3.701048 1  1.923811       \n",
       "metro_dist                 1.928981 1  1.388877       \n",
       "attr_index                 3.859564 1  1.964577       \n",
       "rest_index                 4.784449 1  2.187338       \n",
       "city                       2.954860 2  1.311095       \n",
       "weekend                    1.003156 1  1.001577       "
      ]
     },
     "metadata": {},
     "output_type": "display_data"
    }
   ],
   "source": [
    "#checking multicollinearity\n",
    "options(repr.matrix.max.rows = 18)\n",
    "pre_vif <- vif(lm(realSum ~., data = airbnb_training))\n",
    "pre_vif\n",
    "\n",
    "airbnb_training <- select(airbnb_training, -c(attr_index_norm, rest_index_norm, lng, lat))\n",
    "airbnb_validation <- select(airbnb_validation, -c(attr_index_norm, rest_index_norm, lng, lat))\n",
    "airbnb_testing <- select(airbnb_testing, -c(attr_index_norm, rest_index_norm, lng, lat))\n",
    "\n",
    "post_vif <- vif(lm(realSum ~., data = airbnb_training))\n",
    "post_vif"
   ]
  },
  {
   "cell_type": "code",
   "execution_count": 5,
   "id": "b70a5700-fc64-4748-bbaa-a4c79abbd7d2",
   "metadata": {},
   "outputs": [],
   "source": [
    "#full and null models\n",
    "null_model <- lm(realSum ~ 1, data = airbnb_training)\n",
    "full_model <- lm(realSum ~ ., data = airbnb_training)\n",
    "training_matrix <- model.matrix(object = realSum ~ ., data = airbnb_training)[, -1]"
   ]
  },
  {
   "cell_type": "code",
   "execution_count": 6,
   "id": "4dbadcfe-3ca4-4522-8746-67d84740d58b",
   "metadata": {},
   "outputs": [
    {
     "data": {
      "text/plain": [
       "\n",
       "Call:\n",
       "lm(formula = realSum ~ room_type + person_capacity + bedrooms + \n",
       "    dist + attr_index + city, data = airbnb_training)\n",
       "\n",
       "Residuals:\n",
       "    Min      1Q  Median      3Q     Max \n",
       " -620.9   -93.9   -28.3    49.9 12660.7 \n",
       "\n",
       "Coefficients:\n",
       "                        Estimate Std. Error t value Pr(>|t|)    \n",
       "(Intercept)             12.98938   11.95500   1.087 0.277267    \n",
       "room_typePrivate room -125.48429    6.76781 -18.541  < 2e-16 ***\n",
       "room_typeShared room  -150.74375   42.89725  -3.514 0.000443 ***\n",
       "person_capacity         18.58496    2.91564   6.374 1.90e-10 ***\n",
       "bedrooms               104.43279    5.55834  18.788  < 2e-16 ***\n",
       "dist                   -17.65810    1.42245 -12.414  < 2e-16 ***\n",
       "attr_index               0.13856    0.01383  10.017  < 2e-16 ***\n",
       "cityLondon             306.58317    9.66328  31.727  < 2e-16 ***\n",
       "cityRome                39.11397    9.15215   4.274 1.94e-05 ***\n",
       "---\n",
       "Signif. codes:  0 '***' 0.001 '**' 0.01 '*' 0.05 '.' 0.1 ' ' 1\n",
       "\n",
       "Residual standard error: 307.8 on 13816 degrees of freedom\n",
       "Multiple R-squared:  0.2084,\tAdjusted R-squared:  0.208 \n",
       "F-statistic: 454.7 on 8 and 13816 DF,  p-value: < 2.2e-16\n"
      ]
     },
     "metadata": {},
     "output_type": "display_data"
    }
   ],
   "source": [
    "#stepwise training\n",
    "n <- nrow(airbnb_training)\n",
    "stepwise_model <- stepAIC(full_model, direction = \"backward\", scope = list(lower = null_model, upper = full_model), k = log(n), trace = 0)\n",
    "summary(stepwise_model)"
   ]
  },
  {
   "cell_type": "code",
   "execution_count": 7,
   "id": "eeb0862f-7045-46f8-b80c-ec61308173b5",
   "metadata": {},
   "outputs": [
    {
     "data": {
      "text/plain": [
       "17 x 1 sparse Matrix of class \"dgCMatrix\"\n",
       "                                      s1\n",
       "(Intercept)                 -58.75863800\n",
       "room_typePrivate room      -122.10881709\n",
       "room_typeShared room       -142.22410629\n",
       "person_capacity              18.22726884\n",
       "host_is_superhostTRUE        -9.48745381\n",
       "multi                         0.28026860\n",
       "biz                           5.30806750\n",
       "cleanliness_rating            0.01453976\n",
       "guest_satisfaction_overall    0.64833233\n",
       "bedrooms                    104.91726671\n",
       "dist                        -12.35759477\n",
       "metro_dist                  -11.17855602\n",
       "attr_index                    0.10635658\n",
       "rest_index                    0.02885870\n",
       "cityLondon                  285.68056561\n",
       "cityRome                     20.21914342\n",
       "weekend                      10.69876343"
      ]
     },
     "metadata": {},
     "output_type": "display_data"
    },
    {
     "data": {
      "text/html": [
       "0.349371773180447"
      ],
      "text/latex": [
       "0.349371773180447"
      ],
      "text/markdown": [
       "0.349371773180447"
      ],
      "text/plain": [
       "[1] 0.3493718"
      ]
     },
     "metadata": {},
     "output_type": "display_data"
    }
   ],
   "source": [
    "#LASSO training\n",
    "lasso_model <- cv.glmnet(x = training_matrix, y = airbnb_training$realSum, alpha = 1)\n",
    "coef(lasso_model, s = \"lambda.min\")\n",
    "lasso_model$lambda.min"
   ]
  },
  {
   "cell_type": "code",
   "execution_count": 8,
   "id": "de03ecbd-8662-4a18-ae86-836d1e7d2809",
   "metadata": {},
   "outputs": [
    {
     "data": {
      "text/plain": [
       "17 x 1 sparse Matrix of class \"dgCMatrix\"\n",
       "                                      s1\n",
       "(Intercept)                 -59.65382437\n",
       "room_typePrivate room      -116.19795603\n",
       "room_typeShared room       -142.88522412\n",
       "person_capacity              18.96307291\n",
       "host_is_superhostTRUE       -11.72463250\n",
       "multi                         0.85492757\n",
       "biz                           6.29450250\n",
       "cleanliness_rating            0.53892311\n",
       "guest_satisfaction_overall    0.59946916\n",
       "bedrooms                    102.98316847\n",
       "dist                         -9.68911871\n",
       "metro_dist                  -13.78570684\n",
       "attr_index                    0.10864913\n",
       "rest_index                    0.03504473\n",
       "cityLondon                  263.11056063\n",
       "cityRome                      4.31505310\n",
       "weekend                      11.49273389"
      ]
     },
     "metadata": {},
     "output_type": "display_data"
    },
    {
     "data": {
      "text/html": [
       "8.45524503195333"
      ],
      "text/latex": [
       "8.45524503195333"
      ],
      "text/markdown": [
       "8.45524503195333"
      ],
      "text/plain": [
       "[1] 8.455245"
      ]
     },
     "metadata": {},
     "output_type": "display_data"
    }
   ],
   "source": [
    "#ridge training\n",
    "ridge_model <- cv.glmnet(x = training_matrix, y = airbnb_training$realSum, alpha = 0)\n",
    "coef(ridge_model, s = \"lambda.min\")\n",
    "ridge_model$lambda.min"
   ]
  },
  {
   "cell_type": "code",
   "execution_count": 9,
   "id": "e9f98799-3304-49a3-959a-8f3a081321b4",
   "metadata": {},
   "outputs": [
    {
     "data": {
      "text/html": [
       "<table class=\"dataframe\">\n",
       "<caption>A tibble: 3 × 2</caption>\n",
       "<thead>\n",
       "\t<tr><th scope=col>Model</th><th scope=col>RMSE</th></tr>\n",
       "\t<tr><th scope=col>&lt;chr&gt;</th><th scope=col>&lt;dbl&gt;</th></tr>\n",
       "</thead>\n",
       "<tbody>\n",
       "\t<tr><td>Multiple Linear Regression with Stepwise Selection</td><td>243.5199</td></tr>\n",
       "\t<tr><td>LASSO Regression with Minimum MSE                 </td><td>243.3032</td></tr>\n",
       "\t<tr><td>Ridge Regression with Minimum MSE                 </td><td>243.2194</td></tr>\n",
       "</tbody>\n",
       "</table>\n"
      ],
      "text/latex": [
       "A tibble: 3 × 2\n",
       "\\begin{tabular}{ll}\n",
       " Model & RMSE\\\\\n",
       " <chr> & <dbl>\\\\\n",
       "\\hline\n",
       "\t Multiple Linear Regression with Stepwise Selection & 243.5199\\\\\n",
       "\t LASSO Regression with Minimum MSE                  & 243.3032\\\\\n",
       "\t Ridge Regression with Minimum MSE                  & 243.2194\\\\\n",
       "\\end{tabular}\n"
      ],
      "text/markdown": [
       "\n",
       "A tibble: 3 × 2\n",
       "\n",
       "| Model &lt;chr&gt; | RMSE &lt;dbl&gt; |\n",
       "|---|---|\n",
       "| Multiple Linear Regression with Stepwise Selection | 243.5199 |\n",
       "| LASSO Regression with Minimum MSE                  | 243.3032 |\n",
       "| Ridge Regression with Minimum MSE                  | 243.2194 |\n",
       "\n"
      ],
      "text/plain": [
       "  Model                                              RMSE    \n",
       "1 Multiple Linear Regression with Stepwise Selection 243.5199\n",
       "2 LASSO Regression with Minimum MSE                  243.3032\n",
       "3 Ridge Regression with Minimum MSE                  243.2194"
      ]
     },
     "metadata": {},
     "output_type": "display_data"
    }
   ],
   "source": [
    "#validation\n",
    "validation_matrix <- model.matrix(object = realSum ~ ., data = airbnb_validation)[, -1]\n",
    "stepwise_preds <- predict(stepwise_model, newdata = airbnb_validation)\n",
    "lasso_preds <- predict(lasso_model, newx = validation_matrix, s = \"lambda.min\")\n",
    "ridge_preds <- predict(ridge_model, newx = validation_matrix, s = \"lambda.min\")\n",
    "\n",
    "validation_rmse <- tibble(\n",
    "    Model = c(\"Multiple Linear Regression with Stepwise Selection\", \"LASSO Regression with Minimum MSE\", \"Ridge Regression with Minimum MSE\"),\n",
    "    RMSE = c(rmse(stepwise_preds, airbnb_validation$realSum), rmse(lasso_preds, airbnb_validation$realSum), rmse(ridge_preds, airbnb_validation$realSum))\n",
    ")\n",
    "\n",
    "validation_rmse"
   ]
  },
  {
   "cell_type": "code",
   "execution_count": 10,
   "id": "88335ec6-410b-4f4e-bee2-000c3c614f12",
   "metadata": {},
   "outputs": [
    {
     "data": {
      "text/html": [
       "345.823937759754"
      ],
      "text/latex": [
       "345.823937759754"
      ],
      "text/markdown": [
       "345.823937759754"
      ],
      "text/plain": [
       "[1] 345.8239"
      ]
     },
     "metadata": {},
     "output_type": "display_data"
    }
   ],
   "source": [
    "#for comparison\n",
    "sd(airbnb_training$realSum)"
   ]
  },
  {
   "cell_type": "code",
   "execution_count": 11,
   "id": "f7244075-828e-4b28-a260-dd5c027c1807",
   "metadata": {},
   "outputs": [],
   "source": [
    "#testing\n",
    "testing_matrix <- model.matrix(object = realSum ~ ., data = airbnb_testing)[, -1]\n",
    "\n",
    "#uncomment RMSE for the chosen model\n",
    "#final_preds <- predict(stepwise_model, newdata = airbnb_testing)\n",
    "#final_preds <- predict(lasso_model, newx = testing_matrix, s = \"lambda.min\")\n",
    "#final_preds <- predict(ridge_model, newx = testing_matrix, s = \"lambda.min\")\n",
    "#rmse(final_preds, airbnb_testing$realSum)"
   ]
  },
  {
   "cell_type": "code",
   "execution_count": null,
   "id": "00db6886-0c5f-4202-99a7-9385e95b0bab",
   "metadata": {},
   "outputs": [],
   "source": []
  }
 ],
 "metadata": {
  "kernelspec": {
   "display_name": "R",
   "language": "R",
   "name": "ir"
  },
  "language_info": {
   "codemirror_mode": "r",
   "file_extension": ".r",
   "mimetype": "text/x-r-source",
   "name": "R",
   "pygments_lexer": "r",
   "version": "4.5.0"
  }
 },
 "nbformat": 4,
 "nbformat_minor": 5
}
