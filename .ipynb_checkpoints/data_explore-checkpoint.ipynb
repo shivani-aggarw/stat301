{
 "cells": [
  {
   "cell_type": "markdown",
   "id": "f5a064b2",
   "metadata": {},
   "source": [
    "# STAT 301 Group Assignment - Planning Stage\n",
    "**Type**: Individual Assignment <br>\n",
    "**Group members**: Tina Yu, Anthony Leong, Brian Ni <br> \n",
    "**TA**: Yian Lin\n",
    "\n",
    "## Data Description\n",
    "### Airbnb Prices in European Cities\n",
    "This dataset provides information about Airbnb listings and their prices in 10 popular European cities - Amsterdam, Athens, Barcelona, Berlin, Budapest, Lisbon, London, Paris, Rome, Vienna. The listing prices are attributed to several characteristics such as room types, cleanliness and satisfaction ratings, number of bedrooms, and such on weekdays and weekends. Each city has two .csv files - for weekdays and weekends each.\n",
    "\n",
    "The dataset includes the variables as shown in the table below: \n",
    "\n",
    "| Variable | Description | Type |\n",
    "| -------- | ----------- | ---- |\n",
    "|`realSum`| The total price of the Airbnb listing| Numeric|\n",
    "|`room_type`| The type of room being offered (private, shared, etc.)| Categorical|\n",
    "|`room_shared`|\tWhether the room is shared or not| Boolean|\n",
    "|`room_private`| Whether the room is private or not| Boolean|\n",
    "|`person_capacity`|\tThe maximum number of people that can stay in the room| Numeric|\n",
    "|`host_is_superhost`|Whether the host is a superhost or not | Boolean|\n",
    "|`multi`|\tWhether the listing is for multiple rooms or not | Boolean|\n",
    "|`biz`|\tWhether the listing is for business purposes or not |Boolean|\n",
    "|`cleanliness_rating`|\tThe cleanliness rating of the listing |Numeric|\n",
    "|`guest_satisfaction_overall`|\tThe overall guest satisfaction rating of the listing | Numeric|\n",
    "|`bedrooms`|\tThe number of bedrooms in the listing |Numeric|\n",
    "|`dist`|\tThe distance from the city centre |Numeric|\n",
    "|`metro_dist`|\tThe distance from the nearest metro station |Numeric|\n",
    "|`lng`|\tThe longitude of the listing |Numeric|\n",
    "|`lat`|\tThe latitude of the listing |Numeric|\n",
    "\n",
    "For the purpose of this assignment, we will use weekdays and weekends data from only 3 cities - Budapest, London, and Rome. This warrants the relevance of 6 csv files with different number of observations. Below is a list of the observations in each file.\n",
    "- `budapest_weekdays.csv`: 2074\n",
    "- `budapest_weekends.csv`: 1948\n",
    "- `london_weekdays.csv`: 4614\n",
    "- `london_weekends.csv`: 5379\n",
    "- `rome_weekdays.csv`: 4492\n",
    "- `rome_weekends.csv`: 4535\n",
    "\n",
    "This dataset is scraped off of a bigger dataset published in the article \"Determinants of Airbnb prices in European cities:  A spatial econometrics approach\" ([DOI link](https://doi.org/10.1016/j.tourman.2021.104319)) authored by Kristóf Gyódi and Łukasz1 Nawaro and published on January 13, 2021\n",
    "\n",
    "## Question\n",
    "a) Clearly state the question you want try to answer using the dataset. Your question should involve one random variable of interest (the response) and more than one explanatory variables in the dataset. <br>\n",
    "Does cleanliness rating have a stronger impact on satisfaction in one city compared to others?\n",
    "<br>\n",
    "\n",
    "b) Explain whether your question is focused on prediction, inference, or both."
   ]
  },
  {
   "cell_type": "code",
   "execution_count": 5,
   "id": "c0bfae2c",
   "metadata": {
    "vscode": {
     "languageId": "r"
    }
   },
   "outputs": [
    {
     "name": "stderr",
     "output_type": "stream",
     "text": [
      "also installing the dependencies 'rbibutils', 'Rdpack', 'minqa', 'nloptr', 'reformulas', 'RcppEigen', 'lme4', 'abind', 'coda'\n",
      "\n",
      "\n"
     ]
    },
    {
     "name": "stdout",
     "output_type": "stream",
     "text": [
      "\n",
      "The downloaded binary packages are in\n",
      "\t/var/folders/j5/xd6t99yn7q979grv_gc_5cg80000gn/T//RtmpzvxrbD/downloaded_packages\n"
     ]
    },
    {
     "name": "stderr",
     "output_type": "stream",
     "text": [
      "Warning message:\n",
      "\"package 'arm' was built under R version 4.3.1\"\n",
      "Loading required package: MASS\n",
      "\n",
      "\n",
      "Attaching package: 'MASS'\n",
      "\n",
      "\n",
      "The following object is masked from 'package:dplyr':\n",
      "\n",
      "    select\n",
      "\n",
      "\n",
      "Loading required package: Matrix\n",
      "\n",
      "\n",
      "Attaching package: 'Matrix'\n",
      "\n",
      "\n",
      "The following objects are masked from 'package:tidyr':\n",
      "\n",
      "    expand, pack, unpack\n",
      "\n",
      "\n",
      "Loading required package: lme4\n",
      "\n",
      "Warning message:\n",
      "\"package 'lme4' was built under R version 4.3.3\"\n",
      "Warning message in check_dep_version():\n",
      "\"ABI version mismatch: \n",
      "lme4 was built with Matrix ABI version 1\n",
      "Current Matrix ABI version is 0\n",
      "Please re-install lme4 from source or restore original 'Matrix' package\"\n",
      "\n",
      "arm (Version 1.14-4, built: 2024-4-1)\n",
      "\n",
      "\n",
      "Working directory is /Users/shivaniaggarwal/Library/CloudStorage/OneDrive-UBC/UBC/2024W2/STAT301/Assignment/stat301\n",
      "\n",
      "\n"
     ]
    }
   ],
   "source": [
    "library(tidyverse)\n",
    "library(tidyverse)\n",
    "library(repr)\n",
    "library(broom)\n",
    "install.packages(\"arm\")\n",
    "library(arm)"
   ]
  },
  {
   "cell_type": "code",
   "execution_count": 10,
   "id": "a9e572af",
   "metadata": {
    "vscode": {
     "languageId": "r"
    }
   },
   "outputs": [
    {
     "data": {
      "text/html": [
       "<table class=\"dataframe\">\n",
       "<caption>A data.frame: 6 x 20</caption>\n",
       "<thead>\n",
       "\t<tr><th></th><th scope=col>X</th><th scope=col>realSum</th><th scope=col>room_type</th><th scope=col>room_shared</th><th scope=col>room_private</th><th scope=col>person_capacity</th><th scope=col>host_is_superhost</th><th scope=col>multi</th><th scope=col>biz</th><th scope=col>cleanliness_rating</th><th scope=col>guest_satisfaction_overall</th><th scope=col>bedrooms</th><th scope=col>dist</th><th scope=col>metro_dist</th><th scope=col>attr_index</th><th scope=col>attr_index_norm</th><th scope=col>rest_index</th><th scope=col>rest_index_norm</th><th scope=col>lng</th><th scope=col>lat</th></tr>\n",
       "\t<tr><th></th><th scope=col>&lt;int&gt;</th><th scope=col>&lt;dbl&gt;</th><th scope=col>&lt;chr&gt;</th><th scope=col>&lt;chr&gt;</th><th scope=col>&lt;chr&gt;</th><th scope=col>&lt;dbl&gt;</th><th scope=col>&lt;chr&gt;</th><th scope=col>&lt;int&gt;</th><th scope=col>&lt;int&gt;</th><th scope=col>&lt;dbl&gt;</th><th scope=col>&lt;dbl&gt;</th><th scope=col>&lt;int&gt;</th><th scope=col>&lt;dbl&gt;</th><th scope=col>&lt;dbl&gt;</th><th scope=col>&lt;dbl&gt;</th><th scope=col>&lt;dbl&gt;</th><th scope=col>&lt;dbl&gt;</th><th scope=col>&lt;dbl&gt;</th><th scope=col>&lt;dbl&gt;</th><th scope=col>&lt;dbl&gt;</th></tr>\n",
       "</thead>\n",
       "<tbody>\n",
       "\t<tr><th scope=row>1</th><td>0</td><td>570.0981</td><td>Entire home/apt</td><td>False</td><td>False</td><td>2</td><td>False</td><td>0</td><td>0</td><td>10</td><td> 98</td><td>1</td><td>5.301018</td><td>1.5889904</td><td>209.6326</td><td>14.57179</td><td>467.5975</td><td> 8.372724</td><td>-0.16032</td><td>51.46531</td></tr>\n",
       "\t<tr><th scope=row>2</th><td>1</td><td>297.9844</td><td>Private room   </td><td>False</td><td>True </td><td>2</td><td>True </td><td>1</td><td>0</td><td>10</td><td> 99</td><td>1</td><td>2.198946</td><td>0.3792620</td><td>553.8917</td><td>38.50163</td><td>961.4721</td><td>17.215961</td><td>-0.09683</td><td>51.50343</td></tr>\n",
       "\t<tr><th scope=row>3</th><td>2</td><td>336.7906</td><td>Private room   </td><td>False</td><td>True </td><td>2</td><td>False</td><td>1</td><td>0</td><td>10</td><td> 96</td><td>1</td><td>2.322958</td><td>0.4531776</td><td>428.2878</td><td>29.77076</td><td>959.0428</td><td>17.172462</td><td>-0.10554</td><td>51.52407</td></tr>\n",
       "\t<tr><th scope=row>4</th><td>3</td><td>226.7222</td><td>Private room   </td><td>False</td><td>True </td><td>2</td><td>True </td><td>1</td><td>0</td><td>10</td><td> 99</td><td>1</td><td>5.707825</td><td>1.7239771</td><td>195.6947</td><td>13.60296</td><td>452.2325</td><td> 8.097600</td><td>-0.16575</td><td>51.46292</td></tr>\n",
       "\t<tr><th scope=row>5</th><td>4</td><td>256.3560</td><td>Private room   </td><td>False</td><td>True </td><td>3</td><td>False</td><td>0</td><td>0</td><td> 9</td><td> 98</td><td>1</td><td>3.257945</td><td>0.8254172</td><td>329.4771</td><td>22.90232</td><td>735.3273</td><td>13.166649</td><td>-0.12055</td><td>51.53728</td></tr>\n",
       "\t<tr><th scope=row>6</th><td>5</td><td>239.8928</td><td>Private room   </td><td>False</td><td>True </td><td>2</td><td>False</td><td>0</td><td>0</td><td>10</td><td>100</td><td>1</td><td>5.085730</td><td>1.8062181</td><td>226.7250</td><td>15.75990</td><td>486.7371</td><td> 8.715433</td><td>-0.17241</td><td>51.47222</td></tr>\n",
       "</tbody>\n",
       "</table>\n"
      ],
      "text/latex": [
       "A data.frame: 6 x 20\n",
       "\\begin{tabular}{r|llllllllllllllllllll}\n",
       "  & X & realSum & room\\_type & room\\_shared & room\\_private & person\\_capacity & host\\_is\\_superhost & multi & biz & cleanliness\\_rating & guest\\_satisfaction\\_overall & bedrooms & dist & metro\\_dist & attr\\_index & attr\\_index\\_norm & rest\\_index & rest\\_index\\_norm & lng & lat\\\\\n",
       "  & <int> & <dbl> & <chr> & <chr> & <chr> & <dbl> & <chr> & <int> & <int> & <dbl> & <dbl> & <int> & <dbl> & <dbl> & <dbl> & <dbl> & <dbl> & <dbl> & <dbl> & <dbl>\\\\\n",
       "\\hline\n",
       "\t1 & 0 & 570.0981 & Entire home/apt & False & False & 2 & False & 0 & 0 & 10 &  98 & 1 & 5.301018 & 1.5889904 & 209.6326 & 14.57179 & 467.5975 &  8.372724 & -0.16032 & 51.46531\\\\\n",
       "\t2 & 1 & 297.9844 & Private room    & False & True  & 2 & True  & 1 & 0 & 10 &  99 & 1 & 2.198946 & 0.3792620 & 553.8917 & 38.50163 & 961.4721 & 17.215961 & -0.09683 & 51.50343\\\\\n",
       "\t3 & 2 & 336.7906 & Private room    & False & True  & 2 & False & 1 & 0 & 10 &  96 & 1 & 2.322958 & 0.4531776 & 428.2878 & 29.77076 & 959.0428 & 17.172462 & -0.10554 & 51.52407\\\\\n",
       "\t4 & 3 & 226.7222 & Private room    & False & True  & 2 & True  & 1 & 0 & 10 &  99 & 1 & 5.707825 & 1.7239771 & 195.6947 & 13.60296 & 452.2325 &  8.097600 & -0.16575 & 51.46292\\\\\n",
       "\t5 & 4 & 256.3560 & Private room    & False & True  & 3 & False & 0 & 0 &  9 &  98 & 1 & 3.257945 & 0.8254172 & 329.4771 & 22.90232 & 735.3273 & 13.166649 & -0.12055 & 51.53728\\\\\n",
       "\t6 & 5 & 239.8928 & Private room    & False & True  & 2 & False & 0 & 0 & 10 & 100 & 1 & 5.085730 & 1.8062181 & 226.7250 & 15.75990 & 486.7371 &  8.715433 & -0.17241 & 51.47222\\\\\n",
       "\\end{tabular}\n"
      ],
      "text/markdown": [
       "\n",
       "A data.frame: 6 x 20\n",
       "\n",
       "| <!--/--> | X &lt;int&gt; | realSum &lt;dbl&gt; | room_type &lt;chr&gt; | room_shared &lt;chr&gt; | room_private &lt;chr&gt; | person_capacity &lt;dbl&gt; | host_is_superhost &lt;chr&gt; | multi &lt;int&gt; | biz &lt;int&gt; | cleanliness_rating &lt;dbl&gt; | guest_satisfaction_overall &lt;dbl&gt; | bedrooms &lt;int&gt; | dist &lt;dbl&gt; | metro_dist &lt;dbl&gt; | attr_index &lt;dbl&gt; | attr_index_norm &lt;dbl&gt; | rest_index &lt;dbl&gt; | rest_index_norm &lt;dbl&gt; | lng &lt;dbl&gt; | lat &lt;dbl&gt; |\n",
       "|---|---|---|---|---|---|---|---|---|---|---|---|---|---|---|---|---|---|---|---|---|\n",
       "| 1 | 0 | 570.0981 | Entire home/apt | False | False | 2 | False | 0 | 0 | 10 |  98 | 1 | 5.301018 | 1.5889904 | 209.6326 | 14.57179 | 467.5975 |  8.372724 | -0.16032 | 51.46531 |\n",
       "| 2 | 1 | 297.9844 | Private room    | False | True  | 2 | True  | 1 | 0 | 10 |  99 | 1 | 2.198946 | 0.3792620 | 553.8917 | 38.50163 | 961.4721 | 17.215961 | -0.09683 | 51.50343 |\n",
       "| 3 | 2 | 336.7906 | Private room    | False | True  | 2 | False | 1 | 0 | 10 |  96 | 1 | 2.322958 | 0.4531776 | 428.2878 | 29.77076 | 959.0428 | 17.172462 | -0.10554 | 51.52407 |\n",
       "| 4 | 3 | 226.7222 | Private room    | False | True  | 2 | True  | 1 | 0 | 10 |  99 | 1 | 5.707825 | 1.7239771 | 195.6947 | 13.60296 | 452.2325 |  8.097600 | -0.16575 | 51.46292 |\n",
       "| 5 | 4 | 256.3560 | Private room    | False | True  | 3 | False | 0 | 0 |  9 |  98 | 1 | 3.257945 | 0.8254172 | 329.4771 | 22.90232 | 735.3273 | 13.166649 | -0.12055 | 51.53728 |\n",
       "| 6 | 5 | 239.8928 | Private room    | False | True  | 2 | False | 0 | 0 | 10 | 100 | 1 | 5.085730 | 1.8062181 | 226.7250 | 15.75990 | 486.7371 |  8.715433 | -0.17241 | 51.47222 |\n",
       "\n"
      ],
      "text/plain": [
       "  X realSum  room_type       room_shared room_private person_capacity\n",
       "1 0 570.0981 Entire home/apt False       False        2              \n",
       "2 1 297.9844 Private room    False       True         2              \n",
       "3 2 336.7906 Private room    False       True         2              \n",
       "4 3 226.7222 Private room    False       True         2              \n",
       "5 4 256.3560 Private room    False       True         3              \n",
       "6 5 239.8928 Private room    False       True         2              \n",
       "  host_is_superhost multi biz cleanliness_rating guest_satisfaction_overall\n",
       "1 False             0     0   10                  98                       \n",
       "2 True              1     0   10                  99                       \n",
       "3 False             1     0   10                  96                       \n",
       "4 True              1     0   10                  99                       \n",
       "5 False             0     0    9                  98                       \n",
       "6 False             0     0   10                 100                       \n",
       "  bedrooms dist     metro_dist attr_index attr_index_norm rest_index\n",
       "1 1        5.301018 1.5889904  209.6326   14.57179        467.5975  \n",
       "2 1        2.198946 0.3792620  553.8917   38.50163        961.4721  \n",
       "3 1        2.322958 0.4531776  428.2878   29.77076        959.0428  \n",
       "4 1        5.707825 1.7239771  195.6947   13.60296        452.2325  \n",
       "5 1        3.257945 0.8254172  329.4771   22.90232        735.3273  \n",
       "6 1        5.085730 1.8062181  226.7250   15.75990        486.7371  \n",
       "  rest_index_norm lng      lat     \n",
       "1  8.372724       -0.16032 51.46531\n",
       "2 17.215961       -0.09683 51.50343\n",
       "3 17.172462       -0.10554 51.52407\n",
       "4  8.097600       -0.16575 51.46292\n",
       "5 13.166649       -0.12055 51.53728\n",
       "6  8.715433       -0.17241 51.47222"
      ]
     },
     "metadata": {},
     "output_type": "display_data"
    }
   ],
   "source": [
    "lon_wd <- read.csv(\"data/london_weekdays.csv\")\n",
    "head(lon_wd)"
   ]
  },
  {
   "cell_type": "code",
   "execution_count": null,
   "id": "f26ff649",
   "metadata": {
    "vscode": {
     "languageId": "r"
    }
   },
   "outputs": [],
   "source": []
  }
 ],
 "metadata": {
  "kernelspec": {
   "display_name": "R",
   "language": "R",
   "name": "ir"
  },
  "language_info": {
   "codemirror_mode": "r",
   "file_extension": ".r",
   "mimetype": "text/x-r-source",
   "name": "R",
   "pygments_lexer": "r",
   "version": "4.3.0"
  }
 },
 "nbformat": 4,
 "nbformat_minor": 5
}
