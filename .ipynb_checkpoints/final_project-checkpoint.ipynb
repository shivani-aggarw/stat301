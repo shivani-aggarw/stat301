{
 "cells": [
  {
   "cell_type": "markdown",
   "id": "f5a064b2",
   "metadata": {},
   "source": [
    "# STAT 301 Group Assignment\n",
    "# 1. Title Page\n",
    "**Type**: Final Group Project <br>\n",
    "**Group 42 members**: Anthony Leong, Brian Ni, Shivani Aggarwal, Tina Yu <br> \n",
    "**TA**: Yian Lin"
   ]
  },
  {
   "cell_type": "markdown",
   "id": "422428d3",
   "metadata": {},
   "source": [
    "# 2. Introduction\n",
    "## Background and Research Motivation\n",
    "\n",
    "With the growth of peer-to-peer accommodation platforms, Airbnb has become a dominant player in the short-term rental market across major cities worldwide with over 5 million listings worldwide. The pricing of Airbnb listings varies significantly, driven by numerous listing and location-specific characteristics. There are numerous studies examining this relationship for various reasons:\n",
    "- **Understanding what factors are associated with the variation in Airbnb prices can help both hosts optimize their listings and travelers make more informed booking decisions.**\n",
    "- Scholars have argued that the existence of Airbnb listings raise the cost of living for local renters as landlords are switching their property to cater short-term rentals, decreasing supply for long-term renters and driving up the rental rates over time (Barron et al., 2019).\n",
    "- The growth of Airbnb in neighbours that are not traditionally touristic brings economic growth to these areas, while also disrupting the hotel industry (Deboosere et al., 2019).\n",
    "\n",
    "While many studies have identified factors associated with listing prices, fewer have evaluated whether these features can be used to *predict prices* with reasonable accuracy. In this project, we explore this predictive focus using Airbnb listings across 10 popular European cities."
   ]
  },
  {
   "cell_type": "markdown",
   "id": "2dfa8d19-1b45-4183-a7ee-1bbfffd11c2f",
   "metadata": {},
   "source": [
    "## Research Questions\n",
    "We are interesting in answering the following research question in this report through our analysis.\n",
    "- **Can we predict the price of an Airbnb listing based on its characteristics?**  \n",
    "   - This question is predictive. We aim to build a model to estimate listing prices from available features, assessing model performance on unseen data.\n",
    "\n",
    "> The question is answerable using the variables in our dataset, and align with the prediction techniques we’ve learned in class."
   ]
  },
  {
   "cell_type": "markdown",
   "id": "94d0b47c-282f-480e-9f3a-5ef03a542b7e",
   "metadata": {},
   "source": [
    "# 3. Methods and Results\n",
    "## A) Data\n",
    "### Airbnb Prices in European Cities\n",
    "*(content from Shivani's assignment 2)*\n",
    "\n",
    "This dataset provides information about Airbnb listings and their prices in 10 popular European cities - Amsterdam, Athens, Barcelona, Berlin, Budapest, Lisbon, London, Paris, Rome, Vienna. The listing prices are attributed to several characteristics such as room types, cleanliness and satisfaction ratings, number of bedrooms, and so on. Each city has two .csv files - for weekdays and weekends each.\n",
    "\n",
    "The dataset contains 21 variables as described in the table below: \n",
    "\n",
    "| Variable | Description | Type |\n",
    "| -------- | ----------- | ---- |\n",
    "|`realSum`| The total price of the Airbnb listing| Numeric|\n",
    "|`room_type`| The type of room being offered (private, shared, etc.)| Categorical|\n",
    "|`room_shared`|\tWhether the room is shared or not| Boolean|\n",
    "|`room_private`| Whether the room is private or not| Boolean|\n",
    "|`person_capacity`|\tThe maximum number of people that can stay in the room| Numeric|\n",
    "|`host_is_superhost`|Whether the host is a superhost or not | Boolean|\n",
    "|`multi`|\tWhether the host has 2-4 listings | Boolean|\n",
    "|`biz`|\tWhether the host has more than 2 listings |Boolean|\n",
    "|`cleanliness_rating`|\tThe cleanliness rating of the listing (0-10) |Numeric|\n",
    "|`guest_satisfaction_overall`|\tThe overall guest satisfaction rating of the listing (0-100) | Numeric|\n",
    "|`bedrooms`|\tThe number of bedrooms in the listing |Numeric|\n",
    "|`dist`|\tThe distance from the city centre |Numeric|\n",
    "|`metro_dist`|\tThe distance from the nearest metro station |Numeric|\n",
    "|`atrr_index`| Attraction index determined by the number of reviews at nearby attractions | Numeric|\n",
    "|`atrr_index_norm`| Normalized attraction index: scale to 100 | Numeric|\n",
    "|`rest_index`| Restaurant index determined by the number of reviews at nearby restaurants | Numeric|\n",
    "|`rest_index_norm`| Normalized restaurant index: scale to 100 | Numeric|\n",
    "|`lng`|\tThe longitude of the listing |Numeric|\n",
    "|`lat`|\tThe latitude of the listing |Numeric|"
   ]
  },
  {
   "cell_type": "markdown",
   "id": "b88b3597-61fb-415f-a874-db071d2c1262",
   "metadata": {},
   "source": [
    "### Source of Data\n",
    "*(content from Shivani's assignment 2)*\n",
    "\n",
    "This dataset is scraped off of a bigger dataset published in the article ***Determinants of Airbnb prices in European cities:  A spatial econometrics approach*** ([DOI link](https://doi.org/10.1016/j.tourman.2021.104319)) authored by Kristóf Gyódi and Łukasz1 Nawaro and published on January 13, 2021.\n",
    "\n",
    "The dataset in the article is collected by web-scraping the Airbnb platform to look for accomodations for two people and two nights in 10 major European cities, 4-6 weeks in advance of the travel dates."
   ]
  },
  {
   "cell_type": "markdown",
   "id": "7447c426-a1f0-4d4f-966a-a39e863e2102",
   "metadata": {},
   "source": [
    "### Pre-selection of Variables\n",
    "*(content from Shivani's assignment 2)*\n",
    "\n",
    "For the purpose of this assignment, we will use weekdays and weekends data from only 3 cities - Budapest, London, and Rome. This warrants the relevance of 6 .csv files with different number of observations. Below is a list of the observations in each file.\n",
    "- `budapest_weekdays.csv`: $2,074$\n",
    "- `budapest_weekends.csv`: $1,948$\n",
    "- `london_weekdays.csv`: $4,614$\n",
    "- `london_weekends.csv`: $5,379$\n",
    "- `rome_weekdays.csv`: $4,492$\n",
    "- `rome_weekends.csv`: $4,535$\n",
    "\n",
    "Since the data is scattered across 6 .csv files, we will read in all of the files and combine them into one dataset, `airbnb`, with all the information. The total number of observations in the combined dataset will be $23,042$. We will do so by adding two columns:\n",
    "- `city` which stores the values of the cities, and\n",
    "- `weekend` which stores the value of 1 for weekends and 0 for weekdays.\n",
    "\n",
    "\n",
    "We will also remove some variables we don't see fit when we conduct our analysis. Below is a detailed description of such variables:\n",
    "- `X` which is the index value for each listing in each dataset (and it therefore has repetitions across different .csv files)\n",
    "- `room_shared` and `room_private` since the type of room is already captured by the categorical variable `room_type`\n",
    "- `lat` and `lng` as the location of the listing will be captured by the new variable `city` and we do not plan to use spatial featuring, maps or clusters for our analysis for which these variables would be useful\n",
    "\n",
    "The following variables are also somewhat redundant but they still hold theoretical value:\n",
    "- `attr_index` and `rest_index` as normalized data for attraction and restaurant indices are captured by `attr_index_norm` and `rest_index_norm`. However, later on, we will test to see whether normalized variables are perfectly scaled version of raw variables by checking their VIF scores before implementing model selection methods."
   ]
  },
  {
   "cell_type": "markdown",
   "id": "3d1c01d1-1dad-4cff-a7d2-3b8622d33bcf",
   "metadata": {},
   "source": [
    "### Reading the data\n",
    "We read in the data from our public GitHub repository which stores the required .csv files. \n",
    "\n",
    "We will add the columns `city` and `weekend` and remove the variable `X` when combining all the .csv files into one dataset named `airbnb`."
   ]
  },
  {
   "cell_type": "code",
   "execution_count": 2,
   "id": "c0bfae2c",
   "metadata": {
    "vscode": {
     "languageId": "r"
    }
   },
   "outputs": [
    {
     "name": "stderr",
     "output_type": "stream",
     "text": [
      "── \u001b[1mAttaching core tidyverse packages\u001b[22m ──────────────────────── tidyverse 2.0.0 ──\n",
      "\u001b[32m✔\u001b[39m \u001b[34mdplyr    \u001b[39m 1.1.4     \u001b[32m✔\u001b[39m \u001b[34mreadr    \u001b[39m 2.1.5\n",
      "\u001b[32m✔\u001b[39m \u001b[34mforcats  \u001b[39m 1.0.0     \u001b[32m✔\u001b[39m \u001b[34mstringr  \u001b[39m 1.5.1\n",
      "\u001b[32m✔\u001b[39m \u001b[34mggplot2  \u001b[39m 3.5.2     \u001b[32m✔\u001b[39m \u001b[34mtibble   \u001b[39m 3.2.1\n",
      "\u001b[32m✔\u001b[39m \u001b[34mlubridate\u001b[39m 1.9.4     \u001b[32m✔\u001b[39m \u001b[34mtidyr    \u001b[39m 1.3.1\n",
      "\u001b[32m✔\u001b[39m \u001b[34mpurrr    \u001b[39m 1.0.4     \n",
      "── \u001b[1mConflicts\u001b[22m ────────────────────────────────────────── tidyverse_conflicts() ──\n",
      "\u001b[31m✖\u001b[39m \u001b[34mdplyr\u001b[39m::\u001b[32mfilter()\u001b[39m masks \u001b[34mstats\u001b[39m::filter()\n",
      "\u001b[31m✖\u001b[39m \u001b[34mdplyr\u001b[39m::\u001b[32mlag()\u001b[39m    masks \u001b[34mstats\u001b[39m::lag()\n",
      "\u001b[36mℹ\u001b[39m Use the conflicted package (\u001b[3m\u001b[34m<http://conflicted.r-lib.org/>\u001b[39m\u001b[23m) to force all conflicts to become errors\n",
      "Loading required package: Matrix\n",
      "\n",
      "\n",
      "Attaching package: 'Matrix'\n",
      "\n",
      "\n",
      "The following objects are masked from 'package:tidyr':\n",
      "\n",
      "    expand, pack, unpack\n",
      "\n",
      "\n",
      "Loaded glmnet 4.1-8\n",
      "\n",
      "Loading required package: carData\n",
      "\n",
      "\n",
      "Attaching package: 'car'\n",
      "\n",
      "\n",
      "The following object is masked from 'package:dplyr':\n",
      "\n",
      "    recode\n",
      "\n",
      "\n",
      "The following object is masked from 'package:purrr':\n",
      "\n",
      "    some\n",
      "\n",
      "\n",
      "\n",
      "Attaching package: 'MASS'\n",
      "\n",
      "\n",
      "The following object is masked from 'package:dplyr':\n",
      "\n",
      "    select\n",
      "\n",
      "\n",
      "Loading required package: lattice\n",
      "\n",
      "\n",
      "Attaching package: 'caret'\n",
      "\n",
      "\n",
      "The following object is masked from 'package:purrr':\n",
      "\n",
      "    lift\n",
      "\n",
      "\n",
      "corrplot 0.95 loaded\n",
      "\n"
     ]
    }
   ],
   "source": [
    "# required libraries\n",
    "library(tidyverse)\n",
    "library(repr)\n",
    "library(broom)\n",
    "library(ggplot2)\n",
    "library(glmnet)\n",
    "library(car)\n",
    "library(MASS)\n",
    "library(caret)\n",
    "library(dplyr)\n",
    "# install.packages(\"corrplot\")\n",
    "library(corrplot)"
   ]
  },
  {
   "cell_type": "code",
   "execution_count": 3,
   "id": "4856e16c",
   "metadata": {},
   "outputs": [],
   "source": [
    "# code taken from Shivani's assignment 2\n",
    "# loading data from public GitHub repo\n",
    "bud_wd_url <- \"https://raw.githubusercontent.com/shivani-aggarw/stat301/refs/heads/main/data/budapest_weekdays.csv\"\n",
    "bud_we_url <- \"https://raw.githubusercontent.com/shivani-aggarw/stat301/refs/heads/main/data/budapest_weekends.csv\"\n",
    "lon_wd_url <- \"https://raw.githubusercontent.com/shivani-aggarw/stat301/refs/heads/main/data/london_weekdays.csv\"\n",
    "lon_we_url <- \"https://raw.githubusercontent.com/shivani-aggarw/stat301/refs/heads/main/data/london_weekends.csv\"\n",
    "rom_wd_url <- \"https://raw.githubusercontent.com/shivani-aggarw/stat301/refs/heads/main/data/rome_weekdays.csv\"\n",
    "rom_we_url <- \"https://raw.githubusercontent.com/shivani-aggarw/stat301/refs/heads/main/data/rome_weekends.csv\""
   ]
  },
  {
   "cell_type": "code",
   "execution_count": 4,
   "id": "a9e572af",
   "metadata": {
    "vscode": {
     "languageId": "r"
    }
   },
   "outputs": [],
   "source": [
    "# code taken from Shivani's assignment 2\n",
    "# reading in the .csv files and wrangling them\n",
    "bud_wd <- read.csv(bud_wd_url)\n",
    "bud_wd <- bud_wd  %>% \n",
    "    mutate(city = \"Budapest\",\n",
    "          weekend = 0)  \n",
    "\n",
    "bud_we <- read.csv(bud_we_url)\n",
    "bud_we <- bud_we  %>% \n",
    "    mutate(city = \"Budapest\",\n",
    "          weekend = 1)    \n",
    "\n",
    "lon_wd <- read.csv(lon_wd_url)\n",
    "lon_wd <- lon_wd  %>% \n",
    "    mutate(city = \"London\",\n",
    "          weekend = 0) \n",
    "\n",
    "lon_we <- read.csv(lon_we_url)\n",
    "lon_we <- lon_we  %>% \n",
    "    mutate(city = \"London\",\n",
    "          weekend = 1)  \n",
    "\n",
    "rom_wd <- read.csv(rom_wd_url)\n",
    "rom_wd <- rom_wd  %>% \n",
    "    mutate(city = \"Rome\",\n",
    "          weekend = 0)\n",
    "\n",
    "rom_we <- read.csv(rom_we_url)\n",
    "rom_we <- rom_we  %>% \n",
    "    mutate(city = \"Rome\",\n",
    "          weekend = 1)  "
   ]
  },
  {
   "cell_type": "code",
   "execution_count": 5,
   "id": "be8889ed",
   "metadata": {},
   "outputs": [
    {
     "data": {
      "text/html": [
       "<table class=\"dataframe\">\n",
       "<caption>A data.frame: 3 × 21</caption>\n",
       "<thead>\n",
       "\t<tr><th></th><th scope=col>realSum</th><th scope=col>room_type</th><th scope=col>room_shared</th><th scope=col>room_private</th><th scope=col>person_capacity</th><th scope=col>host_is_superhost</th><th scope=col>multi</th><th scope=col>biz</th><th scope=col>cleanliness_rating</th><th scope=col>guest_satisfaction_overall</th><th scope=col>⋯</th><th scope=col>dist</th><th scope=col>metro_dist</th><th scope=col>attr_index</th><th scope=col>attr_index_norm</th><th scope=col>rest_index</th><th scope=col>rest_index_norm</th><th scope=col>lng</th><th scope=col>lat</th><th scope=col>city</th><th scope=col>weekend</th></tr>\n",
       "\t<tr><th></th><th scope=col>&lt;dbl&gt;</th><th scope=col>&lt;chr&gt;</th><th scope=col>&lt;chr&gt;</th><th scope=col>&lt;chr&gt;</th><th scope=col>&lt;dbl&gt;</th><th scope=col>&lt;chr&gt;</th><th scope=col>&lt;int&gt;</th><th scope=col>&lt;int&gt;</th><th scope=col>&lt;dbl&gt;</th><th scope=col>&lt;dbl&gt;</th><th scope=col>⋯</th><th scope=col>&lt;dbl&gt;</th><th scope=col>&lt;dbl&gt;</th><th scope=col>&lt;dbl&gt;</th><th scope=col>&lt;dbl&gt;</th><th scope=col>&lt;dbl&gt;</th><th scope=col>&lt;dbl&gt;</th><th scope=col>&lt;dbl&gt;</th><th scope=col>&lt;dbl&gt;</th><th scope=col>&lt;chr&gt;</th><th scope=col>&lt;dbl&gt;</th></tr>\n",
       "</thead>\n",
       "<tbody>\n",
       "\t<tr><th scope=row>1</th><td>238.9905</td><td>Entire home/apt</td><td>False</td><td>False</td><td>6</td><td>True </td><td>0</td><td>1</td><td>10</td><td>99</td><td>⋯</td><td>0.3593550</td><td>0.3526430</td><td> 404.4047</td><td> 24.116552</td><td>893.4773</td><td>67.65685</td><td>19.05074</td><td>47.50076</td><td>Budapest</td><td>0</td></tr>\n",
       "\t<tr><th scope=row>2</th><td>300.7943</td><td>Entire home/apt</td><td>False</td><td>False</td><td>6</td><td>False</td><td>0</td><td>1</td><td> 9</td><td>98</td><td>⋯</td><td>0.9294272</td><td>0.2002355</td><td>1676.8760</td><td>100.000000</td><td>452.5397</td><td>34.26770</td><td>19.04493</td><td>47.50405</td><td>Budapest</td><td>0</td></tr>\n",
       "\t<tr><th scope=row>3</th><td>162.3819</td><td>Entire home/apt</td><td>False</td><td>False</td><td>4</td><td>True </td><td>0</td><td>0</td><td>10</td><td>98</td><td>⋯</td><td>2.4508403</td><td>0.2794518</td><td> 163.5885</td><td>  9.755551</td><td>191.9923</td><td>14.53825</td><td>19.02170</td><td>47.49882</td><td>Budapest</td><td>0</td></tr>\n",
       "</tbody>\n",
       "</table>\n"
      ],
      "text/latex": [
       "A data.frame: 3 × 21\n",
       "\\begin{tabular}{r|lllllllllllllllllllll}\n",
       "  & realSum & room\\_type & room\\_shared & room\\_private & person\\_capacity & host\\_is\\_superhost & multi & biz & cleanliness\\_rating & guest\\_satisfaction\\_overall & ⋯ & dist & metro\\_dist & attr\\_index & attr\\_index\\_norm & rest\\_index & rest\\_index\\_norm & lng & lat & city & weekend\\\\\n",
       "  & <dbl> & <chr> & <chr> & <chr> & <dbl> & <chr> & <int> & <int> & <dbl> & <dbl> & ⋯ & <dbl> & <dbl> & <dbl> & <dbl> & <dbl> & <dbl> & <dbl> & <dbl> & <chr> & <dbl>\\\\\n",
       "\\hline\n",
       "\t1 & 238.9905 & Entire home/apt & False & False & 6 & True  & 0 & 1 & 10 & 99 & ⋯ & 0.3593550 & 0.3526430 &  404.4047 &  24.116552 & 893.4773 & 67.65685 & 19.05074 & 47.50076 & Budapest & 0\\\\\n",
       "\t2 & 300.7943 & Entire home/apt & False & False & 6 & False & 0 & 1 &  9 & 98 & ⋯ & 0.9294272 & 0.2002355 & 1676.8760 & 100.000000 & 452.5397 & 34.26770 & 19.04493 & 47.50405 & Budapest & 0\\\\\n",
       "\t3 & 162.3819 & Entire home/apt & False & False & 4 & True  & 0 & 0 & 10 & 98 & ⋯ & 2.4508403 & 0.2794518 &  163.5885 &   9.755551 & 191.9923 & 14.53825 & 19.02170 & 47.49882 & Budapest & 0\\\\\n",
       "\\end{tabular}\n"
      ],
      "text/markdown": [
       "\n",
       "A data.frame: 3 × 21\n",
       "\n",
       "| <!--/--> | realSum &lt;dbl&gt; | room_type &lt;chr&gt; | room_shared &lt;chr&gt; | room_private &lt;chr&gt; | person_capacity &lt;dbl&gt; | host_is_superhost &lt;chr&gt; | multi &lt;int&gt; | biz &lt;int&gt; | cleanliness_rating &lt;dbl&gt; | guest_satisfaction_overall &lt;dbl&gt; | ⋯ ⋯ | dist &lt;dbl&gt; | metro_dist &lt;dbl&gt; | attr_index &lt;dbl&gt; | attr_index_norm &lt;dbl&gt; | rest_index &lt;dbl&gt; | rest_index_norm &lt;dbl&gt; | lng &lt;dbl&gt; | lat &lt;dbl&gt; | city &lt;chr&gt; | weekend &lt;dbl&gt; |\n",
       "|---|---|---|---|---|---|---|---|---|---|---|---|---|---|---|---|---|---|---|---|---|---|\n",
       "| 1 | 238.9905 | Entire home/apt | False | False | 6 | True  | 0 | 1 | 10 | 99 | ⋯ | 0.3593550 | 0.3526430 |  404.4047 |  24.116552 | 893.4773 | 67.65685 | 19.05074 | 47.50076 | Budapest | 0 |\n",
       "| 2 | 300.7943 | Entire home/apt | False | False | 6 | False | 0 | 1 |  9 | 98 | ⋯ | 0.9294272 | 0.2002355 | 1676.8760 | 100.000000 | 452.5397 | 34.26770 | 19.04493 | 47.50405 | Budapest | 0 |\n",
       "| 3 | 162.3819 | Entire home/apt | False | False | 4 | True  | 0 | 0 | 10 | 98 | ⋯ | 2.4508403 | 0.2794518 |  163.5885 |   9.755551 | 191.9923 | 14.53825 | 19.02170 | 47.49882 | Budapest | 0 |\n",
       "\n"
      ],
      "text/plain": [
       "  realSum  room_type       room_shared room_private person_capacity\n",
       "1 238.9905 Entire home/apt False       False        6              \n",
       "2 300.7943 Entire home/apt False       False        6              \n",
       "3 162.3819 Entire home/apt False       False        4              \n",
       "  host_is_superhost multi biz cleanliness_rating guest_satisfaction_overall ⋯\n",
       "1 True              0     1   10                 99                         ⋯\n",
       "2 False             0     1    9                 98                         ⋯\n",
       "3 True              0     0   10                 98                         ⋯\n",
       "  dist      metro_dist attr_index attr_index_norm rest_index rest_index_norm\n",
       "1 0.3593550 0.3526430   404.4047   24.116552      893.4773   67.65685       \n",
       "2 0.9294272 0.2002355  1676.8760  100.000000      452.5397   34.26770       \n",
       "3 2.4508403 0.2794518   163.5885    9.755551      191.9923   14.53825       \n",
       "  lng      lat      city     weekend\n",
       "1 19.05074 47.50076 Budapest 0      \n",
       "2 19.04493 47.50405 Budapest 0      \n",
       "3 19.02170 47.49882 Budapest 0      "
      ]
     },
     "metadata": {},
     "output_type": "display_data"
    },
    {
     "data": {
      "text/html": [
       "<table class=\"dataframe\">\n",
       "<caption>A data.frame: 3 × 21</caption>\n",
       "<thead>\n",
       "\t<tr><th></th><th scope=col>realSum</th><th scope=col>room_type</th><th scope=col>room_shared</th><th scope=col>room_private</th><th scope=col>person_capacity</th><th scope=col>host_is_superhost</th><th scope=col>multi</th><th scope=col>biz</th><th scope=col>cleanliness_rating</th><th scope=col>guest_satisfaction_overall</th><th scope=col>⋯</th><th scope=col>dist</th><th scope=col>metro_dist</th><th scope=col>attr_index</th><th scope=col>attr_index_norm</th><th scope=col>rest_index</th><th scope=col>rest_index_norm</th><th scope=col>lng</th><th scope=col>lat</th><th scope=col>city</th><th scope=col>weekend</th></tr>\n",
       "\t<tr><th></th><th scope=col>&lt;dbl&gt;</th><th scope=col>&lt;chr&gt;</th><th scope=col>&lt;chr&gt;</th><th scope=col>&lt;chr&gt;</th><th scope=col>&lt;dbl&gt;</th><th scope=col>&lt;chr&gt;</th><th scope=col>&lt;int&gt;</th><th scope=col>&lt;int&gt;</th><th scope=col>&lt;dbl&gt;</th><th scope=col>&lt;dbl&gt;</th><th scope=col>⋯</th><th scope=col>&lt;dbl&gt;</th><th scope=col>&lt;dbl&gt;</th><th scope=col>&lt;dbl&gt;</th><th scope=col>&lt;dbl&gt;</th><th scope=col>&lt;dbl&gt;</th><th scope=col>&lt;dbl&gt;</th><th scope=col>&lt;dbl&gt;</th><th scope=col>&lt;dbl&gt;</th><th scope=col>&lt;chr&gt;</th><th scope=col>&lt;dbl&gt;</th></tr>\n",
       "</thead>\n",
       "<tbody>\n",
       "\t<tr><th scope=row>23040</th><td>878.5916</td><td>Entire home/apt</td><td>False</td><td>False</td><td>6</td><td>True </td><td>1</td><td>0</td><td>10</td><td>99</td><td>⋯</td><td>2.759242</td><td>1.1953387</td><td> 759.3691</td><td>16.82416</td><td>1783.2686</td><td>38.85310</td><td>12.46900</td><td>41.90100</td><td>Rome</td><td>1</td></tr>\n",
       "\t<tr><th scope=row>23041</th><td>447.2448</td><td>Entire home/apt</td><td>False</td><td>False</td><td>4</td><td>True </td><td>1</td><td>0</td><td>10</td><td>98</td><td>⋯</td><td>1.641598</td><td>0.8588370</td><td>1125.8572</td><td>24.94387</td><td>1687.8958</td><td>36.77516</td><td>12.48342</td><td>41.89634</td><td>Rome</td><td>1</td></tr>\n",
       "\t<tr><th scope=row>23042</th><td>265.8219</td><td>Entire home/apt</td><td>False</td><td>False</td><td>6</td><td>False</td><td>0</td><td>1</td><td>10</td><td>96</td><td>⋯</td><td>4.411877</td><td>0.3524935</td><td> 167.7019</td><td> 3.71551</td><td> 467.3403</td><td>10.18221</td><td>12.53000</td><td>41.86700</td><td>Rome</td><td>1</td></tr>\n",
       "</tbody>\n",
       "</table>\n"
      ],
      "text/latex": [
       "A data.frame: 3 × 21\n",
       "\\begin{tabular}{r|lllllllllllllllllllll}\n",
       "  & realSum & room\\_type & room\\_shared & room\\_private & person\\_capacity & host\\_is\\_superhost & multi & biz & cleanliness\\_rating & guest\\_satisfaction\\_overall & ⋯ & dist & metro\\_dist & attr\\_index & attr\\_index\\_norm & rest\\_index & rest\\_index\\_norm & lng & lat & city & weekend\\\\\n",
       "  & <dbl> & <chr> & <chr> & <chr> & <dbl> & <chr> & <int> & <int> & <dbl> & <dbl> & ⋯ & <dbl> & <dbl> & <dbl> & <dbl> & <dbl> & <dbl> & <dbl> & <dbl> & <chr> & <dbl>\\\\\n",
       "\\hline\n",
       "\t23040 & 878.5916 & Entire home/apt & False & False & 6 & True  & 1 & 0 & 10 & 99 & ⋯ & 2.759242 & 1.1953387 &  759.3691 & 16.82416 & 1783.2686 & 38.85310 & 12.46900 & 41.90100 & Rome & 1\\\\\n",
       "\t23041 & 447.2448 & Entire home/apt & False & False & 4 & True  & 1 & 0 & 10 & 98 & ⋯ & 1.641598 & 0.8588370 & 1125.8572 & 24.94387 & 1687.8958 & 36.77516 & 12.48342 & 41.89634 & Rome & 1\\\\\n",
       "\t23042 & 265.8219 & Entire home/apt & False & False & 6 & False & 0 & 1 & 10 & 96 & ⋯ & 4.411877 & 0.3524935 &  167.7019 &  3.71551 &  467.3403 & 10.18221 & 12.53000 & 41.86700 & Rome & 1\\\\\n",
       "\\end{tabular}\n"
      ],
      "text/markdown": [
       "\n",
       "A data.frame: 3 × 21\n",
       "\n",
       "| <!--/--> | realSum &lt;dbl&gt; | room_type &lt;chr&gt; | room_shared &lt;chr&gt; | room_private &lt;chr&gt; | person_capacity &lt;dbl&gt; | host_is_superhost &lt;chr&gt; | multi &lt;int&gt; | biz &lt;int&gt; | cleanliness_rating &lt;dbl&gt; | guest_satisfaction_overall &lt;dbl&gt; | ⋯ ⋯ | dist &lt;dbl&gt; | metro_dist &lt;dbl&gt; | attr_index &lt;dbl&gt; | attr_index_norm &lt;dbl&gt; | rest_index &lt;dbl&gt; | rest_index_norm &lt;dbl&gt; | lng &lt;dbl&gt; | lat &lt;dbl&gt; | city &lt;chr&gt; | weekend &lt;dbl&gt; |\n",
       "|---|---|---|---|---|---|---|---|---|---|---|---|---|---|---|---|---|---|---|---|---|---|\n",
       "| 23040 | 878.5916 | Entire home/apt | False | False | 6 | True  | 1 | 0 | 10 | 99 | ⋯ | 2.759242 | 1.1953387 |  759.3691 | 16.82416 | 1783.2686 | 38.85310 | 12.46900 | 41.90100 | Rome | 1 |\n",
       "| 23041 | 447.2448 | Entire home/apt | False | False | 4 | True  | 1 | 0 | 10 | 98 | ⋯ | 1.641598 | 0.8588370 | 1125.8572 | 24.94387 | 1687.8958 | 36.77516 | 12.48342 | 41.89634 | Rome | 1 |\n",
       "| 23042 | 265.8219 | Entire home/apt | False | False | 6 | False | 0 | 1 | 10 | 96 | ⋯ | 4.411877 | 0.3524935 |  167.7019 |  3.71551 |  467.3403 | 10.18221 | 12.53000 | 41.86700 | Rome | 1 |\n",
       "\n"
      ],
      "text/plain": [
       "      realSum  room_type       room_shared room_private person_capacity\n",
       "23040 878.5916 Entire home/apt False       False        6              \n",
       "23041 447.2448 Entire home/apt False       False        4              \n",
       "23042 265.8219 Entire home/apt False       False        6              \n",
       "      host_is_superhost multi biz cleanliness_rating guest_satisfaction_overall\n",
       "23040 True              1     0   10                 99                        \n",
       "23041 True              1     0   10                 98                        \n",
       "23042 False             0     1   10                 96                        \n",
       "      ⋯ dist     metro_dist attr_index attr_index_norm rest_index\n",
       "23040 ⋯ 2.759242 1.1953387   759.3691  16.82416        1783.2686 \n",
       "23041 ⋯ 1.641598 0.8588370  1125.8572  24.94387        1687.8958 \n",
       "23042 ⋯ 4.411877 0.3524935   167.7019   3.71551         467.3403 \n",
       "      rest_index_norm lng      lat      city weekend\n",
       "23040 38.85310        12.46900 41.90100 Rome 1      \n",
       "23041 36.77516        12.48342 41.89634 Rome 1      \n",
       "23042 10.18221        12.53000 41.86700 Rome 1      "
      ]
     },
     "metadata": {},
     "output_type": "display_data"
    }
   ],
   "source": [
    "# code taken from Shivani's assignment 2\n",
    "# combining all datasets into one\n",
    "airbnb <- rbind(bud_wd, bud_we, lon_wd, lon_we, rom_wd, rom_we)  %>% \n",
    "    dplyr::select(-X)\n",
    "\n",
    "# visualizing the dataset\n",
    "head(airbnb, 3)\n",
    "tail(airbnb, 3)"
   ]
  },
  {
   "cell_type": "markdown",
   "id": "266444a2-b368-4863-9795-31315cdfd00f",
   "metadata": {},
   "source": [
    "## B) Exploratory Data Analysis (EDA)\n",
    "### Wrangling the data\n",
    "We will start by cleaning the code by removing the pre-selected variables which we identified as redundant and useless in our analysis. These are `room_shared`, `room_private`, `lat`, and `lng`.\n",
    "We will also add a column named `ID` to identify each row with a unique number to split the dataset."
   ]
  },
  {
   "cell_type": "code",
   "execution_count": 17,
   "id": "14f7f5f5-0e4a-423c-aef7-4a62b5879152",
   "metadata": {
    "tags": []
   },
   "outputs": [
    {
     "data": {
      "text/html": [
       "<table class=\"dataframe\">\n",
       "<caption>A data.frame: 3 × 18</caption>\n",
       "<thead>\n",
       "\t<tr><th></th><th scope=col>realSum</th><th scope=col>room_type</th><th scope=col>person_capacity</th><th scope=col>host_is_superhost</th><th scope=col>multi</th><th scope=col>biz</th><th scope=col>cleanliness_rating</th><th scope=col>guest_satisfaction_overall</th><th scope=col>bedrooms</th><th scope=col>dist</th><th scope=col>metro_dist</th><th scope=col>attr_index</th><th scope=col>attr_index_norm</th><th scope=col>rest_index</th><th scope=col>rest_index_norm</th><th scope=col>city</th><th scope=col>weekend</th><th scope=col>ID</th></tr>\n",
       "\t<tr><th></th><th scope=col>&lt;dbl&gt;</th><th scope=col>&lt;chr&gt;</th><th scope=col>&lt;dbl&gt;</th><th scope=col>&lt;chr&gt;</th><th scope=col>&lt;int&gt;</th><th scope=col>&lt;int&gt;</th><th scope=col>&lt;dbl&gt;</th><th scope=col>&lt;dbl&gt;</th><th scope=col>&lt;int&gt;</th><th scope=col>&lt;dbl&gt;</th><th scope=col>&lt;dbl&gt;</th><th scope=col>&lt;dbl&gt;</th><th scope=col>&lt;dbl&gt;</th><th scope=col>&lt;dbl&gt;</th><th scope=col>&lt;dbl&gt;</th><th scope=col>&lt;chr&gt;</th><th scope=col>&lt;dbl&gt;</th><th scope=col>&lt;int&gt;</th></tr>\n",
       "</thead>\n",
       "<tbody>\n",
       "\t<tr><th scope=row>1</th><td>238.9905</td><td>Entire home/apt</td><td>6</td><td>True </td><td>0</td><td>1</td><td>10</td><td>99</td><td>1</td><td>0.3593550</td><td>0.3526430</td><td> 404.4047</td><td> 24.116552</td><td>893.4773</td><td>67.65685</td><td>Budapest</td><td>0</td><td>1</td></tr>\n",
       "\t<tr><th scope=row>2</th><td>300.7943</td><td>Entire home/apt</td><td>6</td><td>False</td><td>0</td><td>1</td><td> 9</td><td>98</td><td>2</td><td>0.9294272</td><td>0.2002355</td><td>1676.8760</td><td>100.000000</td><td>452.5397</td><td>34.26770</td><td>Budapest</td><td>0</td><td>2</td></tr>\n",
       "\t<tr><th scope=row>3</th><td>162.3819</td><td>Entire home/apt</td><td>4</td><td>True </td><td>0</td><td>0</td><td>10</td><td>98</td><td>1</td><td>2.4508403</td><td>0.2794518</td><td> 163.5885</td><td>  9.755551</td><td>191.9923</td><td>14.53825</td><td>Budapest</td><td>0</td><td>3</td></tr>\n",
       "</tbody>\n",
       "</table>\n"
      ],
      "text/latex": [
       "A data.frame: 3 × 18\n",
       "\\begin{tabular}{r|llllllllllllllllll}\n",
       "  & realSum & room\\_type & person\\_capacity & host\\_is\\_superhost & multi & biz & cleanliness\\_rating & guest\\_satisfaction\\_overall & bedrooms & dist & metro\\_dist & attr\\_index & attr\\_index\\_norm & rest\\_index & rest\\_index\\_norm & city & weekend & ID\\\\\n",
       "  & <dbl> & <chr> & <dbl> & <chr> & <int> & <int> & <dbl> & <dbl> & <int> & <dbl> & <dbl> & <dbl> & <dbl> & <dbl> & <dbl> & <chr> & <dbl> & <int>\\\\\n",
       "\\hline\n",
       "\t1 & 238.9905 & Entire home/apt & 6 & True  & 0 & 1 & 10 & 99 & 1 & 0.3593550 & 0.3526430 &  404.4047 &  24.116552 & 893.4773 & 67.65685 & Budapest & 0 & 1\\\\\n",
       "\t2 & 300.7943 & Entire home/apt & 6 & False & 0 & 1 &  9 & 98 & 2 & 0.9294272 & 0.2002355 & 1676.8760 & 100.000000 & 452.5397 & 34.26770 & Budapest & 0 & 2\\\\\n",
       "\t3 & 162.3819 & Entire home/apt & 4 & True  & 0 & 0 & 10 & 98 & 1 & 2.4508403 & 0.2794518 &  163.5885 &   9.755551 & 191.9923 & 14.53825 & Budapest & 0 & 3\\\\\n",
       "\\end{tabular}\n"
      ],
      "text/markdown": [
       "\n",
       "A data.frame: 3 × 18\n",
       "\n",
       "| <!--/--> | realSum &lt;dbl&gt; | room_type &lt;chr&gt; | person_capacity &lt;dbl&gt; | host_is_superhost &lt;chr&gt; | multi &lt;int&gt; | biz &lt;int&gt; | cleanliness_rating &lt;dbl&gt; | guest_satisfaction_overall &lt;dbl&gt; | bedrooms &lt;int&gt; | dist &lt;dbl&gt; | metro_dist &lt;dbl&gt; | attr_index &lt;dbl&gt; | attr_index_norm &lt;dbl&gt; | rest_index &lt;dbl&gt; | rest_index_norm &lt;dbl&gt; | city &lt;chr&gt; | weekend &lt;dbl&gt; | ID &lt;int&gt; |\n",
       "|---|---|---|---|---|---|---|---|---|---|---|---|---|---|---|---|---|---|---|\n",
       "| 1 | 238.9905 | Entire home/apt | 6 | True  | 0 | 1 | 10 | 99 | 1 | 0.3593550 | 0.3526430 |  404.4047 |  24.116552 | 893.4773 | 67.65685 | Budapest | 0 | 1 |\n",
       "| 2 | 300.7943 | Entire home/apt | 6 | False | 0 | 1 |  9 | 98 | 2 | 0.9294272 | 0.2002355 | 1676.8760 | 100.000000 | 452.5397 | 34.26770 | Budapest | 0 | 2 |\n",
       "| 3 | 162.3819 | Entire home/apt | 4 | True  | 0 | 0 | 10 | 98 | 1 | 2.4508403 | 0.2794518 |  163.5885 |   9.755551 | 191.9923 | 14.53825 | Budapest | 0 | 3 |\n",
       "\n"
      ],
      "text/plain": [
       "  realSum  room_type       person_capacity host_is_superhost multi biz\n",
       "1 238.9905 Entire home/apt 6               True              0     1  \n",
       "2 300.7943 Entire home/apt 6               False             0     1  \n",
       "3 162.3819 Entire home/apt 4               True              0     0  \n",
       "  cleanliness_rating guest_satisfaction_overall bedrooms dist      metro_dist\n",
       "1 10                 99                         1        0.3593550 0.3526430 \n",
       "2  9                 98                         2        0.9294272 0.2002355 \n",
       "3 10                 98                         1        2.4508403 0.2794518 \n",
       "  attr_index attr_index_norm rest_index rest_index_norm city     weekend ID\n",
       "1  404.4047   24.116552      893.4773   67.65685        Budapest 0       1 \n",
       "2 1676.8760  100.000000      452.5397   34.26770        Budapest 0       2 \n",
       "3  163.5885    9.755551      191.9923   14.53825        Budapest 0       3 "
      ]
     },
     "metadata": {},
     "output_type": "display_data"
    }
   ],
   "source": [
    "# cleaning dataset\n",
    "airbnb_clean <- airbnb %>%\n",
    "    dplyr::select(-room_shared, -room_private, -lat, -lng) %>%\n",
    "    mutate(ID = row_number())\n",
    "\n",
    "head(airbnb_clean, 3)"
   ]
  },
  {
   "cell_type": "code",
   "execution_count": 23,
   "id": "73a935b5-bf28-406a-b44b-7188131489ac",
   "metadata": {},
   "outputs": [
    {
     "data": {
      "text/html": [
       "0"
      ],
      "text/latex": [
       "0"
      ],
      "text/markdown": [
       "0"
      ],
      "text/plain": [
       "[1] 0"
      ]
     },
     "metadata": {},
     "output_type": "display_data"
    }
   ],
   "source": [
    "# counting missing values\n",
    "sum(is.na(airbnb_clean))"
   ]
  },
  {
   "cell_type": "markdown",
   "id": "b95489df-e165-42fd-953f-11889e1caef4",
   "metadata": {},
   "source": [
    "### Splitting dataset\n",
    "<font color = \"red\"> add reason </font> Now we will slice the dataset into a 60-20-20 splits, named `airbnb_training`, `airbnb_validation`, and `airbnb_testing` respectively. We will also remove the variable `ID` from these subsets as it is not relevant for our regression."
   ]
  },
  {
   "cell_type": "code",
   "execution_count": 18,
   "id": "15ef8366-a62a-41bc-bbda-7700370b1f46",
   "metadata": {},
   "outputs": [
    {
     "data": {
      "text/html": [
       "<table class=\"dataframe\">\n",
       "<caption>A data.frame: 3 × 17</caption>\n",
       "<thead>\n",
       "\t<tr><th></th><th scope=col>realSum</th><th scope=col>room_type</th><th scope=col>person_capacity</th><th scope=col>host_is_superhost</th><th scope=col>multi</th><th scope=col>biz</th><th scope=col>cleanliness_rating</th><th scope=col>guest_satisfaction_overall</th><th scope=col>bedrooms</th><th scope=col>dist</th><th scope=col>metro_dist</th><th scope=col>attr_index</th><th scope=col>attr_index_norm</th><th scope=col>rest_index</th><th scope=col>rest_index_norm</th><th scope=col>city</th><th scope=col>weekend</th></tr>\n",
       "\t<tr><th></th><th scope=col>&lt;dbl&gt;</th><th scope=col>&lt;chr&gt;</th><th scope=col>&lt;dbl&gt;</th><th scope=col>&lt;chr&gt;</th><th scope=col>&lt;int&gt;</th><th scope=col>&lt;int&gt;</th><th scope=col>&lt;dbl&gt;</th><th scope=col>&lt;dbl&gt;</th><th scope=col>&lt;int&gt;</th><th scope=col>&lt;dbl&gt;</th><th scope=col>&lt;dbl&gt;</th><th scope=col>&lt;dbl&gt;</th><th scope=col>&lt;dbl&gt;</th><th scope=col>&lt;dbl&gt;</th><th scope=col>&lt;dbl&gt;</th><th scope=col>&lt;chr&gt;</th><th scope=col>&lt;dbl&gt;</th></tr>\n",
       "</thead>\n",
       "<tbody>\n",
       "\t<tr><th scope=row>1</th><td>115.9482</td><td>Private room   </td><td>2</td><td>False</td><td>0</td><td>0</td><td> 9</td><td>96</td><td>1</td><td>5.709598</td><td>1.181127</td><td>197.9007</td><td>13.75685</td><td>440.1913</td><td>7.878657</td><td>London</td><td>1</td></tr>\n",
       "\t<tr><th scope=row>2</th><td>161.5505</td><td>Entire home/apt</td><td>4</td><td>False</td><td>0</td><td>0</td><td>10</td><td>95</td><td>2</td><td>5.550061</td><td>0.864905</td><td>138.0221</td><td> 3.05794</td><td>381.7032</td><td>8.316387</td><td>Rome  </td><td>1</td></tr>\n",
       "\t<tr><th scope=row>3</th><td>262.7061</td><td>Private room   </td><td>4</td><td>False</td><td>0</td><td>0</td><td> 9</td><td>85</td><td>1</td><td>6.458999</td><td>1.407879</td><td>198.1813</td><td>13.77636</td><td>381.8880</td><td>6.835130</td><td>London</td><td>1</td></tr>\n",
       "</tbody>\n",
       "</table>\n"
      ],
      "text/latex": [
       "A data.frame: 3 × 17\n",
       "\\begin{tabular}{r|lllllllllllllllll}\n",
       "  & realSum & room\\_type & person\\_capacity & host\\_is\\_superhost & multi & biz & cleanliness\\_rating & guest\\_satisfaction\\_overall & bedrooms & dist & metro\\_dist & attr\\_index & attr\\_index\\_norm & rest\\_index & rest\\_index\\_norm & city & weekend\\\\\n",
       "  & <dbl> & <chr> & <dbl> & <chr> & <int> & <int> & <dbl> & <dbl> & <int> & <dbl> & <dbl> & <dbl> & <dbl> & <dbl> & <dbl> & <chr> & <dbl>\\\\\n",
       "\\hline\n",
       "\t1 & 115.9482 & Private room    & 2 & False & 0 & 0 &  9 & 96 & 1 & 5.709598 & 1.181127 & 197.9007 & 13.75685 & 440.1913 & 7.878657 & London & 1\\\\\n",
       "\t2 & 161.5505 & Entire home/apt & 4 & False & 0 & 0 & 10 & 95 & 2 & 5.550061 & 0.864905 & 138.0221 &  3.05794 & 381.7032 & 8.316387 & Rome   & 1\\\\\n",
       "\t3 & 262.7061 & Private room    & 4 & False & 0 & 0 &  9 & 85 & 1 & 6.458999 & 1.407879 & 198.1813 & 13.77636 & 381.8880 & 6.835130 & London & 1\\\\\n",
       "\\end{tabular}\n"
      ],
      "text/markdown": [
       "\n",
       "A data.frame: 3 × 17\n",
       "\n",
       "| <!--/--> | realSum &lt;dbl&gt; | room_type &lt;chr&gt; | person_capacity &lt;dbl&gt; | host_is_superhost &lt;chr&gt; | multi &lt;int&gt; | biz &lt;int&gt; | cleanliness_rating &lt;dbl&gt; | guest_satisfaction_overall &lt;dbl&gt; | bedrooms &lt;int&gt; | dist &lt;dbl&gt; | metro_dist &lt;dbl&gt; | attr_index &lt;dbl&gt; | attr_index_norm &lt;dbl&gt; | rest_index &lt;dbl&gt; | rest_index_norm &lt;dbl&gt; | city &lt;chr&gt; | weekend &lt;dbl&gt; |\n",
       "|---|---|---|---|---|---|---|---|---|---|---|---|---|---|---|---|---|---|\n",
       "| 1 | 115.9482 | Private room    | 2 | False | 0 | 0 |  9 | 96 | 1 | 5.709598 | 1.181127 | 197.9007 | 13.75685 | 440.1913 | 7.878657 | London | 1 |\n",
       "| 2 | 161.5505 | Entire home/apt | 4 | False | 0 | 0 | 10 | 95 | 2 | 5.550061 | 0.864905 | 138.0221 |  3.05794 | 381.7032 | 8.316387 | Rome   | 1 |\n",
       "| 3 | 262.7061 | Private room    | 4 | False | 0 | 0 |  9 | 85 | 1 | 6.458999 | 1.407879 | 198.1813 | 13.77636 | 381.8880 | 6.835130 | London | 1 |\n",
       "\n"
      ],
      "text/plain": [
       "  realSum  room_type       person_capacity host_is_superhost multi biz\n",
       "1 115.9482 Private room    2               False             0     0  \n",
       "2 161.5505 Entire home/apt 4               False             0     0  \n",
       "3 262.7061 Private room    4               False             0     0  \n",
       "  cleanliness_rating guest_satisfaction_overall bedrooms dist     metro_dist\n",
       "1  9                 96                         1        5.709598 1.181127  \n",
       "2 10                 95                         2        5.550061 0.864905  \n",
       "3  9                 85                         1        6.458999 1.407879  \n",
       "  attr_index attr_index_norm rest_index rest_index_norm city   weekend\n",
       "1 197.9007   13.75685        440.1913   7.878657        London 1      \n",
       "2 138.0221    3.05794        381.7032   8.316387        Rome   1      \n",
       "3 198.1813   13.77636        381.8880   6.835130        London 1      "
      ]
     },
     "metadata": {},
     "output_type": "display_data"
    }
   ],
   "source": [
    "# splitting data into three sets - one for training, one for validation, one for testing\n",
    "set.seed(9999)\n",
    "\n",
    "airbnb_training <- slice_sample(airbnb_clean, prop = 0.6)   # 60% of the data\n",
    "airbnb_remaining <- anti_join(airbnb_clean, airbnb_training, by = \"ID\")\n",
    "airbnb_validation <- slice_sample(airbnb_remaining, prop = 0.5)   # 20% of the data\n",
    "airbnb_testing <- anti_join(airbnb_remaining, airbnb_validation, by = \"ID\")   # 20% of the data\n",
    "\n",
    "# dropping ID\n",
    "airbnb_training <- dplyr::select(airbnb_training, -ID)\n",
    "airbnb_validation <- dplyr::select(airbnb_validation, -ID)\n",
    "airbnb_testing <- dplyr::select(airbnb_testing, -ID)\n",
    "\n",
    "head(airbnb_training, 3)"
   ]
  },
  {
   "cell_type": "markdown",
   "id": "1e794716-11ce-4362-913f-465cb590b4fb",
   "metadata": {},
   "source": [
    "### Visualization of Data\n",
    "To visualize the relationship between Airbnb listing prices and other explanatory variables, we used two plots:\n",
    "- **Contour Plot** shows the relationships between Airbnb listing price and distance of the listing from the city centre and the nearest metro station (`dist` and `metro_dist`), faceted by the type of room (`room_type`). This plot will help us visualize the popularity of different room types at different prices and distances from city centres and metros. The lighter the color, the more common the room type is at that price and distance point.\n",
    "- **Violin Boxplot** to visualize the relationship of price with overall satisfaction levels (`guest_satisfaction_overall`), faceted by city (`city`). This plot will help us visualize the distribution of prices across different satisfaction levels, and how this relationship differs across cities."
   ]
  },
  {
   "cell_type": "code",
   "execution_count": 19,
   "id": "cd0191cc-7969-4cd4-9228-ca5b9de204e7",
   "metadata": {},
   "outputs": [
    {
     "data": {
      "image/png": "[encoded data removed]",
      "text/plain": [
       "plot without title"
      ]
     },
     "metadata": {
      "image/png": {
       "height": 600,
       "width": 840
      }
     },
     "output_type": "display_data"
    }
   ],
   "source": [
    "# contour plot of price against distance from city centre and nearest metro station\n",
    "options(repr.plot.width = 14, repr.plot.height = 10)\n",
    "\n",
    "# code taken from Brian's assignment 2\n",
    "# combining dist and metro_dist into one variable\n",
    "airbnb_train_distance <- airbnb_training %>%\n",
    "    dplyr::select(realSum, dist, metro_dist, room_type) %>%\n",
    "    mutate(realSum_shifted = if_else(realSum <= 0, 1, realSum)) %>%\n",
    "    pivot_longer(\n",
    "        cols = c(dist, metro_dist),\n",
    "        names_to = \"DistanceType\",\n",
    "        values_to = \"Distance\")\n",
    "\n",
    "# plotting variables\n",
    "ggplot(airbnb_train_distance, aes(x = Distance, y = realSum_shifted)) +\n",
    "    stat_density_2d(aes(fill = after_stat(level)), geom = \"polygon\", color = \"white\", contour = TRUE) +\n",
    "    facet_wrap(~ room_type) + \n",
    "    scale_fill_viridis_c(option = \"C\", name = \"Density Level\") +\n",
    "    labs(\n",
    "        title = \"Contour Plot of Airbnb Price vs. Distance from City Centre and Nearest Metro Station (km)\",\n",
    "        subtitle = \"Faceted by Room Type\",\n",
    "        x = \"Distance from City Centre and Nearest Metro Station (km)\",\n",
    "        y = \"Price of Listing\"\n",
    "  ) +\n",
    "    theme_minimal(base_size = 12) +\n",
    "    theme(\n",
    "        text = element_text(size = 16), \n",
    "        plot.title = element_text(size = 20, face = \"bold\"),  \n",
    "        axis.title = element_text(size = 16),  \n",
    "        axis.text = element_text(size = 14),  \n",
    "        legend.title = element_text(size = 14),\n",
    "        strip.text = element_text(face = \"bold\")\n",
    "  )"
   ]
  },
  {
   "cell_type": "markdown",
   "id": "57b42082-438d-4e1c-9003-00440e9ffde2",
   "metadata": {},
   "source": [
    "#### Interpretation of contour plot\n",
    "\n",
    "The contour plot reveals a tendency for listings closer to the city centre or a metro station to be more expensive, and that entire homes and private rooms are generally more expensive than shared rooms. However, most listings, regardless of distance or purpose, tend to fall within a similar price range. We also observe that entire homes or apartments listed on Airbnb are generally located closer to the city centre or metro stations and are priced higher on average."
   ]
  },
  {
   "cell_type": "code",
   "execution_count": 24,
   "id": "d763570f-4534-4963-b9d4-455d29684fbc",
   "metadata": {},
   "outputs": [
    {
     "data": {
      "image/png": "[encoded data removed]",
      "text/plain": [
       "plot without title"
      ]
     },
     "metadata": {
      "image/png": {
       "height": 600,
       "width": 1500
      }
     },
     "output_type": "display_data"
    }
   ],
   "source": [
    "# code taken from Brian's assignment 2\n",
    "options(repr.plot.width=25, repr.plot.height=10)\n",
    "\n",
    "# Create bins for guest_satisfaction_overall\n",
    "airbnb_train_binned <- airbnb_training %>%\n",
    "  mutate(\n",
    "    satis_bin = cut(guest_satisfaction_overall,\n",
    "      breaks = c(0, 75, 80, 95, Inf),\n",
    "      labels = c(\"Fair (0-75)\",\"Average (75-80)\",\"Good (80-95)\", \"Excellent (95-100)\")\n",
    "    )\n",
    "  )\n",
    "\n",
    "# Combine violin plot + boxplot, facet by city, log-scale on y-axis\n",
    "ggplot(airbnb_train_binned, aes(x = satis_bin, y = realSum, fill = satis_bin)) +\n",
    "    geom_violin(alpha = 0.4) +\n",
    "    geom_boxplot(width = 0.15, outlier.alpha = 0.3, notch = TRUE) +\n",
    "    facet_wrap(~ city) + \n",
    "    scale_y_log10() +\n",
    "    labs(\n",
    "        title = \"Distribution of Listing Price by Overall Satisfaction Levels\",\n",
    "        subtitle = \"Faceted by Purpose of Listing\",\n",
    "        x = \"Binned Overall Satisfaction\",\n",
    "        y = \"Price of Listing\",\n",
    "        fill = \"Satisfaction Level\"\n",
    "    ) +\n",
    "    theme_minimal() +\n",
    "    theme(\n",
    "        text = element_text(size = 16), \n",
    "        plot.title = element_text(size = 20, face = \"bold\"),  \n",
    "        axis.title = element_text(size = 16),  \n",
    "        axis.text = element_text(size = 14),  \n",
    "        legend.title = element_text(size = 14),\n",
    "        strip.text = element_text(face = \"bold\")\n",
    "    )"
   ]
  },
  {
   "cell_type": "markdown",
   "id": "934d579f-a813-4c49-b9a2-3a5365593e73",
   "metadata": {},
   "source": [
    "#### Interpretation of violin boxplot\n",
    "The chart suggests that higher overall ratings for Airbnb properties do not necessarily correspond to higher or lower listing prices. It is interesting to note that listings with lower overall ratings, however, usually have prices in the higher range, suggesting that higher price for a bad experience at an Airbnb could be a factor in the lower rating. We also observe that listings are more expensive in London, followed by Rome and Budapest. "
   ]
  },
  {
   "cell_type": "markdown",
   "id": "59685070-a58a-48e1-b32c-8d3be8553072",
   "metadata": {},
   "source": [
    "### Summary Tables\n",
    "Now that we have explored the relationships within the data, we are also interested in understanding its structure and quality. \n",
    "\n",
    "We will begin by checking for any missing values to ensure data completeness. Then, we will examine the range of listing prices grouped by city to understand pricing variation across locations."
   ]
  },
  {
   "cell_type": "code",
   "execution_count": 21,
   "id": "18c5e2dc-a085-48b1-8645-3765f69216c1",
   "metadata": {},
   "outputs": [
    {
     "data": {
      "text/html": [
       "0"
      ],
      "text/latex": [
       "0"
      ],
      "text/markdown": [
       "0"
      ],
      "text/plain": [
       "[1] 0"
      ]
     },
     "metadata": {},
     "output_type": "display_data"
    }
   ],
   "source": [
    "# counting missing values\n",
    "sum(is.na(airbnb_training))"
   ]
  },
  {
   "cell_type": "code",
   "execution_count": 22,
   "id": "e494fae4-161f-46ff-b39e-dc43f67a58a2",
   "metadata": {},
   "outputs": [
    {
     "data": {
      "text/html": [
       "<table class=\"dataframe\">\n",
       "<caption>A tibble: 3 × 4</caption>\n",
       "<thead>\n",
       "\t<tr><th scope=col>city</th><th scope=col>min_price</th><th scope=col>max_price</th><th scope=col>mean_price</th></tr>\n",
       "\t<tr><th scope=col>&lt;chr&gt;</th><th scope=col>&lt;dbl&gt;</th><th scope=col>&lt;dbl&gt;</th><th scope=col>&lt;dbl&gt;</th></tr>\n",
       "</thead>\n",
       "<tbody>\n",
       "\t<tr><td>London  </td><td>67.02886</td><td>15499.894</td><td>366.9309</td></tr>\n",
       "\t<tr><td>Rome    </td><td>46.05709</td><td> 2418.348</td><td>206.2775</td></tr>\n",
       "\t<tr><td>Budapest</td><td>37.12929</td><td> 2330.216</td><td>176.2546</td></tr>\n",
       "</tbody>\n",
       "</table>\n"
      ],
      "text/latex": [
       "A tibble: 3 × 4\n",
       "\\begin{tabular}{llll}\n",
       " city & min\\_price & max\\_price & mean\\_price\\\\\n",
       " <chr> & <dbl> & <dbl> & <dbl>\\\\\n",
       "\\hline\n",
       "\t London   & 67.02886 & 15499.894 & 366.9309\\\\\n",
       "\t Rome     & 46.05709 &  2418.348 & 206.2775\\\\\n",
       "\t Budapest & 37.12929 &  2330.216 & 176.2546\\\\\n",
       "\\end{tabular}\n"
      ],
      "text/markdown": [
       "\n",
       "A tibble: 3 × 4\n",
       "\n",
       "| city &lt;chr&gt; | min_price &lt;dbl&gt; | max_price &lt;dbl&gt; | mean_price &lt;dbl&gt; |\n",
       "|---|---|---|---|\n",
       "| London   | 67.02886 | 15499.894 | 366.9309 |\n",
       "| Rome     | 46.05709 |  2418.348 | 206.2775 |\n",
       "| Budapest | 37.12929 |  2330.216 | 176.2546 |\n",
       "\n"
      ],
      "text/plain": [
       "  city     min_price max_price mean_price\n",
       "1 London   67.02886  15499.894 366.9309  \n",
       "2 Rome     46.05709   2418.348 206.2775  \n",
       "3 Budapest 37.12929   2330.216 176.2546  "
      ]
     },
     "metadata": {},
     "output_type": "display_data"
    }
   ],
   "source": [
    "# summarizing the range of prices\n",
    "airbnb_training %>%\n",
    "  group_by(city) %>%\n",
    "  summarise(\n",
    "    min_price = min(realSum, na.rm = TRUE),\n",
    "    max_price = max(realSum, na.rm = TRUE),\n",
    "    mean_price = mean(realSum, na.rm = TRUE)\n",
    "  ) %>%\n",
    "  arrange(desc(mean_price))"
   ]
  },
  {
   "cell_type": "markdown",
   "id": "9ca7da22-25a0-47db-951f-e66997aab1ad",
   "metadata": {},
   "source": [
    "From the range of prices, we can observe substantial variation in pricing across the three cities. This suggests that city-specific factors significantly influence Airbnb prices. For our analysis, it highlights the importance of incorporating `city` as a key variable in our model. "
   ]
  },
  {
   "cell_type": "markdown",
   "id": "fb0e38a4-e110-4e17-b600-f3cfa563ae3d",
   "metadata": {},
   "source": [
    "## C) Methods Plan\n",
    "To address our research questions,\n",
    "> **How is price associated with the different characteristics of an Airbnb listing and can we predict them?**\n",
    "\n",
    "we propose to use **Multi-variable Least Squares Regression** framework focussed on prediction. \n",
    "\n",
    "This will help us quantify the relationship between our quantitative response variable `realSum` and the explanatory variables, while creating a model with strong out-of-sample predictability. To improve model interpretability and reduce potential overfitting, we will compare multiple model selection methods and choose the model that will give us the ***lowest Root Mean Squared Error (RMSE)***. RMSE is well-suited to test prediction accuracy as it directly measures the average magnitude of prediction errors in the same units as the response variable. The model selection methods we will test are:\n",
    "- Backward stepwise selection using AIC\n",
    "- LASSO (L1 regularization), and\n",
    "- Ridge (L1 regularization)\n",
    "\n",
    "We choose backward stepwise selection method over forward selection as we believe that most of the variables in our dataset are relevant predictors and starting with a full model will help us retain these important predictors that might otherwise be missed in forward selection process.\n",
    "\n",
    "Additionally, we will **split the data into three subsets** and use 60% of the rows to train the model selection methods, 20% of the rows to fit the reduced model and validate the resulting RMSE, and finally the remaining 20% to fit our selected model to test its predictive power. This will help us avoid the post-inference problem we could potentially run into while selecting variables and fitting the model on the same data. \n",
    "\n",
    "We will also test the selected variables from the *best* model for multicollinearity using the VIF test to remove any remaining multicollinear variables and avoid inflated standard errors caused by linear dependence between predictors."
   ]
  },
  {
   "cell_type": "markdown",
   "id": "3afed11e-efdd-4967-8e7d-48c3892bee63",
   "metadata": {},
   "source": [
    "### Assumptions in the Model\n",
    "In order to use the ordinary least square regression, we first have to make the following assumptions:\n",
    "\n",
    "- **Linearity**: The relationship between the response and explanatory variable is linear.\n",
    "- **Independence**: The residual errors are independent of each other since we have a random sample. \n",
    "- **Homoscedasticity**: The variance of residuals is constant across all levels of the explanatory variables.\n",
    "- **Normality**: The conditional distribution of error is normal. This also reinstates the linearity assumption that the conditional expectation of the response is linear.\n",
    "- **Non-multicollinearity**: There is no perfect correlation between two or more explanatory variables. We will also test for this assumption through a VIF test."
   ]
  },
  {
   "cell_type": "markdown",
   "id": "1b9d3a83-bd09-45e9-8f69-c9d30917b43b",
   "metadata": {},
   "source": [
    "### Testing for Scaled versions of Existing Variables\n",
    "We identified earlier that the normalized variables, `attr_index_norm` and `rest_index_norm`, may be perfectly scaled versions of their raw counterparts, `attr_index` and `rest_index`. If that is the case, it would violate our non-multicollinearity assumption, which requires that no explanatory variable be a perfect linear combination of others. Including both versions in the model would lead to redundancy and inflated standard errors. \n",
    "\n",
    "We will test for multicollinearity using the Variance Inflation Factor (VIF) scores to determine whether to keep the raw or normalized variables in our final regression model."
   ]
  },
  {
   "cell_type": "code",
   "execution_count": 9,
   "id": "da07b11a-df6a-440a-ab8c-a326c47ab97f",
   "metadata": {},
   "outputs": [
    {
     "data": {
      "text/html": [
       "<table class=\"dataframe\">\n",
       "<caption>A matrix: 16 × 3 of type dbl</caption>\n",
       "<thead>\n",
       "\t<tr><th></th><th scope=col>GVIF</th><th scope=col>Df</th><th scope=col>GVIF^(1/(2*Df))</th></tr>\n",
       "</thead>\n",
       "<tbody>\n",
       "\t<tr><th scope=row>room_type</th><td> 1.688956</td><td>2</td><td>1.139999</td></tr>\n",
       "\t<tr><th scope=row>person_capacity</th><td> 2.153756</td><td>1</td><td>1.467568</td></tr>\n",
       "\t<tr><th scope=row>host_is_superhost</th><td> 1.155365</td><td>1</td><td>1.074879</td></tr>\n",
       "\t<tr><th scope=row>multi</th><td> 1.433745</td><td>1</td><td>1.197391</td></tr>\n",
       "\t<tr><th scope=row>biz</th><td> 1.592306</td><td>1</td><td>1.261866</td></tr>\n",
       "\t<tr><th scope=row>cleanliness_rating</th><td> 2.256942</td><td>1</td><td>1.502312</td></tr>\n",
       "\t<tr><th scope=row>guest_satisfaction_overall</th><td> 2.336237</td><td>1</td><td>1.528475</td></tr>\n",
       "\t<tr><th scope=row>bedrooms</th><td> 1.552735</td><td>1</td><td>1.246088</td></tr>\n",
       "\t<tr><th scope=row>dist</th><td> 4.764003</td><td>1</td><td>2.182660</td></tr>\n",
       "\t<tr><th scope=row>metro_dist</th><td> 1.923162</td><td>1</td><td>1.386781</td></tr>\n",
       "\t<tr><th scope=row>attr_index</th><td> 7.480666</td><td>1</td><td>2.735081</td></tr>\n",
       "\t<tr><th scope=row>attr_index_norm</th><td> 7.101084</td><td>1</td><td>2.664786</td></tr>\n",
       "\t<tr><th scope=row>rest_index</th><td>10.267650</td><td>1</td><td>3.204317</td></tr>\n",
       "\t<tr><th scope=row>rest_index_norm</th><td> 6.733704</td><td>1</td><td>2.594938</td></tr>\n",
       "\t<tr><th scope=row>city</th><td>29.442160</td><td>2</td><td>2.329391</td></tr>\n",
       "\t<tr><th scope=row>weekend</th><td> 1.011744</td><td>1</td><td>1.005855</td></tr>\n",
       "</tbody>\n",
       "</table>\n"
      ],
      "text/latex": [
       "A matrix: 16 × 3 of type dbl\n",
       "\\begin{tabular}{r|lll}\n",
       "  & GVIF & Df & GVIF\\textasciicircum{}(1/(2*Df))\\\\\n",
       "\\hline\n",
       "\troom\\_type &  1.688956 & 2 & 1.139999\\\\\n",
       "\tperson\\_capacity &  2.153756 & 1 & 1.467568\\\\\n",
       "\thost\\_is\\_superhost &  1.155365 & 1 & 1.074879\\\\\n",
       "\tmulti &  1.433745 & 1 & 1.197391\\\\\n",
       "\tbiz &  1.592306 & 1 & 1.261866\\\\\n",
       "\tcleanliness\\_rating &  2.256942 & 1 & 1.502312\\\\\n",
       "\tguest\\_satisfaction\\_overall &  2.336237 & 1 & 1.528475\\\\\n",
       "\tbedrooms &  1.552735 & 1 & 1.246088\\\\\n",
       "\tdist &  4.764003 & 1 & 2.182660\\\\\n",
       "\tmetro\\_dist &  1.923162 & 1 & 1.386781\\\\\n",
       "\tattr\\_index &  7.480666 & 1 & 2.735081\\\\\n",
       "\tattr\\_index\\_norm &  7.101084 & 1 & 2.664786\\\\\n",
       "\trest\\_index & 10.267650 & 1 & 3.204317\\\\\n",
       "\trest\\_index\\_norm &  6.733704 & 1 & 2.594938\\\\\n",
       "\tcity & 29.442160 & 2 & 2.329391\\\\\n",
       "\tweekend &  1.011744 & 1 & 1.005855\\\\\n",
       "\\end{tabular}\n"
      ],
      "text/markdown": [
       "\n",
       "A matrix: 16 × 3 of type dbl\n",
       "\n",
       "| <!--/--> | GVIF | Df | GVIF^(1/(2*Df)) |\n",
       "|---|---|---|---|\n",
       "| room_type |  1.688956 | 2 | 1.139999 |\n",
       "| person_capacity |  2.153756 | 1 | 1.467568 |\n",
       "| host_is_superhost |  1.155365 | 1 | 1.074879 |\n",
       "| multi |  1.433745 | 1 | 1.197391 |\n",
       "| biz |  1.592306 | 1 | 1.261866 |\n",
       "| cleanliness_rating |  2.256942 | 1 | 1.502312 |\n",
       "| guest_satisfaction_overall |  2.336237 | 1 | 1.528475 |\n",
       "| bedrooms |  1.552735 | 1 | 1.246088 |\n",
       "| dist |  4.764003 | 1 | 2.182660 |\n",
       "| metro_dist |  1.923162 | 1 | 1.386781 |\n",
       "| attr_index |  7.480666 | 1 | 2.735081 |\n",
       "| attr_index_norm |  7.101084 | 1 | 2.664786 |\n",
       "| rest_index | 10.267650 | 1 | 3.204317 |\n",
       "| rest_index_norm |  6.733704 | 1 | 2.594938 |\n",
       "| city | 29.442160 | 2 | 2.329391 |\n",
       "| weekend |  1.011744 | 1 | 1.005855 |\n",
       "\n"
      ],
      "text/plain": [
       "                           GVIF      Df GVIF^(1/(2*Df))\n",
       "room_type                   1.688956 2  1.139999       \n",
       "person_capacity             2.153756 1  1.467568       \n",
       "host_is_superhost           1.155365 1  1.074879       \n",
       "multi                       1.433745 1  1.197391       \n",
       "biz                         1.592306 1  1.261866       \n",
       "cleanliness_rating          2.256942 1  1.502312       \n",
       "guest_satisfaction_overall  2.336237 1  1.528475       \n",
       "bedrooms                    1.552735 1  1.246088       \n",
       "dist                        4.764003 1  2.182660       \n",
       "metro_dist                  1.923162 1  1.386781       \n",
       "attr_index                  7.480666 1  2.735081       \n",
       "attr_index_norm             7.101084 1  2.664786       \n",
       "rest_index                 10.267650 1  3.204317       \n",
       "rest_index_norm             6.733704 1  2.594938       \n",
       "city                       29.442160 2  2.329391       \n",
       "weekend                     1.011744 1  1.005855       "
      ]
     },
     "metadata": {},
     "output_type": "display_data"
    }
   ],
   "source": [
    "# checking multicollinearity\n",
    "options(repr.matrix.max.rows = 18)\n",
    "\n",
    "# vif scores with all variables\n",
    "pre_vif <- vif(lm(realSum ~., data = airbnb_training))\n",
    "pre_vif"
   ]
  },
  {
   "cell_type": "markdown",
   "id": "c4c2ea5d-bcf7-431d-999a-dedde15e75a8",
   "metadata": {},
   "source": [
    "We will focus on the **GVIF^(1/(2*Df))** column to decide the variable selection process as our dataset contains multiple categorical variables. We can see that `attr_index` has a higher score than `attr_index_norm` and `rest_index` has a higher score than `rest_index_norm`. Therefore, we will remove the raw variables `attr_index` and `rest_index`.  "
   ]
  },
  {
   "cell_type": "code",
   "execution_count": 10,
   "id": "df1b243a-d4e3-4687-b73e-79aacfa1adf8",
   "metadata": {},
   "outputs": [
    {
     "data": {
      "text/html": [
       "<table class=\"dataframe\">\n",
       "<caption>A matrix: 14 × 3 of type dbl</caption>\n",
       "<thead>\n",
       "\t<tr><th></th><th scope=col>GVIF</th><th scope=col>Df</th><th scope=col>GVIF^(1/(2*Df))</th></tr>\n",
       "</thead>\n",
       "<tbody>\n",
       "\t<tr><th scope=row>room_type</th><td>1.682548</td><td>2</td><td>1.138916</td></tr>\n",
       "\t<tr><th scope=row>person_capacity</th><td>2.153721</td><td>1</td><td>1.467556</td></tr>\n",
       "\t<tr><th scope=row>host_is_superhost</th><td>1.154421</td><td>1</td><td>1.074440</td></tr>\n",
       "\t<tr><th scope=row>multi</th><td>1.433691</td><td>1</td><td>1.197368</td></tr>\n",
       "\t<tr><th scope=row>biz</th><td>1.589253</td><td>1</td><td>1.260656</td></tr>\n",
       "\t<tr><th scope=row>cleanliness_rating</th><td>2.256536</td><td>1</td><td>1.502177</td></tr>\n",
       "\t<tr><th scope=row>guest_satisfaction_overall</th><td>2.335724</td><td>1</td><td>1.528307</td></tr>\n",
       "\t<tr><th scope=row>bedrooms</th><td>1.552669</td><td>1</td><td>1.246061</td></tr>\n",
       "\t<tr><th scope=row>dist</th><td>4.610271</td><td>1</td><td>2.147154</td></tr>\n",
       "\t<tr><th scope=row>metro_dist</th><td>1.888696</td><td>1</td><td>1.374298</td></tr>\n",
       "\t<tr><th scope=row>attr_index_norm</th><td>3.441784</td><td>1</td><td>1.855205</td></tr>\n",
       "\t<tr><th scope=row>rest_index_norm</th><td>2.858434</td><td>1</td><td>1.690691</td></tr>\n",
       "\t<tr><th scope=row>city</th><td>5.533298</td><td>2</td><td>1.533720</td></tr>\n",
       "\t<tr><th scope=row>weekend</th><td>1.008247</td><td>1</td><td>1.004115</td></tr>\n",
       "</tbody>\n",
       "</table>\n"
      ],
      "text/latex": [
       "A matrix: 14 × 3 of type dbl\n",
       "\\begin{tabular}{r|lll}\n",
       "  & GVIF & Df & GVIF\\textasciicircum{}(1/(2*Df))\\\\\n",
       "\\hline\n",
       "\troom\\_type & 1.682548 & 2 & 1.138916\\\\\n",
       "\tperson\\_capacity & 2.153721 & 1 & 1.467556\\\\\n",
       "\thost\\_is\\_superhost & 1.154421 & 1 & 1.074440\\\\\n",
       "\tmulti & 1.433691 & 1 & 1.197368\\\\\n",
       "\tbiz & 1.589253 & 1 & 1.260656\\\\\n",
       "\tcleanliness\\_rating & 2.256536 & 1 & 1.502177\\\\\n",
       "\tguest\\_satisfaction\\_overall & 2.335724 & 1 & 1.528307\\\\\n",
       "\tbedrooms & 1.552669 & 1 & 1.246061\\\\\n",
       "\tdist & 4.610271 & 1 & 2.147154\\\\\n",
       "\tmetro\\_dist & 1.888696 & 1 & 1.374298\\\\\n",
       "\tattr\\_index\\_norm & 3.441784 & 1 & 1.855205\\\\\n",
       "\trest\\_index\\_norm & 2.858434 & 1 & 1.690691\\\\\n",
       "\tcity & 5.533298 & 2 & 1.533720\\\\\n",
       "\tweekend & 1.008247 & 1 & 1.004115\\\\\n",
       "\\end{tabular}\n"
      ],
      "text/markdown": [
       "\n",
       "A matrix: 14 × 3 of type dbl\n",
       "\n",
       "| <!--/--> | GVIF | Df | GVIF^(1/(2*Df)) |\n",
       "|---|---|---|---|\n",
       "| room_type | 1.682548 | 2 | 1.138916 |\n",
       "| person_capacity | 2.153721 | 1 | 1.467556 |\n",
       "| host_is_superhost | 1.154421 | 1 | 1.074440 |\n",
       "| multi | 1.433691 | 1 | 1.197368 |\n",
       "| biz | 1.589253 | 1 | 1.260656 |\n",
       "| cleanliness_rating | 2.256536 | 1 | 1.502177 |\n",
       "| guest_satisfaction_overall | 2.335724 | 1 | 1.528307 |\n",
       "| bedrooms | 1.552669 | 1 | 1.246061 |\n",
       "| dist | 4.610271 | 1 | 2.147154 |\n",
       "| metro_dist | 1.888696 | 1 | 1.374298 |\n",
       "| attr_index_norm | 3.441784 | 1 | 1.855205 |\n",
       "| rest_index_norm | 2.858434 | 1 | 1.690691 |\n",
       "| city | 5.533298 | 2 | 1.533720 |\n",
       "| weekend | 1.008247 | 1 | 1.004115 |\n",
       "\n"
      ],
      "text/plain": [
       "                           GVIF     Df GVIF^(1/(2*Df))\n",
       "room_type                  1.682548 2  1.138916       \n",
       "person_capacity            2.153721 1  1.467556       \n",
       "host_is_superhost          1.154421 1  1.074440       \n",
       "multi                      1.433691 1  1.197368       \n",
       "biz                        1.589253 1  1.260656       \n",
       "cleanliness_rating         2.256536 1  1.502177       \n",
       "guest_satisfaction_overall 2.335724 1  1.528307       \n",
       "bedrooms                   1.552669 1  1.246061       \n",
       "dist                       4.610271 1  2.147154       \n",
       "metro_dist                 1.888696 1  1.374298       \n",
       "attr_index_norm            3.441784 1  1.855205       \n",
       "rest_index_norm            2.858434 1  1.690691       \n",
       "city                       5.533298 2  1.533720       \n",
       "weekend                    1.008247 1  1.004115       "
      ]
     },
     "metadata": {},
     "output_type": "display_data"
    }
   ],
   "source": [
    "# removing raw variables as they have higher VIF scores than normalized variables\n",
    "airbnb_training <- dplyr::select(airbnb_training, -c(attr_index, rest_index))\n",
    "airbnb_validation <- dplyr::select(airbnb_validation, -c(attr_index, rest_index))\n",
    "airbnb_testing <- dplyr::select(airbnb_testing, -c(attr_index, rest_index))\n",
    "\n",
    "# vif scores without raw variables\n",
    "post_vif <- vif(lm(realSum ~., data = airbnb_training))\n",
    "post_vif"
   ]
  },
  {
   "cell_type": "markdown",
   "id": "758b2575-87f3-478d-bb5c-5e95a069201c",
   "metadata": {},
   "source": [
    "### Training Model Selection Methods\n",
    "We will use `airbnb_training` to train our model selection methods. \n",
    "\n",
    "For the backward stepwise selection method, we define the null model - which assumes that the best predictor of `realSum` is its average - and the full model - which assumes that it's best predicted by all the variables. The method will start with the full model and iteratively remove variables based on their contribution to the model’s performance measured by AIC. \n",
    "\n",
    "To prepare for regularization techniques, on the other hand, we convert the training data into a matrix form so it can be properly utilized by the techniques."
   ]
  },
  {
   "cell_type": "code",
   "execution_count": 11,
   "id": "1854b912-c0c2-492b-9a2f-20936ff0cf78",
   "metadata": {},
   "outputs": [],
   "source": [
    "# code taken from Anthony's assignment 2\n",
    "# full and null models, and training matrix\n",
    "null_model <- lm(realSum ~ 1, data = airbnb_training)\n",
    "full_model <- lm(realSum ~ ., data = airbnb_training)\n",
    "training_matrix <- model.matrix(object = realSum ~ ., data = airbnb_training)[, -1]"
   ]
  },
  {
   "cell_type": "code",
   "execution_count": 12,
   "id": "04fed6be-1ef2-43d1-b894-99be5c24ae56",
   "metadata": {},
   "outputs": [
    {
     "data": {
      "text/plain": [
       "\n",
       "Call:\n",
       "lm(formula = realSum ~ room_type + person_capacity + bedrooms + \n",
       "    metro_dist + attr_index_norm + rest_index_norm + city, data = airbnb_training)\n",
       "\n",
       "Residuals:\n",
       "    Min      1Q  Median      3Q     Max \n",
       " -792.5   -87.0   -21.5    52.3 14381.6 \n",
       "\n",
       "Coefficients:\n",
       "                       Estimate Std. Error t value Pr(>|t|)    \n",
       "(Intercept)            -53.1468    15.0138  -3.540 0.000402 ***\n",
       "room_typePrivate room -126.1750     7.5484 -16.715  < 2e-16 ***\n",
       "room_typeShared room  -171.8360    52.5426  -3.270 0.001077 ** \n",
       "person_capacity         18.1128     3.2296   5.608 2.08e-08 ***\n",
       "bedrooms               104.9495     6.0998  17.205  < 2e-16 ***\n",
       "metro_dist             -12.0428     3.1909  -3.774 0.000161 ***\n",
       "attr_index_norm          9.1613     0.4444  20.617  < 2e-16 ***\n",
       "rest_index_norm         -1.3377     0.3143  -4.256 2.10e-05 ***\n",
       "cityLondon             160.7517    13.4252  11.974  < 2e-16 ***\n",
       "cityRome                64.9518     8.9351   7.269 3.81e-13 ***\n",
       "---\n",
       "Signif. codes:  0 '***' 0.001 '**' 0.01 '*' 0.05 '.' 0.1 ' ' 1\n",
       "\n",
       "Residual standard error: 342.6 on 13815 degrees of freedom\n",
       "Multiple R-squared:  0.1922,\tAdjusted R-squared:  0.1917 \n",
       "F-statistic: 365.2 on 9 and 13815 DF,  p-value: < 2.2e-16\n"
      ]
     },
     "metadata": {},
     "output_type": "display_data"
    }
   ],
   "source": [
    "# code taken from Anthony's assignment 2\n",
    "# stepwise training - credit to Anthony\n",
    "n <- nrow(airbnb_training)\n",
    "stepwise_model <- stepAIC(full_model,\n",
    "                          direction = \"backward\",\n",
    "                          scope = list(lower = null_model, upper = full_model),\n",
    "                          k = log(n), trace = 0)\n",
    "summary(stepwise_model)"
   ]
  },
  {
   "cell_type": "code",
   "execution_count": 13,
   "id": "a76bedee-1458-4a85-a88d-045a531e959c",
   "metadata": {},
   "outputs": [
    {
     "data": {
      "text/plain": [
       "17 x 1 sparse Matrix of class \"dgCMatrix\"\n",
       "                                     s1\n",
       "(Intercept)                -132.0242246\n",
       "room_typePrivate room      -122.7676012\n",
       "room_typeShared room       -154.9426967\n",
       "person_capacity              18.4810079\n",
       "host_is_superhostTrue        -7.4699179\n",
       "multi                         .        \n",
       "biz                           .        \n",
       "cleanliness_rating            0.9649431\n",
       "guest_satisfaction_overall    0.7715510\n",
       "bedrooms                    103.2857589\n",
       "dist                          .        \n",
       "metro_dist                  -11.4493809\n",
       "attr_index_norm               9.1438159\n",
       "rest_index_norm              -1.3010340\n",
       "cityLondon                  155.3431521\n",
       "cityRome                     58.7946663\n",
       "weekend                       7.1001938"
      ]
     },
     "metadata": {},
     "output_type": "display_data"
    },
    {
     "data": {
      "text/html": [
       "'The lambda related to the minimum MSE in the LASSO model is 0.8548'"
      ],
      "text/latex": [
       "'The lambda related to the minimum MSE in the LASSO model is 0.8548'"
      ],
      "text/markdown": [
       "'The lambda related to the minimum MSE in the LASSO model is 0.8548'"
      ],
      "text/plain": [
       "[1] \"The lambda related to the minimum MSE in the LASSO model is 0.8548\""
      ]
     },
     "metadata": {},
     "output_type": "display_data"
    },
    {
     "data": {
      "image/png": "[encoded data removed]",
      "text/plain": [
       "plot without title"
      ]
     },
     "metadata": {
      "image/png": {
       "height": 420,
       "width": 420
      }
     },
     "output_type": "display_data"
    }
   ],
   "source": [
    "# LASSO training\n",
    "lasso_model <- cv.glmnet(x = training_matrix, y = airbnb_training$realSum, alpha = 1)\n",
    "coef(lasso_model, s = \"lambda.min\")\n",
    "plot(lasso_model)\n",
    "sprintf(\"The lambda related to the minimum MSE in the LASSO model is %.4f\", lasso_model$lambda.min)"
   ]
  },
  {
   "cell_type": "code",
   "execution_count": 14,
   "id": "a7cd0a89-1d6c-4058-9ed8-5f60a5befb1d",
   "metadata": {},
   "outputs": [
    {
     "data": {
      "text/plain": [
       "17 x 1 sparse Matrix of class \"dgCMatrix\"\n",
       "                                     s1\n",
       "(Intercept)                -136.3404254\n",
       "room_typePrivate room      -118.2070324\n",
       "room_typeShared room       -163.8599904\n",
       "person_capacity              19.9317661\n",
       "host_is_superhostTrue       -10.3792555\n",
       "multi                        -1.7986375\n",
       "biz                          -0.2052225\n",
       "cleanliness_rating            1.9381975\n",
       "guest_satisfaction_overall    0.7792359\n",
       "bedrooms                    100.5885161\n",
       "dist                          0.2474648\n",
       "metro_dist                  -12.5034415\n",
       "attr_index_norm               9.0320341\n",
       "rest_index_norm              -1.3579503\n",
       "cityLondon                  147.6247581\n",
       "cityRome                     53.4419201\n",
       "weekend                       8.8503011"
      ]
     },
     "metadata": {},
     "output_type": "display_data"
    },
    {
     "data": {
      "text/html": [
       "'The lambda related to the minimum MSE in the Ridge model is 11.8374'"
      ],
      "text/latex": [
       "'The lambda related to the minimum MSE in the Ridge model is 11.8374'"
      ],
      "text/markdown": [
       "'The lambda related to the minimum MSE in the Ridge model is 11.8374'"
      ],
      "text/plain": [
       "[1] \"The lambda related to the minimum MSE in the Ridge model is 11.8374\""
      ]
     },
     "metadata": {},
     "output_type": "display_data"
    },
    {
     "data": {
      "image/png": "[encoded data removed]",
      "text/plain": [
       "plot without title"
      ]
     },
     "metadata": {
      "image/png": {
       "height": 420,
       "width": 420
      }
     },
     "output_type": "display_data"
    }
   ],
   "source": [
    "# ridge training\n",
    "ridge_model <- cv.glmnet(x = training_matrix, y = airbnb_training$realSum, alpha = 0)\n",
    "coef(ridge_model, s = \"lambda.min\")\n",
    "plot(ridge_model)\n",
    "sprintf(\"The lambda related to the minimum MSE in the Ridge model is %.4f\", ridge_model$lambda.min)"
   ]
  },
  {
   "cell_type": "markdown",
   "id": "0994e62b-352c-4925-813f-1e1cf4a92d52",
   "metadata": {},
   "source": [
    "### Validating Model Selection Methods\n",
    "We will use `airbnb_validation` to test the trained models and choose the best one which has the lowest RMSE."
   ]
  },
  {
   "cell_type": "code",
   "execution_count": 15,
   "id": "f5ebb6e1-3b82-49c7-8742-7c24d5dd4310",
   "metadata": {},
   "outputs": [
    {
     "data": {
      "text/html": [
       "<table class=\"dataframe\">\n",
       "<caption>A tibble: 3 × 2</caption>\n",
       "<thead>\n",
       "\t<tr><th scope=col>Model</th><th scope=col>RMSE</th></tr>\n",
       "\t<tr><th scope=col>&lt;chr&gt;</th><th scope=col>&lt;dbl&gt;</th></tr>\n",
       "</thead>\n",
       "<tbody>\n",
       "\t<tr><td>Multiple Linear Regression with Stepwise Selection</td><td>197.2752</td></tr>\n",
       "\t<tr><td>LASSO Regression with Minimum MSE                 </td><td>197.1093</td></tr>\n",
       "\t<tr><td>Ridge Regression with Minimum MSE                 </td><td>196.9571</td></tr>\n",
       "</tbody>\n",
       "</table>\n"
      ],
      "text/latex": [
       "A tibble: 3 × 2\n",
       "\\begin{tabular}{ll}\n",
       " Model & RMSE\\\\\n",
       " <chr> & <dbl>\\\\\n",
       "\\hline\n",
       "\t Multiple Linear Regression with Stepwise Selection & 197.2752\\\\\n",
       "\t LASSO Regression with Minimum MSE                  & 197.1093\\\\\n",
       "\t Ridge Regression with Minimum MSE                  & 196.9571\\\\\n",
       "\\end{tabular}\n"
      ],
      "text/markdown": [
       "\n",
       "A tibble: 3 × 2\n",
       "\n",
       "| Model &lt;chr&gt; | RMSE &lt;dbl&gt; |\n",
       "|---|---|\n",
       "| Multiple Linear Regression with Stepwise Selection | 197.2752 |\n",
       "| LASSO Regression with Minimum MSE                  | 197.1093 |\n",
       "| Ridge Regression with Minimum MSE                  | 196.9571 |\n",
       "\n"
      ],
      "text/plain": [
       "  Model                                              RMSE    \n",
       "1 Multiple Linear Regression with Stepwise Selection 197.2752\n",
       "2 LASSO Regression with Minimum MSE                  197.1093\n",
       "3 Ridge Regression with Minimum MSE                  196.9571"
      ]
     },
     "metadata": {},
     "output_type": "display_data"
    }
   ],
   "source": [
    "# validation\n",
    "validation_matrix <- model.matrix(object = realSum ~ ., data = airbnb_validation)[, -1]\n",
    "stepwise_preds <- predict(stepwise_model, newdata = airbnb_validation)\n",
    "lasso_preds <- predict(lasso_model, newx = validation_matrix, s = \"lambda.min\")\n",
    "ridge_preds <- predict(ridge_model, newx = validation_matrix, s = \"lambda.min\")\n",
    "\n",
    "validation_rmse <- tibble(\n",
    "    Model = c(\"Multiple Linear Regression with Stepwise Selection\", \"LASSO Regression with Minimum MSE\", \"Ridge Regression with Minimum MSE\"),\n",
    "    RMSE = c(RMSE(stepwise_preds, airbnb_validation$realSum),\n",
    "             RMSE(lasso_preds, airbnb_validation$realSum),\n",
    "             RMSE(ridge_preds, airbnb_validation$realSum))\n",
    ")\n",
    "\n",
    "validation_rmse"
   ]
  },
  {
   "cell_type": "markdown",
   "id": "611ce061-f77b-4ba4-b3de-4a353f826713",
   "metadata": {},
   "source": [
    "### Model Selection\n",
    "After evaluating the performance of three regression models on the validation set using RMSE, we find that while all models performed similarly, Ridge regression achieved the lowest RMSE (196.96), followed closely by LASSO (197.11) and Stepwise Linear Regression (197.28). This suggests that Ridge regularization slightly improved predictive accuracy.\n",
    "\n",
    "Since Ridge regression utilizes all variables in the dataset and assigns coefficients to predictors such that multicollinearity is minimized, we won't need to test the VIF scores."
   ]
  },
  {
   "cell_type": "markdown",
   "id": "33b354f1-6dea-47c3-8140-0b3dd71a7cf2",
   "metadata": {},
   "source": [
    "### Fitting the Ridge Model on Testing Data\n",
    "Now that we've selected the Ridge model, we will fit it on testing data and evaluate its performance."
   ]
  },
  {
   "cell_type": "code",
   "execution_count": 16,
   "id": "07d07daf-b0f3-4b00-907b-0c9b0761fc9f",
   "metadata": {},
   "outputs": [],
   "source": [
    "# preparing testing data in matrix format\n",
    "test_matrix <- model.matrix(realSum ~ ., data = airbnb_testing)[, -1]\n",
    "\n",
    "# fitting ridge model on testing data\n",
    "ridge_test_preds <- predict(ridge_model, newx = test_matrix, s = \"lambda.min\")"
   ]
  },
  {
   "cell_type": "code",
   "execution_count": 17,
   "id": "1fa33122-3583-4d37-8451-e922a92192fd",
   "metadata": {},
   "outputs": [
    {
     "data": {
      "text/html": [
       "198.284802285799"
      ],
      "text/latex": [
       "198.284802285799"
      ],
      "text/markdown": [
       "198.284802285799"
      ],
      "text/plain": [
       "[1] 198.2848"
      ]
     },
     "metadata": {},
     "output_type": "display_data"
    }
   ],
   "source": [
    "# evaluating performance of the ridge model\n",
    "ridge_test_rmse <- RMSE(ridge_test_preds, airbnb_testing$realSum)\n",
    "ridge_test_rmse"
   ]
  },
  {
   "cell_type": "code",
   "execution_count": 18,
   "id": "76acdcf9-5efc-4939-b66e-36a901c354af",
   "metadata": {},
   "outputs": [
    {
     "data": {
      "text/plain": [
       "17 x 1 sparse Matrix of class \"dgCMatrix\"\n",
       "                                     s1\n",
       "(Intercept)                -136.3404254\n",
       "room_typePrivate room      -118.2070324\n",
       "room_typeShared room       -163.8599904\n",
       "person_capacity              19.9317661\n",
       "host_is_superhostTrue       -10.3792555\n",
       "multi                        -1.7986375\n",
       "biz                          -0.2052225\n",
       "cleanliness_rating            1.9381975\n",
       "guest_satisfaction_overall    0.7792359\n",
       "bedrooms                    100.5885161\n",
       "dist                          0.2474648\n",
       "metro_dist                  -12.5034415\n",
       "attr_index_norm               9.0320341\n",
       "rest_index_norm              -1.3579503\n",
       "cityLondon                  147.6247581\n",
       "cityRome                     53.4419201\n",
       "weekend                       8.8503011"
      ]
     },
     "metadata": {},
     "output_type": "display_data"
    }
   ],
   "source": [
    "# visualizing ridge coefficients again\n",
    "coef(ridge_model, s = \"lambda.min\")"
   ]
  },
  {
   "cell_type": "markdown",
   "id": "be65745e-d230-4e47-87c9-aff01ae9863a",
   "metadata": {},
   "source": [
    "# 4. Discussion\n",
    "<font color = \"red\"> **(delete before submitting)** </font>\n",
    "In this section, you’ll interpret and reflect on the results you obtained in the previous section with respect to the main question/goal of your project.\n",
    "\n",
    "Summarize what you found and the implications/impact of your findings\n",
    "If relevant, discuss whether your results were what you expected to find\n",
    "Discuss how your model could be improved\n",
    "Discuss future questions/research this study could lead to"
   ]
  },
  {
   "cell_type": "markdown",
   "id": "cb97dcf3-7917-4f4f-8bd3-0729ce1d871e",
   "metadata": {},
   "source": [
    "# 5. References\n",
    "Barron, K., Kung, E., & Proserpio, D. (2019). *When Airbnb Listings in a City Increase, So Do Rent Prices.* Harvard Business Review. https://ci.carmel.ca.us/sites/main/files/file-attachments/harvard_business_article_and_study.pdf\n",
    "\n",
    "Deboosere, R., Kerrigan, D. J., Wachsmuth, D., & El-Geneidy, A. (2019). *Location, location and professionalization: a multilevel hedonic analysis of Airbnb listing prices and revenue.* Regional Studies, Regional Science, 6(1), 143–156. https://doi.org/10.1080/21681376.2019.1592699\n",
    "\n",
    "Gyódi, K., & Nawaro Ł. (2021). *Determinants of Airbnb prices in European cities: A spatial econometrics approach*. https://doi.org/10.1016/j.tourman.2021.104319"
   ]
  }
 ],
 "metadata": {
  "kernelspec": {
   "display_name": "R",
   "language": "R",
   "name": "ir"
  },
  "language_info": {
   "codemirror_mode": "r",
   "file_extension": ".r",
   "mimetype": "text/x-r-source",
   "name": "R",
   "pygments_lexer": "r",
   "version": "4.5.0"
  }
 },
 "nbformat": 4,
 "nbformat_minor": 5
}
