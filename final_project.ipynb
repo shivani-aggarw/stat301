{
 "cells": [
  {
   "cell_type": "markdown",
   "id": "f5a064b2",
   "metadata": {},
   "source": [
    "# Predicting Airbnb Prices\n",
    "**Group Members**: Anthony Leong, Brian Ni, Shivani Aggarwal, Tina Yu <br> \n",
    "STAT 301, April 16 2025"
   ]
  },
  {
   "cell_type": "markdown",
   "id": "422428d3",
   "metadata": {},
   "source": [
    "# Introduction\n",
    "## Background and Research Motivation\n",
    "\n",
    "With the growth of peer-to-peer accommodation platforms, Airbnb has become a dominant player in the short-term rental market across major cities worldwide. The pricing of Airbnb listings varies significantly, driven by numerous listing and location-specific characteristics. There are numerous studies examining this relationship for various reasons:\n",
    "- Understanding what factors are associated with the variation in Airbnb prices can help both hosts optimize their listings and travelers make more informed booking decisions.\n",
    "- Scholars have argued that the existence of Airbnb listings raise the cost of living for local renters as landlords are switching their property to cater short-term rentals, decreasing supply for long-term renters and driving up the rental rates over time (Barron et al., 2019).\n",
    "- The growth of Airbnb in neighbours that are not traditionally touristic brings economic growth to these areas, while also disrupting the hotel industry (Deboosere et al., 2019).\n",
    "\n",
    "While many studies have identified factors associated with listing prices, fewer have evaluated whether these features can be used to *predict prices* with reasonable accuracy. In this project, we explore this predictive focus using Airbnb listings from three popular European cities: London, Rome, and Budapest."
   ]
  },
  {
   "cell_type": "markdown",
   "id": "2dfa8d19-1b45-4183-a7ee-1bbfffd11c2f",
   "metadata": {},
   "source": [
    "## Research Question\n",
    "We are interested in answering the following research question in this report through our analysis.\n",
    "- **Can we predict the price of an Airbnb listing based on its characteristics?**  \n",
    "\n",
    "This question is predictive. We aim to build a model to estimate listing prices from available features, assessing model performance on unseen data."
   ]
  },
  {
   "cell_type": "markdown",
   "id": "94d0b47c-282f-480e-9f3a-5ef03a542b7e",
   "metadata": {},
   "source": [
    "# Methods and Results\n",
    "## Data\n",
    "\n",
    "The dataset that will be used in this project was originally published in the article *Determinants of Airbnb prices in European cities:  A spatial econometrics approach* ([Gyódi & Nawaro, 2021](https://doi.org/10.1016/j.tourman.2021.104319)). This dataset provides information about 51,708 Airbnb listings in 10 popular European cities - Amsterdam, Athens, Barcelona, Berlin, Budapest, Lisbon, London, Paris, Rome, and Vienna.\n",
    "\n",
    "The dataset in the article was collected by web-scraping the Airbnb platform to look for accommodations for two people and two nights in 10 major European cities, 4-6 weeks in advance of the travel dates. Additionally, TripAdvisor was used to obtain reviews of nearby attractions/restaurants and Wikipedia was used to calculate the distance to the nearest metro station.\n",
    "\n",
    "The dataset contains 22 variables as described in the table below: \n",
    "\n",
    "| Variable | Description | Type |\n",
    "| -------- | ----------- | ---- |\n",
    "|`X`| The ID of the listing| Numeric|\n",
    "|`realSum`| The total price of the listing| Numeric|\n",
    "|`room_type`| The type of room being offered (private, shared, or entire home/apartment)| Categorical (3 levels)|\n",
    "|`room_shared`|\tIndicates whether the listing is for a shared room| Boolean|\n",
    "|`room_private`| Indicates whether the listing is for a private room| Boolean|\n",
    "|`person_capacity`|\tThe maximum capacity of the listing| Numeric|\n",
    "|`host_is_superhost`|Indicates whether the host is a superhost | Boolean|\n",
    "|`multi`|Indicates whether the listing is from a host with 2-4 listings | Boolean|\n",
    "|`biz`|Indicates whether the listing is from a host with more than 4 listings |Boolean|\n",
    "|`cleanliness_rating`|\tThe cleanliness rating of the listing (0-10) |Numeric|\n",
    "|`guest_satisfaction_overall`|\tThe overall guest satisfaction rating of the listing (0-100) | Numeric|\n",
    "|`bedrooms`|\tThe total number of bedrooms|Numeric|\n",
    "|`dist`|\tThe distance from the listing to the city centre in km|Numeric|\n",
    "|`metro_dist`|\tThe distance from the listing to the nearest metro station in km|Numeric|\n",
    "|`atrr_index`| Attraction index, determined by the number of reviews at nearby attractions | Numeric|\n",
    "|`atrr_index_norm`| Normalized attraction index (0-100) | Numeric|\n",
    "|`rest_index`| Restaurant index, determined by the number of reviews at nearby restaurants | Numeric|\n",
    "|`rest_index_norm`| Normalized restaurant index (0-100) | Numeric|\n",
    "|`lng`|\tThe longitude of the listing |Numeric|\n",
    "|`lat`|\tThe latitude of the listing |Numeric|\n",
    "|`city`| The city where the listing is located |Categorical (10 levels)|\n",
    "|`weekend`|\tIndeicates whether the listing is on a weekend |Boolean|"
   ]
  },
  {
   "cell_type": "markdown",
   "id": "7447c426-a1f0-4d4f-966a-a39e863e2102",
   "metadata": {},
   "source": [
    "### Pre-selection of Variables\n",
    "\n",
    "The following variables will not be included in the analysis:\n",
    "\n",
    "- `X`: The `X` variable is an identifier for each listing, so it is a completely meaningless variable to analyze\n",
    "- `room_shared` and `room_private`: The type of room is already captured by the `room_type` variable, so `room_shared` and `room_private` are redundant variables that do not need to be analyzed.\n",
    "\n",
    "For the purpose of this project, we will only use listings from Budapest, London, and Rome. Listings from other cities will not be included."
   ]
  },
  {
   "cell_type": "markdown",
   "id": "3d1c01d1-1dad-4cff-a7d2-3b8622d33bcf",
   "metadata": {},
   "source": [
    "### Reading the data"
   ]
  },
  {
   "cell_type": "code",
   "execution_count": 1,
   "id": "c0bfae2c",
   "metadata": {
    "vscode": {
     "languageId": "r"
    }
   },
   "outputs": [
    {
     "name": "stderr",
     "output_type": "stream",
     "text": [
      "Warning message:\n",
      "\"package 'tidyverse' was built under R version 4.4.3\"\n",
      "── \u001b[1mAttaching core tidyverse packages\u001b[22m ──────────────────────────────────────────────────────────────── tidyverse 2.0.0 ──\n",
      "\u001b[32m✔\u001b[39m \u001b[34mdplyr    \u001b[39m 1.1.4     \u001b[32m✔\u001b[39m \u001b[34mreadr    \u001b[39m 2.1.5\n",
      "\u001b[32m✔\u001b[39m \u001b[34mforcats  \u001b[39m 1.0.0     \u001b[32m✔\u001b[39m \u001b[34mstringr  \u001b[39m 1.5.1\n",
      "\u001b[32m✔\u001b[39m \u001b[34mggplot2  \u001b[39m 3.5.1     \u001b[32m✔\u001b[39m \u001b[34mtibble   \u001b[39m 3.2.1\n",
      "\u001b[32m✔\u001b[39m \u001b[34mlubridate\u001b[39m 1.9.3     \u001b[32m✔\u001b[39m \u001b[34mtidyr    \u001b[39m 1.3.1\n",
      "\u001b[32m✔\u001b[39m \u001b[34mpurrr    \u001b[39m 1.0.2     \n",
      "── \u001b[1mConflicts\u001b[22m ────────────────────────────────────────────────────────────────────────────────── tidyverse_conflicts() ──\n",
      "\u001b[31m✖\u001b[39m \u001b[34mdplyr\u001b[39m::\u001b[32mfilter()\u001b[39m masks \u001b[34mstats\u001b[39m::filter()\n",
      "\u001b[31m✖\u001b[39m \u001b[34mdplyr\u001b[39m::\u001b[32mlag()\u001b[39m    masks \u001b[34mstats\u001b[39m::lag()\n",
      "\u001b[36mℹ\u001b[39m Use the conflicted package (\u001b[3m\u001b[34m<http://conflicted.r-lib.org/>\u001b[39m\u001b[23m) to force all conflicts to become errors\n",
      "Warning message:\n",
      "\"package 'glmnet' was built under R version 4.4.3\"\n",
      "Loading required package: Matrix\n",
      "\n",
      "\n",
      "Attaching package: 'Matrix'\n",
      "\n",
      "\n",
      "The following objects are masked from 'package:tidyr':\n",
      "\n",
      "    expand, pack, unpack\n",
      "\n",
      "\n",
      "Loaded glmnet 4.1-8\n",
      "\n",
      "Loading required package: carData\n",
      "\n",
      "\n",
      "Attaching package: 'car'\n",
      "\n",
      "\n",
      "The following object is masked from 'package:dplyr':\n",
      "\n",
      "    recode\n",
      "\n",
      "\n",
      "The following object is masked from 'package:purrr':\n",
      "\n",
      "    some\n",
      "\n",
      "\n",
      "Warning message:\n",
      "\"package 'MASS' was built under R version 4.4.3\"\n",
      "\n",
      "Attaching package: 'MASS'\n",
      "\n",
      "\n",
      "The following object is masked from 'package:dplyr':\n",
      "\n",
      "    select\n",
      "\n",
      "\n",
      "Warning message:\n",
      "\"package 'caret' was built under R version 4.4.3\"\n",
      "Loading required package: lattice\n",
      "\n",
      "\n",
      "Attaching package: 'caret'\n",
      "\n",
      "\n",
      "The following object is masked from 'package:purrr':\n",
      "\n",
      "    lift\n",
      "\n",
      "\n",
      "Warning message:\n",
      "\"package 'corrplot' was built under R version 4.4.3\"\n",
      "corrplot 0.95 loaded\n",
      "\n"
     ]
    }
   ],
   "source": [
    "# required libraries\n",
    "# install.packages(\"tidyverse\")\n",
    "library(tidyverse)\n",
    "# install.packages(\"repr\")\n",
    "library(repr)\n",
    "# install.packages(\"broom\")\n",
    "library(broom)\n",
    "# install.packages(\"ggplot2\")\n",
    "library(ggplot2)\n",
    "# install.packages(\"glmnet\")\n",
    "library(glmnet)\n",
    "# install.packages(\"car\")\n",
    "library(car)\n",
    "# install.packages(\"MASS\")\n",
    "library(MASS)\n",
    "# install.packages(\"caret\")\n",
    "library(caret)\n",
    "# install.packages(\"dplyr\")\n",
    "library(dplyr)\n",
    "# install.packages(\"corrplot\")\n",
    "library(corrplot)\n",
    "options(repr.matrix.max.rows = 8)"
   ]
  },
  {
   "cell_type": "code",
   "execution_count": 2,
   "id": "4856e16c",
   "metadata": {},
   "outputs": [],
   "source": [
    "# code taken from Shivani's assignment 2\n",
    "# loading data from public GitHub repo\n",
    "bud_wd_url <- \"https://raw.githubusercontent.com/shivani-aggarw/stat301/refs/heads/main/data/budapest_weekdays.csv\"\n",
    "bud_we_url <- \"https://raw.githubusercontent.com/shivani-aggarw/stat301/refs/heads/main/data/budapest_weekends.csv\"\n",
    "lon_wd_url <- \"https://raw.githubusercontent.com/shivani-aggarw/stat301/refs/heads/main/data/london_weekdays.csv\"\n",
    "lon_we_url <- \"https://raw.githubusercontent.com/shivani-aggarw/stat301/refs/heads/main/data/london_weekends.csv\"\n",
    "rom_wd_url <- \"https://raw.githubusercontent.com/shivani-aggarw/stat301/refs/heads/main/data/rome_weekdays.csv\"\n",
    "rom_we_url <- \"https://raw.githubusercontent.com/shivani-aggarw/stat301/refs/heads/main/data/rome_weekends.csv\""
   ]
  },
  {
   "cell_type": "code",
   "execution_count": 3,
   "id": "a9e572af",
   "metadata": {
    "vscode": {
     "languageId": "r"
    }
   },
   "outputs": [],
   "source": [
    "# code taken from Shivani's assignment 2\n",
    "# reading in the .csv files and adding variables for\n",
    "# city and weekend (since they are stored in the file name)\n",
    "bud_wd <- read.csv(bud_wd_url)\n",
    "bud_wd <- bud_wd  %>% \n",
    "    mutate(city = \"Budapest\",\n",
    "          weekend = 0)  \n",
    "\n",
    "bud_we <- read.csv(bud_we_url)\n",
    "bud_we <- bud_we  %>% \n",
    "    mutate(city = \"Budapest\",\n",
    "          weekend = 1)    \n",
    "\n",
    "lon_wd <- read.csv(lon_wd_url)\n",
    "lon_wd <- lon_wd  %>% \n",
    "    mutate(city = \"London\",\n",
    "          weekend = 0) \n",
    "\n",
    "lon_we <- read.csv(lon_we_url)\n",
    "lon_we <- lon_we  %>% \n",
    "    mutate(city = \"London\",\n",
    "          weekend = 1)  \n",
    "\n",
    "rom_wd <- read.csv(rom_wd_url)\n",
    "rom_wd <- rom_wd  %>% \n",
    "    mutate(city = \"Rome\",\n",
    "          weekend = 0)\n",
    "\n",
    "rom_we <- read.csv(rom_we_url)\n",
    "rom_we <- rom_we  %>% \n",
    "    mutate(city = \"Rome\",\n",
    "          weekend = 1)  \n",
    "\n",
    "airbnb <- rbind(bud_wd, bud_we, lon_wd, lon_we, rom_wd, rom_we)"
   ]
  },
  {
   "cell_type": "markdown",
   "id": "266444a2-b368-4863-9795-31315cdfd00f",
   "metadata": {},
   "source": [
    "## Exploratory Data Analysis\n",
    "### Data Cleaning, Wrangling, and Splitting"
   ]
  },
  {
   "cell_type": "code",
   "execution_count": 4,
   "id": "14f7f5f5-0e4a-423c-aef7-4a62b5879152",
   "metadata": {
    "tags": []
   },
   "outputs": [
    {
     "data": {
      "text/html": [
       "<table class=\"dataframe\">\n",
       "<caption>A data.frame: 13825 × 19</caption>\n",
       "<thead>\n",
       "\t<tr><th scope=col>realSum</th><th scope=col>room_type</th><th scope=col>person_capacity</th><th scope=col>host_is_superhost</th><th scope=col>multi</th><th scope=col>biz</th><th scope=col>cleanliness_rating</th><th scope=col>guest_satisfaction_overall</th><th scope=col>bedrooms</th><th scope=col>dist</th><th scope=col>metro_dist</th><th scope=col>attr_index</th><th scope=col>attr_index_norm</th><th scope=col>rest_index</th><th scope=col>rest_index_norm</th><th scope=col>lng</th><th scope=col>lat</th><th scope=col>city</th><th scope=col>weekend</th></tr>\n",
       "\t<tr><th scope=col>&lt;dbl&gt;</th><th scope=col>&lt;chr&gt;</th><th scope=col>&lt;dbl&gt;</th><th scope=col>&lt;chr&gt;</th><th scope=col>&lt;int&gt;</th><th scope=col>&lt;int&gt;</th><th scope=col>&lt;dbl&gt;</th><th scope=col>&lt;dbl&gt;</th><th scope=col>&lt;int&gt;</th><th scope=col>&lt;dbl&gt;</th><th scope=col>&lt;dbl&gt;</th><th scope=col>&lt;dbl&gt;</th><th scope=col>&lt;dbl&gt;</th><th scope=col>&lt;dbl&gt;</th><th scope=col>&lt;dbl&gt;</th><th scope=col>&lt;dbl&gt;</th><th scope=col>&lt;dbl&gt;</th><th scope=col>&lt;chr&gt;</th><th scope=col>&lt;dbl&gt;</th></tr>\n",
       "</thead>\n",
       "<tbody>\n",
       "\t<tr><td>115.9482</td><td>Private room   </td><td>2</td><td>False</td><td>0</td><td>0</td><td> 9</td><td>96</td><td>1</td><td>5.709598</td><td>1.1811269</td><td>197.9007</td><td>13.75685</td><td>440.1913</td><td> 7.878657</td><td>-0.09040</td><td>51.55412</td><td>London</td><td>1</td></tr>\n",
       "\t<tr><td>161.5505</td><td>Entire home/apt</td><td>4</td><td>False</td><td>0</td><td>0</td><td>10</td><td>95</td><td>2</td><td>5.550061</td><td>0.8649050</td><td>138.0221</td><td> 3.05794</td><td>381.7032</td><td> 8.316387</td><td>12.53748</td><td>41.85841</td><td>Rome  </td><td>1</td></tr>\n",
       "\t<tr><td>262.7061</td><td>Private room   </td><td>4</td><td>False</td><td>0</td><td>0</td><td> 9</td><td>85</td><td>1</td><td>6.458999</td><td>1.4078789</td><td>198.1813</td><td>13.77636</td><td>381.8880</td><td> 6.835130</td><td>-0.04102</td><td>51.48699</td><td>London</td><td>1</td></tr>\n",
       "\t<tr><td>161.8100</td><td>Shared room    </td><td>3</td><td>False</td><td>0</td><td>1</td><td> 9</td><td>93</td><td>1</td><td>2.107140</td><td>0.5158519</td><td>486.8107</td><td>33.84011</td><td>914.8149</td><td>16.373593</td><td>-0.14040</td><td>51.49118</td><td>London</td><td>1</td></tr>\n",
       "\t<tr><td>⋮</td><td>⋮</td><td>⋮</td><td>⋮</td><td>⋮</td><td>⋮</td><td>⋮</td><td>⋮</td><td>⋮</td><td>⋮</td><td>⋮</td><td>⋮</td><td>⋮</td><td>⋮</td><td>⋮</td><td>⋮</td><td>⋮</td><td>⋮</td><td>⋮</td></tr>\n",
       "\t<tr><td>628.8953</td><td>Entire home/apt</td><td>3</td><td>False</td><td>1</td><td>0</td><td>10</td><td> 96</td><td>1</td><td>3.5551176</td><td>0.7481155</td><td>361.9569</td><td>25.16103</td><td> 729.1451</td><td>13.050426</td><td>-0.16772</td><td>51.48855</td><td>London  </td><td>1</td></tr>\n",
       "\t<tr><td>180.8603</td><td>Private room   </td><td>2</td><td>True </td><td>1</td><td>0</td><td>10</td><td>100</td><td>1</td><td>7.2329258</td><td>1.8969464</td><td>166.5546</td><td>11.57786</td><td> 353.6954</td><td> 6.330531</td><td>-0.03837</td><td>51.54199</td><td>London  </td><td>1</td></tr>\n",
       "\t<tr><td>118.2028</td><td>Entire home/apt</td><td>6</td><td>True </td><td>0</td><td>1</td><td> 9</td><td> 95</td><td>1</td><td>0.1049907</td><td>0.1585647</td><td>382.9778</td><td>22.85762</td><td> 844.9664</td><td>73.865234</td><td>19.05300</td><td>47.49900</td><td>Budapest</td><td>1</td></tr>\n",
       "\t<tr><td>242.6765</td><td>Entire home/apt</td><td>3</td><td>True </td><td>0</td><td>0</td><td>10</td><td> 98</td><td>1</td><td>2.8875155</td><td>1.2441687</td><td>714.2509</td><td>15.82455</td><td>1771.5635</td><td>38.598071</td><td>12.46746</td><td>41.90040</td><td>Rome    </td><td>1</td></tr>\n",
       "</tbody>\n",
       "</table>\n"
      ],
      "text/latex": [
       "A data.frame: 13825 × 19\n",
       "\\begin{tabular}{lllllllllllllllllll}\n",
       " realSum & room\\_type & person\\_capacity & host\\_is\\_superhost & multi & biz & cleanliness\\_rating & guest\\_satisfaction\\_overall & bedrooms & dist & metro\\_dist & attr\\_index & attr\\_index\\_norm & rest\\_index & rest\\_index\\_norm & lng & lat & city & weekend\\\\\n",
       " <dbl> & <chr> & <dbl> & <chr> & <int> & <int> & <dbl> & <dbl> & <int> & <dbl> & <dbl> & <dbl> & <dbl> & <dbl> & <dbl> & <dbl> & <dbl> & <chr> & <dbl>\\\\\n",
       "\\hline\n",
       "\t 115.9482 & Private room    & 2 & False & 0 & 0 &  9 & 96 & 1 & 5.709598 & 1.1811269 & 197.9007 & 13.75685 & 440.1913 &  7.878657 & -0.09040 & 51.55412 & London & 1\\\\\n",
       "\t 161.5505 & Entire home/apt & 4 & False & 0 & 0 & 10 & 95 & 2 & 5.550061 & 0.8649050 & 138.0221 &  3.05794 & 381.7032 &  8.316387 & 12.53748 & 41.85841 & Rome   & 1\\\\\n",
       "\t 262.7061 & Private room    & 4 & False & 0 & 0 &  9 & 85 & 1 & 6.458999 & 1.4078789 & 198.1813 & 13.77636 & 381.8880 &  6.835130 & -0.04102 & 51.48699 & London & 1\\\\\n",
       "\t 161.8100 & Shared room     & 3 & False & 0 & 1 &  9 & 93 & 1 & 2.107140 & 0.5158519 & 486.8107 & 33.84011 & 914.8149 & 16.373593 & -0.14040 & 51.49118 & London & 1\\\\\n",
       "\t ⋮ & ⋮ & ⋮ & ⋮ & ⋮ & ⋮ & ⋮ & ⋮ & ⋮ & ⋮ & ⋮ & ⋮ & ⋮ & ⋮ & ⋮ & ⋮ & ⋮ & ⋮ & ⋮\\\\\n",
       "\t 628.8953 & Entire home/apt & 3 & False & 1 & 0 & 10 &  96 & 1 & 3.5551176 & 0.7481155 & 361.9569 & 25.16103 &  729.1451 & 13.050426 & -0.16772 & 51.48855 & London   & 1\\\\\n",
       "\t 180.8603 & Private room    & 2 & True  & 1 & 0 & 10 & 100 & 1 & 7.2329258 & 1.8969464 & 166.5546 & 11.57786 &  353.6954 &  6.330531 & -0.03837 & 51.54199 & London   & 1\\\\\n",
       "\t 118.2028 & Entire home/apt & 6 & True  & 0 & 1 &  9 &  95 & 1 & 0.1049907 & 0.1585647 & 382.9778 & 22.85762 &  844.9664 & 73.865234 & 19.05300 & 47.49900 & Budapest & 1\\\\\n",
       "\t 242.6765 & Entire home/apt & 3 & True  & 0 & 0 & 10 &  98 & 1 & 2.8875155 & 1.2441687 & 714.2509 & 15.82455 & 1771.5635 & 38.598071 & 12.46746 & 41.90040 & Rome     & 1\\\\\n",
       "\\end{tabular}\n"
      ],
      "text/markdown": [
       "\n",
       "A data.frame: 13825 × 19\n",
       "\n",
       "| realSum &lt;dbl&gt; | room_type &lt;chr&gt; | person_capacity &lt;dbl&gt; | host_is_superhost &lt;chr&gt; | multi &lt;int&gt; | biz &lt;int&gt; | cleanliness_rating &lt;dbl&gt; | guest_satisfaction_overall &lt;dbl&gt; | bedrooms &lt;int&gt; | dist &lt;dbl&gt; | metro_dist &lt;dbl&gt; | attr_index &lt;dbl&gt; | attr_index_norm &lt;dbl&gt; | rest_index &lt;dbl&gt; | rest_index_norm &lt;dbl&gt; | lng &lt;dbl&gt; | lat &lt;dbl&gt; | city &lt;chr&gt; | weekend &lt;dbl&gt; |\n",
       "|---|---|---|---|---|---|---|---|---|---|---|---|---|---|---|---|---|---|---|\n",
       "| 115.9482 | Private room    | 2 | False | 0 | 0 |  9 | 96 | 1 | 5.709598 | 1.1811269 | 197.9007 | 13.75685 | 440.1913 |  7.878657 | -0.09040 | 51.55412 | London | 1 |\n",
       "| 161.5505 | Entire home/apt | 4 | False | 0 | 0 | 10 | 95 | 2 | 5.550061 | 0.8649050 | 138.0221 |  3.05794 | 381.7032 |  8.316387 | 12.53748 | 41.85841 | Rome   | 1 |\n",
       "| 262.7061 | Private room    | 4 | False | 0 | 0 |  9 | 85 | 1 | 6.458999 | 1.4078789 | 198.1813 | 13.77636 | 381.8880 |  6.835130 | -0.04102 | 51.48699 | London | 1 |\n",
       "| 161.8100 | Shared room     | 3 | False | 0 | 1 |  9 | 93 | 1 | 2.107140 | 0.5158519 | 486.8107 | 33.84011 | 914.8149 | 16.373593 | -0.14040 | 51.49118 | London | 1 |\n",
       "| ⋮ | ⋮ | ⋮ | ⋮ | ⋮ | ⋮ | ⋮ | ⋮ | ⋮ | ⋮ | ⋮ | ⋮ | ⋮ | ⋮ | ⋮ | ⋮ | ⋮ | ⋮ | ⋮ |\n",
       "| 628.8953 | Entire home/apt | 3 | False | 1 | 0 | 10 |  96 | 1 | 3.5551176 | 0.7481155 | 361.9569 | 25.16103 |  729.1451 | 13.050426 | -0.16772 | 51.48855 | London   | 1 |\n",
       "| 180.8603 | Private room    | 2 | True  | 1 | 0 | 10 | 100 | 1 | 7.2329258 | 1.8969464 | 166.5546 | 11.57786 |  353.6954 |  6.330531 | -0.03837 | 51.54199 | London   | 1 |\n",
       "| 118.2028 | Entire home/apt | 6 | True  | 0 | 1 |  9 |  95 | 1 | 0.1049907 | 0.1585647 | 382.9778 | 22.85762 |  844.9664 | 73.865234 | 19.05300 | 47.49900 | Budapest | 1 |\n",
       "| 242.6765 | Entire home/apt | 3 | True  | 0 | 0 | 10 |  98 | 1 | 2.8875155 | 1.2441687 | 714.2509 | 15.82455 | 1771.5635 | 38.598071 | 12.46746 | 41.90040 | Rome     | 1 |\n",
       "\n"
      ],
      "text/plain": [
       "      realSum  room_type       person_capacity host_is_superhost multi biz\n",
       "1     115.9482 Private room    2               False             0     0  \n",
       "2     161.5505 Entire home/apt 4               False             0     0  \n",
       "3     262.7061 Private room    4               False             0     0  \n",
       "4     161.8100 Shared room     3               False             0     1  \n",
       "⋮     ⋮        ⋮               ⋮               ⋮                 ⋮     ⋮  \n",
       "13822 628.8953 Entire home/apt 3               False             1     0  \n",
       "13823 180.8603 Private room    2               True              1     0  \n",
       "13824 118.2028 Entire home/apt 6               True              0     1  \n",
       "13825 242.6765 Entire home/apt 3               True              0     0  \n",
       "      cleanliness_rating guest_satisfaction_overall bedrooms dist     \n",
       "1      9                 96                         1        5.709598 \n",
       "2     10                 95                         2        5.550061 \n",
       "3      9                 85                         1        6.458999 \n",
       "4      9                 93                         1        2.107140 \n",
       "⋮     ⋮                  ⋮                          ⋮        ⋮        \n",
       "13822 10                  96                        1        3.5551176\n",
       "13823 10                 100                        1        7.2329258\n",
       "13824  9                  95                        1        0.1049907\n",
       "13825 10                  98                        1        2.8875155\n",
       "      metro_dist attr_index attr_index_norm rest_index rest_index_norm lng     \n",
       "1     1.1811269  197.9007   13.75685        440.1913    7.878657       -0.09040\n",
       "2     0.8649050  138.0221    3.05794        381.7032    8.316387       12.53748\n",
       "3     1.4078789  198.1813   13.77636        381.8880    6.835130       -0.04102\n",
       "4     0.5158519  486.8107   33.84011        914.8149   16.373593       -0.14040\n",
       "⋮     ⋮          ⋮          ⋮               ⋮          ⋮               ⋮       \n",
       "13822 0.7481155  361.9569   25.16103         729.1451  13.050426       -0.16772\n",
       "13823 1.8969464  166.5546   11.57786         353.6954   6.330531       -0.03837\n",
       "13824 0.1585647  382.9778   22.85762         844.9664  73.865234       19.05300\n",
       "13825 1.2441687  714.2509   15.82455        1771.5635  38.598071       12.46746\n",
       "      lat      city     weekend\n",
       "1     51.55412 London   1      \n",
       "2     41.85841 Rome     1      \n",
       "3     51.48699 London   1      \n",
       "4     51.49118 London   1      \n",
       "⋮     ⋮        ⋮        ⋮      \n",
       "13822 51.48855 London   1      \n",
       "13823 51.54199 London   1      \n",
       "13824 47.49900 Budapest 1      \n",
       "13825 41.90040 Rome     1      "
      ]
     },
     "metadata": {},
     "output_type": "display_data"
    }
   ],
   "source": [
    "# dropping irrelevant/redundant variables and observations with missing values\n",
    "# temporary variable 'ID' added to be used for data splitting\n",
    "airbnb_clean <- airbnb %>%\n",
    "    dplyr::select(-X, -room_shared, -room_private) |>\n",
    "    mutate(ID = row_number()) |>\n",
    "    drop_na()\n",
    "\n",
    "# splitting data into three sets - one for training, one for validation, one for testing\n",
    "# justification for having three sets is in the methods section\n",
    "set.seed(9999)\n",
    "\n",
    "airbnb_training <- slice_sample(airbnb_clean, prop = 0.6)   # 60% of the data\n",
    "airbnb_remaining <- anti_join(airbnb_clean, airbnb_training, by = \"ID\")\n",
    "airbnb_validation <- slice_sample(airbnb_remaining, prop = 0.5)   # 20% of the data\n",
    "airbnb_testing <- anti_join(airbnb_remaining, airbnb_validation, by = \"ID\")   # 20% of the data\n",
    "\n",
    "# dropping temporary variable 'ID'\n",
    "airbnb_training <- dplyr::select(airbnb_training, -ID)\n",
    "airbnb_validation <- dplyr::select(airbnb_validation, -ID)\n",
    "airbnb_testing <- dplyr::select(airbnb_testing, -ID)\n",
    "\n",
    "airbnb_training"
   ]
  },
  {
   "cell_type": "markdown",
   "id": "1e794716-11ce-4362-913f-465cb590b4fb",
   "metadata": {},
   "source": [
    "### Visualization of Data\n",
    "To visualize the relationship between Airbnb listing prices and other explanatory variables, we will use two plots:\n",
    "- **Contour Plot**: This plot shows the relationships between Airbnb listing price and distance of the listing from the city centre and the nearest metro station (`dist` and `metro_dist`), faceted by the type of room (`room_type`). This plot will help us visualize the popularity of different room types at different prices and distances from city centres and metros. The lighter the color, the more common the room type is at that price and distance point.\n",
    "- **Violin Boxplot**: This plot visualizes the relationship of price with overall satisfaction levels (`guest_satisfaction_overall`), faceted by city (`city`). This plot will help us visualize the distribution of prices across different satisfaction levels, and how this relationship differs across cities."
   ]
  },
  {
   "cell_type": "code",
   "execution_count": 5,
   "id": "cd0191cc-7969-4cd4-9228-ca5b9de204e7",
   "metadata": {},
   "outputs": [
    {
     "data": {
      "image/png": "[encoded data removed]",
      "text/plain": [
       "plot without title"
      ]
     },
     "metadata": {
      "image/png": {
       "height": 600,
       "width": 840
      }
     },
     "output_type": "display_data"
    }
   ],
   "source": [
    "# contour plot of price against distance from city centre and nearest metro station\n",
    "options(repr.plot.width = 14, repr.plot.height = 10)\n",
    "\n",
    "# code taken from Brian's assignment 2\n",
    "# combining dist and metro_dist into one variable\n",
    "airbnb_train_distance <- airbnb_training %>%\n",
    "    dplyr::select(realSum, dist, metro_dist, room_type) %>%\n",
    "    mutate(realSum_shifted = if_else(realSum <= 0, 1, realSum)) %>%\n",
    "    pivot_longer(\n",
    "        cols = c(dist, metro_dist),\n",
    "        names_to = \"DistanceType\",\n",
    "        values_to = \"Distance\")\n",
    "\n",
    "# plotting variables\n",
    "ggplot(airbnb_train_distance, aes(x = Distance, y = realSum_shifted)) +\n",
    "    stat_density_2d(aes(fill = after_stat(level)), geom = \"polygon\", color = \"white\", contour = TRUE) +\n",
    "    facet_wrap(~ room_type) + \n",
    "    scale_fill_viridis_c(option = \"C\", name = \"Density Level\") +\n",
    "    labs(\n",
    "        title = \"Contour Plot of Airbnb Price vs. Distance from City Centre and Nearest Metro Station (km)\",\n",
    "        subtitle = \"Faceted by Room Type\",\n",
    "        x = \"Distance from City Centre and Nearest Metro Station (km)\",\n",
    "        y = \"Price of Listing\"\n",
    "  ) +\n",
    "    theme_minimal(base_size = 12) +\n",
    "    theme(\n",
    "        text = element_text(size = 16), \n",
    "        plot.title = element_text(size = 20, face = \"bold\"),  \n",
    "        axis.title = element_text(size = 16),  \n",
    "        axis.text = element_text(size = 14),  \n",
    "        legend.title = element_text(size = 14),\n",
    "        strip.text = element_text(face = \"bold\")\n",
    "  )"
   ]
  },
  {
   "cell_type": "markdown",
   "id": "57b42082-438d-4e1c-9003-00440e9ffde2",
   "metadata": {},
   "source": [
    "#### Interpretation of Contour Plot\n",
    "\n",
    "The contour plot reveals a tendency for listings closer to the city centre or a metro station to be more expensive, and that entire homes and private rooms are generally more expensive than shared rooms. However, most listings, regardless of distance or purpose, tend to fall within a similar price range. We also observe that entire homes or apartments listed on Airbnb are generally located closer to the city centre or metro stations and are priced higher on average."
   ]
  },
  {
   "cell_type": "code",
   "execution_count": 6,
   "id": "d763570f-4534-4963-b9d4-455d29684fbc",
   "metadata": {},
   "outputs": [
    {
     "data": {
      "image/png": "[encoded data removed]",
      "text/plain": [
       "plot without title"
      ]
     },
     "metadata": {
      "image/png": {
       "height": 600,
       "width": 1500
      }
     },
     "output_type": "display_data"
    }
   ],
   "source": [
    "# code taken from Brian's assignment 2\n",
    "options(repr.plot.width=25, repr.plot.height=10)\n",
    "\n",
    "# Create bins for guest_satisfaction_overall\n",
    "airbnb_train_binned <- airbnb_training %>%\n",
    "  mutate(\n",
    "    satis_bin = cut(guest_satisfaction_overall,\n",
    "      breaks = c(0, 75, 80, 95, Inf),\n",
    "      labels = c(\"Fair (0-75)\",\"Average (75-80)\",\"Good (80-95)\", \"Excellent (95-100)\")\n",
    "    )\n",
    "  )\n",
    "\n",
    "# Combine violin plot + boxplot, facet by city, log-scale on y-axis\n",
    "ggplot(airbnb_train_binned, aes(x = satis_bin, y = realSum, fill = satis_bin)) +\n",
    "    geom_violin(alpha = 0.4) +\n",
    "    geom_boxplot(width = 0.15, outlier.alpha = 0.3, notch = TRUE) +\n",
    "    facet_wrap(~ city) + \n",
    "    scale_y_log10() +\n",
    "    labs(\n",
    "        title = \"Distribution of Listing Price by Overall Satisfaction Levels\",\n",
    "        subtitle = \"Faceted by City\",\n",
    "        x = \"Binned Overall Satisfaction\",\n",
    "        y = \"Price of Listing (EUR)\",\n",
    "        fill = \"Satisfaction Level\"\n",
    "    ) +\n",
    "    theme_minimal() +\n",
    "    theme(\n",
    "        text = element_text(size = 16), \n",
    "        plot.title = element_text(size = 20, face = \"bold\"),  \n",
    "        axis.title = element_text(size = 16),  \n",
    "        axis.text = element_text(size = 14),  \n",
    "        legend.title = element_text(size = 14),\n",
    "        strip.text = element_text(face = \"bold\")\n",
    "    )"
   ]
  },
  {
   "cell_type": "markdown",
   "id": "934d579f-a813-4c49-b9a2-3a5365593e73",
   "metadata": {},
   "source": [
    "#### Interpretation of Violin Boxplot\n",
    "The chart suggests that higher overall ratings for Airbnb properties do not necessarily correspond to higher or lower listing prices. It is interesting to note that listings with lower overall ratings, however, usually have slightly higher prices, suggesting that higher price for a bad experience at an Airbnb could be a factor in the lower rating. We also observe that listings are generally more expensive in London, followed by Rome, then Budapest. "
   ]
  },
  {
   "cell_type": "markdown",
   "id": "59685070-a58a-48e1-b32c-8d3be8553072",
   "metadata": {},
   "source": [
    "### Summary Tables\n"
   ]
  },
  {
   "cell_type": "code",
   "execution_count": 7,
   "id": "e494fae4-161f-46ff-b39e-dc43f67a58a2",
   "metadata": {},
   "outputs": [
    {
     "data": {
      "text/html": [
       "<table class=\"dataframe\">\n",
       "<caption>A tibble: 3 × 5</caption>\n",
       "<thead>\n",
       "\t<tr><th scope=col>city</th><th scope=col>min_price</th><th scope=col>max_price</th><th scope=col>mean_price</th><th scope=col>sd_price</th></tr>\n",
       "\t<tr><th scope=col>&lt;chr&gt;</th><th scope=col>&lt;dbl&gt;</th><th scope=col>&lt;dbl&gt;</th><th scope=col>&lt;dbl&gt;</th><th scope=col>&lt;dbl&gt;</th></tr>\n",
       "</thead>\n",
       "<tbody>\n",
       "\t<tr><td>London  </td><td>67.02886</td><td>15499.894</td><td>366.9309</td><td>546.2131</td></tr>\n",
       "\t<tr><td>Rome    </td><td>46.05709</td><td> 2418.348</td><td>206.2775</td><td>115.8439</td></tr>\n",
       "\t<tr><td>Budapest</td><td>37.12929</td><td> 2330.216</td><td>176.2546</td><td>113.0089</td></tr>\n",
       "</tbody>\n",
       "</table>\n"
      ],
      "text/latex": [
       "A tibble: 3 × 5\n",
       "\\begin{tabular}{lllll}\n",
       " city & min\\_price & max\\_price & mean\\_price & sd\\_price\\\\\n",
       " <chr> & <dbl> & <dbl> & <dbl> & <dbl>\\\\\n",
       "\\hline\n",
       "\t London   & 67.02886 & 15499.894 & 366.9309 & 546.2131\\\\\n",
       "\t Rome     & 46.05709 &  2418.348 & 206.2775 & 115.8439\\\\\n",
       "\t Budapest & 37.12929 &  2330.216 & 176.2546 & 113.0089\\\\\n",
       "\\end{tabular}\n"
      ],
      "text/markdown": [
       "\n",
       "A tibble: 3 × 5\n",
       "\n",
       "| city &lt;chr&gt; | min_price &lt;dbl&gt; | max_price &lt;dbl&gt; | mean_price &lt;dbl&gt; | sd_price &lt;dbl&gt; |\n",
       "|---|---|---|---|---|\n",
       "| London   | 67.02886 | 15499.894 | 366.9309 | 546.2131 |\n",
       "| Rome     | 46.05709 |  2418.348 | 206.2775 | 115.8439 |\n",
       "| Budapest | 37.12929 |  2330.216 | 176.2546 | 113.0089 |\n",
       "\n"
      ],
      "text/plain": [
       "  city     min_price max_price mean_price sd_price\n",
       "1 London   67.02886  15499.894 366.9309   546.2131\n",
       "2 Rome     46.05709   2418.348 206.2775   115.8439\n",
       "3 Budapest 37.12929   2330.216 176.2546   113.0089"
      ]
     },
     "metadata": {},
     "output_type": "display_data"
    }
   ],
   "source": [
    "# summarizing the range of prices\n",
    "airbnb_training %>%\n",
    "  group_by(city) %>%\n",
    "  summarise(\n",
    "    min_price = min(realSum),\n",
    "    max_price = max(realSum),\n",
    "    mean_price = mean(realSum),\n",
    "    sd_price = sd(realSum)\n",
    "  ) %>%\n",
    "  arrange(desc(mean_price))"
   ]
  },
  {
   "cell_type": "markdown",
   "id": "9ca7da22-25a0-47db-951f-e66997aab1ad",
   "metadata": {},
   "source": [
    "From the range of prices, we can observe substantial variation in pricing across the three cities. This suggests that city-specific factors significantly influence Airbnb prices. For our analysis, it highlights the importance of incorporating `city` as a key variable in our model."
   ]
  },
  {
   "cell_type": "markdown",
   "id": "fb0e38a4-e110-4e17-b600-f3cfa563ae3d",
   "metadata": {},
   "source": [
    "## Methods and Plan\n",
    "The response variable `realSum` is continuous with an unbounded range (at least for positive values) so we will use multiple linear regression to obtain a predictive model for the price of a listing. Since the dataset contains many predictors, interaction terms will not be considered in order to maintain model simplicity.\n",
    "\n",
    "We will fit and compare multiple model selection methods and choose the model that provides the most predictive power by minimizing the Root Mean Squared Error (RMSE). RMSE is well-suited to test prediction accuracy as it directly measures the average magnitude of prediction errors in the same units as the response variable. The model selection methods we will test are:\n",
    "- Backward stepwise selection using `stepAIC()`\n",
    "- LASSO Regression (L1 regularization)\n",
    "- Ridge Regression (L2 regularization)\n",
    "\n",
    "To validate the RMSE from each model and avoid the post-inference problem, the data will be split into three sets: a training set, a validation set, and a testing set. Since the dataset is very large (roughly 23,000 observations), splitting the data into a third set will still leave plenty of data for each set while making RMSE validation easier to implement (as opposed to performing cross-validation). 60% of the data will be used to train the models, 20% of the data will be used to calculate and compare RMSE's, and finally the remaining 20% to fit our selected model to test its predictive power. This will let us avoid the post-inference problem we could potentially run into while selecting variables and fitting the model on the same data. Since a temporary variable was needed to split the data, data splitting was performed as a part of the data cleaning process to avoid leaving unnecessary variables in the dataset."
   ]
  },
  {
   "cell_type": "markdown",
   "id": "3afed11e-efdd-4967-8e7d-48c3892bee63",
   "metadata": {},
   "source": [
    "### Assumptions in the Model\n",
    "In order to use the ordinary least square regression, we first have to make the following assumptions:\n",
    "\n",
    "- **Linearity**: The relationship between the response and predictors is linear\n",
    "- **Independence**: The residual errors are independent\n",
    "- **Homoscedasticity**: The variance of residuals is constant across all levels of the predictors\n",
    "- **Normality**: The conditional distribution of the residuals follows a Normal distribution\n",
    "- **No multicollinearity**: There is not a strong correlation between two or more predictors"
   ]
  },
  {
   "cell_type": "markdown",
   "id": "1b9d3a83-bd09-45e9-8f69-c9d30917b43b",
   "metadata": {},
   "source": [
    "### Assessing Multicollinearity"
   ]
  },
  {
   "cell_type": "code",
   "execution_count": 8,
   "id": "da07b11a-df6a-440a-ab8c-a326c47ab97f",
   "metadata": {},
   "outputs": [
    {
     "data": {
      "text/html": [
       "<table class=\"dataframe\">\n",
       "<caption>A matrix: 18 × 3 of type dbl</caption>\n",
       "<thead>\n",
       "\t<tr><th></th><th scope=col>GVIF</th><th scope=col>Df</th><th scope=col>GVIF^(1/(2*Df))</th></tr>\n",
       "</thead>\n",
       "<tbody>\n",
       "\t<tr><th scope=row>room_type</th><td>1.707711e+00</td><td>2</td><td>  1.143151</td></tr>\n",
       "\t<tr><th scope=row>person_capacity</th><td>2.154662e+00</td><td>1</td><td>  1.467877</td></tr>\n",
       "\t<tr><th scope=row>host_is_superhost</th><td>1.156291e+00</td><td>1</td><td>  1.075310</td></tr>\n",
       "\t<tr><th scope=row>multi</th><td>1.433791e+00</td><td>1</td><td>  1.197410</td></tr>\n",
       "\t<tr><th scope=row>biz</th><td>1.593605e+00</td><td>1</td><td>  1.262381</td></tr>\n",
       "\t<tr><th scope=row>cleanliness_rating</th><td>2.259058e+00</td><td>1</td><td>  1.503016</td></tr>\n",
       "\t<tr><th scope=row>guest_satisfaction_overall</th><td>2.338308e+00</td><td>1</td><td>  1.529153</td></tr>\n",
       "\t<tr><th scope=row>bedrooms</th><td>1.552736e+00</td><td>1</td><td>  1.246088</td></tr>\n",
       "\t<tr><th scope=row>dist</th><td>4.880644e+00</td><td>1</td><td>  2.209218</td></tr>\n",
       "\t<tr><th scope=row>metro_dist</th><td>2.186789e+00</td><td>1</td><td>  1.478779</td></tr>\n",
       "\t<tr><th scope=row>attr_index</th><td>7.483874e+00</td><td>1</td><td>  2.735667</td></tr>\n",
       "\t<tr><th scope=row>attr_index_norm</th><td>7.140185e+00</td><td>1</td><td>  2.672112</td></tr>\n",
       "\t<tr><th scope=row>rest_index</th><td>1.047298e+01</td><td>1</td><td>  3.236198</td></tr>\n",
       "\t<tr><th scope=row>rest_index_norm</th><td>6.813735e+00</td><td>1</td><td>  2.610313</td></tr>\n",
       "\t<tr><th scope=row>lng</th><td>3.015910e+04</td><td>1</td><td>173.663766</td></tr>\n",
       "\t<tr><th scope=row>lat</th><td>3.675796e+04</td><td>1</td><td>191.723643</td></tr>\n",
       "\t<tr><th scope=row>city</th><td>5.184942e+08</td><td>2</td><td>150.898865</td></tr>\n",
       "\t<tr><th scope=row>weekend</th><td>1.011747e+00</td><td>1</td><td>  1.005856</td></tr>\n",
       "</tbody>\n",
       "</table>\n"
      ],
      "text/latex": [
       "A matrix: 18 × 3 of type dbl\n",
       "\\begin{tabular}{r|lll}\n",
       "  & GVIF & Df & GVIF\\textasciicircum{}(1/(2*Df))\\\\\n",
       "\\hline\n",
       "\troom\\_type & 1.707711e+00 & 2 &   1.143151\\\\\n",
       "\tperson\\_capacity & 2.154662e+00 & 1 &   1.467877\\\\\n",
       "\thost\\_is\\_superhost & 1.156291e+00 & 1 &   1.075310\\\\\n",
       "\tmulti & 1.433791e+00 & 1 &   1.197410\\\\\n",
       "\tbiz & 1.593605e+00 & 1 &   1.262381\\\\\n",
       "\tcleanliness\\_rating & 2.259058e+00 & 1 &   1.503016\\\\\n",
       "\tguest\\_satisfaction\\_overall & 2.338308e+00 & 1 &   1.529153\\\\\n",
       "\tbedrooms & 1.552736e+00 & 1 &   1.246088\\\\\n",
       "\tdist & 4.880644e+00 & 1 &   2.209218\\\\\n",
       "\tmetro\\_dist & 2.186789e+00 & 1 &   1.478779\\\\\n",
       "\tattr\\_index & 7.483874e+00 & 1 &   2.735667\\\\\n",
       "\tattr\\_index\\_norm & 7.140185e+00 & 1 &   2.672112\\\\\n",
       "\trest\\_index & 1.047298e+01 & 1 &   3.236198\\\\\n",
       "\trest\\_index\\_norm & 6.813735e+00 & 1 &   2.610313\\\\\n",
       "\tlng & 3.015910e+04 & 1 & 173.663766\\\\\n",
       "\tlat & 3.675796e+04 & 1 & 191.723643\\\\\n",
       "\tcity & 5.184942e+08 & 2 & 150.898865\\\\\n",
       "\tweekend & 1.011747e+00 & 1 &   1.005856\\\\\n",
       "\\end{tabular}\n"
      ],
      "text/markdown": [
       "\n",
       "A matrix: 18 × 3 of type dbl\n",
       "\n",
       "| <!--/--> | GVIF | Df | GVIF^(1/(2*Df)) |\n",
       "|---|---|---|---|\n",
       "| room_type | 1.707711e+00 | 2 |   1.143151 |\n",
       "| person_capacity | 2.154662e+00 | 1 |   1.467877 |\n",
       "| host_is_superhost | 1.156291e+00 | 1 |   1.075310 |\n",
       "| multi | 1.433791e+00 | 1 |   1.197410 |\n",
       "| biz | 1.593605e+00 | 1 |   1.262381 |\n",
       "| cleanliness_rating | 2.259058e+00 | 1 |   1.503016 |\n",
       "| guest_satisfaction_overall | 2.338308e+00 | 1 |   1.529153 |\n",
       "| bedrooms | 1.552736e+00 | 1 |   1.246088 |\n",
       "| dist | 4.880644e+00 | 1 |   2.209218 |\n",
       "| metro_dist | 2.186789e+00 | 1 |   1.478779 |\n",
       "| attr_index | 7.483874e+00 | 1 |   2.735667 |\n",
       "| attr_index_norm | 7.140185e+00 | 1 |   2.672112 |\n",
       "| rest_index | 1.047298e+01 | 1 |   3.236198 |\n",
       "| rest_index_norm | 6.813735e+00 | 1 |   2.610313 |\n",
       "| lng | 3.015910e+04 | 1 | 173.663766 |\n",
       "| lat | 3.675796e+04 | 1 | 191.723643 |\n",
       "| city | 5.184942e+08 | 2 | 150.898865 |\n",
       "| weekend | 1.011747e+00 | 1 |   1.005856 |\n",
       "\n"
      ],
      "text/plain": [
       "                           GVIF         Df GVIF^(1/(2*Df))\n",
       "room_type                  1.707711e+00 2    1.143151     \n",
       "person_capacity            2.154662e+00 1    1.467877     \n",
       "host_is_superhost          1.156291e+00 1    1.075310     \n",
       "multi                      1.433791e+00 1    1.197410     \n",
       "biz                        1.593605e+00 1    1.262381     \n",
       "cleanliness_rating         2.259058e+00 1    1.503016     \n",
       "guest_satisfaction_overall 2.338308e+00 1    1.529153     \n",
       "bedrooms                   1.552736e+00 1    1.246088     \n",
       "dist                       4.880644e+00 1    2.209218     \n",
       "metro_dist                 2.186789e+00 1    1.478779     \n",
       "attr_index                 7.483874e+00 1    2.735667     \n",
       "attr_index_norm            7.140185e+00 1    2.672112     \n",
       "rest_index                 1.047298e+01 1    3.236198     \n",
       "rest_index_norm            6.813735e+00 1    2.610313     \n",
       "lng                        3.015910e+04 1  173.663766     \n",
       "lat                        3.675796e+04 1  191.723643     \n",
       "city                       5.184942e+08 2  150.898865     \n",
       "weekend                    1.011747e+00 1    1.005856     "
      ]
     },
     "metadata": {},
     "output_type": "display_data"
    }
   ],
   "source": [
    "# checking multicollinearity\n",
    "options(repr.matrix.max.rows = 18)\n",
    "\n",
    "# vif scores with all variables\n",
    "pre_vif <- vif(lm(realSum ~., data = airbnb_training))\n",
    "pre_vif"
   ]
  },
  {
   "cell_type": "markdown",
   "id": "c4c2ea5d-bcf7-431d-999a-dedde15e75a8",
   "metadata": {},
   "source": [
    "We will focus on the **GVIF^(1/(2*Df))** column to decide the variable selection process as our dataset contains multiple categorical variables. We observe that the values for `attr_index`, `attr_index_norm`, `rest_index`, `rest_index_norm`, `lng`, `lat`, and `city` are all greater than $\\sqrt{5} \\approx 2.23$. This makes intuitive sense, since both the longitude and latitude of a listing would depend highly on what city the listing is in. It also makes intuitive sense that `attr_index` and `attr_index_norm` are highly correlated, since `attr_index_norm` is just `attr_index` but normalized to force the minimum and maximum attraction index to be 0 and 100 respectively (Gyódi & Nawaro, 2021). A similar conclusion is reached for `rest_index` and `rest_index_norm`, since `rest_index_norm` is calculated from `rest_index` in the same way.\n",
    "\n",
    "Since `stepAIC()` and LASSO are sensitive to multicollinearity, the following variables will be removed:\n",
    "- `attr_index`: Since the generalized VIF of `attr_index` is greater than `attr_index_norm`, `attr_index` will be removed\n",
    "- `rest_index`: Since the generalized VIF of `rest_index` is greater than `rest_index_norm`, `rest_index` will be removed\n",
    "- `lng` and `lat`: We determined that city-specific factors are likely to be significant factors that determine the price of a listing, so it makes more sense to work with the categorical variable `city` than the numerical `lng` and `lat` variables"
   ]
  },
  {
   "cell_type": "code",
   "execution_count": 9,
   "id": "df1b243a-d4e3-4687-b73e-79aacfa1adf8",
   "metadata": {},
   "outputs": [
    {
     "data": {
      "text/html": [
       "<table class=\"dataframe\">\n",
       "<caption>A matrix: 14 × 3 of type dbl</caption>\n",
       "<thead>\n",
       "\t<tr><th></th><th scope=col>GVIF</th><th scope=col>Df</th><th scope=col>GVIF^(1/(2*Df))</th></tr>\n",
       "</thead>\n",
       "<tbody>\n",
       "\t<tr><th scope=row>room_type</th><td>1.682548</td><td>2</td><td>1.138916</td></tr>\n",
       "\t<tr><th scope=row>person_capacity</th><td>2.153721</td><td>1</td><td>1.467556</td></tr>\n",
       "\t<tr><th scope=row>host_is_superhost</th><td>1.154421</td><td>1</td><td>1.074440</td></tr>\n",
       "\t<tr><th scope=row>multi</th><td>1.433691</td><td>1</td><td>1.197368</td></tr>\n",
       "\t<tr><th scope=row>biz</th><td>1.589253</td><td>1</td><td>1.260656</td></tr>\n",
       "\t<tr><th scope=row>cleanliness_rating</th><td>2.256536</td><td>1</td><td>1.502177</td></tr>\n",
       "\t<tr><th scope=row>guest_satisfaction_overall</th><td>2.335724</td><td>1</td><td>1.528307</td></tr>\n",
       "\t<tr><th scope=row>bedrooms</th><td>1.552669</td><td>1</td><td>1.246061</td></tr>\n",
       "\t<tr><th scope=row>dist</th><td>4.610271</td><td>1</td><td>2.147154</td></tr>\n",
       "\t<tr><th scope=row>metro_dist</th><td>1.888696</td><td>1</td><td>1.374298</td></tr>\n",
       "\t<tr><th scope=row>attr_index_norm</th><td>3.441784</td><td>1</td><td>1.855205</td></tr>\n",
       "\t<tr><th scope=row>rest_index_norm</th><td>2.858434</td><td>1</td><td>1.690691</td></tr>\n",
       "\t<tr><th scope=row>city</th><td>5.533298</td><td>2</td><td>1.533720</td></tr>\n",
       "\t<tr><th scope=row>weekend</th><td>1.008247</td><td>1</td><td>1.004115</td></tr>\n",
       "</tbody>\n",
       "</table>\n"
      ],
      "text/latex": [
       "A matrix: 14 × 3 of type dbl\n",
       "\\begin{tabular}{r|lll}\n",
       "  & GVIF & Df & GVIF\\textasciicircum{}(1/(2*Df))\\\\\n",
       "\\hline\n",
       "\troom\\_type & 1.682548 & 2 & 1.138916\\\\\n",
       "\tperson\\_capacity & 2.153721 & 1 & 1.467556\\\\\n",
       "\thost\\_is\\_superhost & 1.154421 & 1 & 1.074440\\\\\n",
       "\tmulti & 1.433691 & 1 & 1.197368\\\\\n",
       "\tbiz & 1.589253 & 1 & 1.260656\\\\\n",
       "\tcleanliness\\_rating & 2.256536 & 1 & 1.502177\\\\\n",
       "\tguest\\_satisfaction\\_overall & 2.335724 & 1 & 1.528307\\\\\n",
       "\tbedrooms & 1.552669 & 1 & 1.246061\\\\\n",
       "\tdist & 4.610271 & 1 & 2.147154\\\\\n",
       "\tmetro\\_dist & 1.888696 & 1 & 1.374298\\\\\n",
       "\tattr\\_index\\_norm & 3.441784 & 1 & 1.855205\\\\\n",
       "\trest\\_index\\_norm & 2.858434 & 1 & 1.690691\\\\\n",
       "\tcity & 5.533298 & 2 & 1.533720\\\\\n",
       "\tweekend & 1.008247 & 1 & 1.004115\\\\\n",
       "\\end{tabular}\n"
      ],
      "text/markdown": [
       "\n",
       "A matrix: 14 × 3 of type dbl\n",
       "\n",
       "| <!--/--> | GVIF | Df | GVIF^(1/(2*Df)) |\n",
       "|---|---|---|---|\n",
       "| room_type | 1.682548 | 2 | 1.138916 |\n",
       "| person_capacity | 2.153721 | 1 | 1.467556 |\n",
       "| host_is_superhost | 1.154421 | 1 | 1.074440 |\n",
       "| multi | 1.433691 | 1 | 1.197368 |\n",
       "| biz | 1.589253 | 1 | 1.260656 |\n",
       "| cleanliness_rating | 2.256536 | 1 | 1.502177 |\n",
       "| guest_satisfaction_overall | 2.335724 | 1 | 1.528307 |\n",
       "| bedrooms | 1.552669 | 1 | 1.246061 |\n",
       "| dist | 4.610271 | 1 | 2.147154 |\n",
       "| metro_dist | 1.888696 | 1 | 1.374298 |\n",
       "| attr_index_norm | 3.441784 | 1 | 1.855205 |\n",
       "| rest_index_norm | 2.858434 | 1 | 1.690691 |\n",
       "| city | 5.533298 | 2 | 1.533720 |\n",
       "| weekend | 1.008247 | 1 | 1.004115 |\n",
       "\n"
      ],
      "text/plain": [
       "                           GVIF     Df GVIF^(1/(2*Df))\n",
       "room_type                  1.682548 2  1.138916       \n",
       "person_capacity            2.153721 1  1.467556       \n",
       "host_is_superhost          1.154421 1  1.074440       \n",
       "multi                      1.433691 1  1.197368       \n",
       "biz                        1.589253 1  1.260656       \n",
       "cleanliness_rating         2.256536 1  1.502177       \n",
       "guest_satisfaction_overall 2.335724 1  1.528307       \n",
       "bedrooms                   1.552669 1  1.246061       \n",
       "dist                       4.610271 1  2.147154       \n",
       "metro_dist                 1.888696 1  1.374298       \n",
       "attr_index_norm            3.441784 1  1.855205       \n",
       "rest_index_norm            2.858434 1  1.690691       \n",
       "city                       5.533298 2  1.533720       \n",
       "weekend                    1.008247 1  1.004115       "
      ]
     },
     "metadata": {},
     "output_type": "display_data"
    }
   ],
   "source": [
    "# removing raw variables as they have higher VIF scores than normalized variables\n",
    "airbnb_training <- dplyr::select(airbnb_training, -c(attr_index, rest_index, lng, lat))\n",
    "airbnb_validation <- dplyr::select(airbnb_validation, -c(attr_index, rest_index, lng, lat))\n",
    "airbnb_testing <- dplyr::select(airbnb_testing, -c(attr_index, rest_index, lng, lat))\n",
    "\n",
    "# vif scores without raw variables\n",
    "post_vif <- vif(lm(realSum ~., data = airbnb_training))\n",
    "post_vif"
   ]
  },
  {
   "cell_type": "markdown",
   "id": "758b2575-87f3-478d-bb5c-5e95a069201c",
   "metadata": {},
   "source": [
    "### Model Training"
   ]
  },
  {
   "cell_type": "markdown",
   "id": "33d3b1a7-81c9-4204-9977-3f7a6b6e423f",
   "metadata": {},
   "source": [
    "#### Stepwise Selection with stepAIC()"
   ]
  },
  {
   "cell_type": "code",
   "execution_count": 10,
   "id": "1854b912-c0c2-492b-9a2f-20936ff0cf78",
   "metadata": {},
   "outputs": [],
   "source": [
    "# code taken from Anthony's assignment 2\n",
    "# full and null models, and training matrix\n",
    "null_model <- lm(realSum ~ 1, data = airbnb_training)\n",
    "full_model <- lm(realSum ~ ., data = airbnb_training)\n",
    "training_matrix <- model.matrix(object = realSum ~ ., data = airbnb_training)[, -1]"
   ]
  },
  {
   "cell_type": "code",
   "execution_count": 11,
   "id": "04fed6be-1ef2-43d1-b894-99be5c24ae56",
   "metadata": {},
   "outputs": [
    {
     "data": {
      "text/plain": [
       "\n",
       "Call:\n",
       "lm(formula = realSum ~ room_type + person_capacity + bedrooms + \n",
       "    metro_dist + attr_index_norm + rest_index_norm + city, data = airbnb_training)\n",
       "\n",
       "Residuals:\n",
       "    Min      1Q  Median      3Q     Max \n",
       " -792.5   -87.0   -21.5    52.3 14381.6 \n",
       "\n",
       "Coefficients:\n",
       "                       Estimate Std. Error t value Pr(>|t|)    \n",
       "(Intercept)            -53.1468    15.0138  -3.540 0.000402 ***\n",
       "room_typePrivate room -126.1750     7.5484 -16.715  < 2e-16 ***\n",
       "room_typeShared room  -171.8360    52.5426  -3.270 0.001077 ** \n",
       "person_capacity         18.1128     3.2296   5.608 2.08e-08 ***\n",
       "bedrooms               104.9495     6.0998  17.205  < 2e-16 ***\n",
       "metro_dist             -12.0428     3.1909  -3.774 0.000161 ***\n",
       "attr_index_norm          9.1613     0.4444  20.617  < 2e-16 ***\n",
       "rest_index_norm         -1.3377     0.3143  -4.256 2.10e-05 ***\n",
       "cityLondon             160.7517    13.4252  11.974  < 2e-16 ***\n",
       "cityRome                64.9518     8.9351   7.269 3.81e-13 ***\n",
       "---\n",
       "Signif. codes:  0 '***' 0.001 '**' 0.01 '*' 0.05 '.' 0.1 ' ' 1\n",
       "\n",
       "Residual standard error: 342.6 on 13815 degrees of freedom\n",
       "Multiple R-squared:  0.1922,\tAdjusted R-squared:  0.1917 \n",
       "F-statistic: 365.2 on 9 and 13815 DF,  p-value: < 2.2e-16\n"
      ]
     },
     "metadata": {},
     "output_type": "display_data"
    }
   ],
   "source": [
    "# code taken from Anthony's assignment 2\n",
    "# stepwise training - credit to Anthony\n",
    "n <- nrow(airbnb_training)\n",
    "stepwise_model <- stepAIC(full_model,\n",
    "                          direction = \"backward\",\n",
    "                          scope = list(lower = null_model, upper = full_model),\n",
    "                          k = log(n), trace = 0)\n",
    "summary(stepwise_model)"
   ]
  },
  {
   "cell_type": "markdown",
   "id": "1b1a03c5-e321-4932-874b-c3cc30f60c96",
   "metadata": {},
   "source": [
    "#### LASSO Regression"
   ]
  },
  {
   "cell_type": "code",
   "execution_count": 12,
   "id": "a76bedee-1458-4a85-a88d-045a531e959c",
   "metadata": {},
   "outputs": [
    {
     "data": {
      "text/plain": [
       "17 x 1 sparse Matrix of class \"dgCMatrix\"\n",
       "                                     s1\n",
       "(Intercept)                -132.0242246\n",
       "room_typePrivate room      -122.7676012\n",
       "room_typeShared room       -154.9426967\n",
       "person_capacity              18.4810079\n",
       "host_is_superhostTrue        -7.4699179\n",
       "multi                         .        \n",
       "biz                           .        \n",
       "cleanliness_rating            0.9649431\n",
       "guest_satisfaction_overall    0.7715510\n",
       "bedrooms                    103.2857589\n",
       "dist                          .        \n",
       "metro_dist                  -11.4493809\n",
       "attr_index_norm               9.1438159\n",
       "rest_index_norm              -1.3010340\n",
       "cityLondon                  155.3431521\n",
       "cityRome                     58.7946663\n",
       "weekend                       7.1001938"
      ]
     },
     "metadata": {},
     "output_type": "display_data"
    },
    {
     "data": {
      "text/html": [
       "'The (log) lambda related to the minimum MSE in the LASSO model is -0.1569'"
      ],
      "text/latex": [
       "'The (log) lambda related to the minimum MSE in the LASSO model is -0.1569'"
      ],
      "text/markdown": [
       "'The (log) lambda related to the minimum MSE in the LASSO model is -0.1569'"
      ],
      "text/plain": [
       "[1] \"The (log) lambda related to the minimum MSE in the LASSO model is -0.1569\""
      ]
     },
     "metadata": {},
     "output_type": "display_data"
    },
    {
     "data": {
      "image/png": "[encoded data removed]",
      "text/plain": [
       "plot without title"
      ]
     },
     "metadata": {
      "image/png": {
       "height": 480,
       "width": 480
      }
     },
     "output_type": "display_data"
    }
   ],
   "source": [
    "# LASSO training\n",
    "options(repr.plot.width = 8, repr.plot.height = 8)\n",
    "lasso_model <- cv.glmnet(x = training_matrix, y = airbnb_training$realSum, alpha = 1)\n",
    "coef(lasso_model, s = \"lambda.min\")\n",
    "plot(lasso_model)\n",
    "sprintf(\"The (log) lambda related to the minimum MSE in the LASSO model is %.4f\", log(lasso_model$lambda.min))"
   ]
  },
  {
   "cell_type": "markdown",
   "id": "f15bef70-e0ae-4b55-9a15-08059a9cadff",
   "metadata": {},
   "source": [
    "#### Ridge Regression"
   ]
  },
  {
   "cell_type": "code",
   "execution_count": 13,
   "id": "a7cd0a89-1d6c-4058-9ed8-5f60a5befb1d",
   "metadata": {},
   "outputs": [
    {
     "data": {
      "text/plain": [
       "17 x 1 sparse Matrix of class \"dgCMatrix\"\n",
       "                                     s1\n",
       "(Intercept)                -136.3404254\n",
       "room_typePrivate room      -118.2070324\n",
       "room_typeShared room       -163.8599904\n",
       "person_capacity              19.9317661\n",
       "host_is_superhostTrue       -10.3792555\n",
       "multi                        -1.7986375\n",
       "biz                          -0.2052225\n",
       "cleanliness_rating            1.9381975\n",
       "guest_satisfaction_overall    0.7792359\n",
       "bedrooms                    100.5885161\n",
       "dist                          0.2474648\n",
       "metro_dist                  -12.5034415\n",
       "attr_index_norm               9.0320341\n",
       "rest_index_norm              -1.3579503\n",
       "cityLondon                  147.6247581\n",
       "cityRome                     53.4419201\n",
       "weekend                       8.8503011"
      ]
     },
     "metadata": {},
     "output_type": "display_data"
    },
    {
     "data": {
      "text/html": [
       "'The (log) lambda related to the minimum MSE in the Ridge model is 2.4713'"
      ],
      "text/latex": [
       "'The (log) lambda related to the minimum MSE in the Ridge model is 2.4713'"
      ],
      "text/markdown": [
       "'The (log) lambda related to the minimum MSE in the Ridge model is 2.4713'"
      ],
      "text/plain": [
       "[1] \"The (log) lambda related to the minimum MSE in the Ridge model is 2.4713\""
      ]
     },
     "metadata": {},
     "output_type": "display_data"
    },
    {
     "data": {
      "image/png": "[encoded data removed]",
      "text/plain": [
       "plot without title"
      ]
     },
     "metadata": {
      "image/png": {
       "height": 480,
       "width": 480
      }
     },
     "output_type": "display_data"
    }
   ],
   "source": [
    "# ridge training\n",
    "options(repr.plot.width = 8, repr.plot.height = 8)\n",
    "ridge_model <- cv.glmnet(x = training_matrix, y = airbnb_training$realSum, alpha = 0)\n",
    "coef(ridge_model, s = \"lambda.min\")\n",
    "plot(ridge_model)\n",
    "sprintf(\"The (log) lambda related to the minimum MSE in the Ridge model is %.4f\", log(ridge_model$lambda.min))"
   ]
  },
  {
   "cell_type": "markdown",
   "id": "0994e62b-352c-4925-813f-1e1cf4a92d52",
   "metadata": {},
   "source": [
    "### Model Selection"
   ]
  },
  {
   "cell_type": "code",
   "execution_count": 14,
   "id": "f5ebb6e1-3b82-49c7-8742-7c24d5dd4310",
   "metadata": {},
   "outputs": [
    {
     "data": {
      "text/html": [
       "<table class=\"dataframe\">\n",
       "<caption>A tibble: 3 × 2</caption>\n",
       "<thead>\n",
       "\t<tr><th scope=col>Model</th><th scope=col>RMSE</th></tr>\n",
       "\t<tr><th scope=col>&lt;chr&gt;</th><th scope=col>&lt;dbl&gt;</th></tr>\n",
       "</thead>\n",
       "<tbody>\n",
       "\t<tr><td>Multiple Linear Regression with Stepwise Selection</td><td>197.2752</td></tr>\n",
       "\t<tr><td>LASSO Regression with Minimum MSE                 </td><td>197.1093</td></tr>\n",
       "\t<tr><td>Ridge Regression with Minimum MSE                 </td><td>196.9571</td></tr>\n",
       "</tbody>\n",
       "</table>\n"
      ],
      "text/latex": [
       "A tibble: 3 × 2\n",
       "\\begin{tabular}{ll}\n",
       " Model & RMSE\\\\\n",
       " <chr> & <dbl>\\\\\n",
       "\\hline\n",
       "\t Multiple Linear Regression with Stepwise Selection & 197.2752\\\\\n",
       "\t LASSO Regression with Minimum MSE                  & 197.1093\\\\\n",
       "\t Ridge Regression with Minimum MSE                  & 196.9571\\\\\n",
       "\\end{tabular}\n"
      ],
      "text/markdown": [
       "\n",
       "A tibble: 3 × 2\n",
       "\n",
       "| Model &lt;chr&gt; | RMSE &lt;dbl&gt; |\n",
       "|---|---|\n",
       "| Multiple Linear Regression with Stepwise Selection | 197.2752 |\n",
       "| LASSO Regression with Minimum MSE                  | 197.1093 |\n",
       "| Ridge Regression with Minimum MSE                  | 196.9571 |\n",
       "\n"
      ],
      "text/plain": [
       "  Model                                              RMSE    \n",
       "1 Multiple Linear Regression with Stepwise Selection 197.2752\n",
       "2 LASSO Regression with Minimum MSE                  197.1093\n",
       "3 Ridge Regression with Minimum MSE                  196.9571"
      ]
     },
     "metadata": {},
     "output_type": "display_data"
    }
   ],
   "source": [
    "# validation\n",
    "validation_matrix <- model.matrix(object = realSum ~ ., data = airbnb_validation)[, -1]\n",
    "stepwise_preds <- predict(stepwise_model, newdata = airbnb_validation)\n",
    "lasso_preds <- predict(lasso_model, newx = validation_matrix, s = \"lambda.min\")\n",
    "ridge_preds <- predict(ridge_model, newx = validation_matrix, s = \"lambda.min\")\n",
    "\n",
    "validation_rmse <- tibble(\n",
    "    Model = c(\"Multiple Linear Regression with Stepwise Selection\", \"LASSO Regression with Minimum MSE\", \"Ridge Regression with Minimum MSE\"),\n",
    "    RMSE = c(RMSE(stepwise_preds, airbnb_validation$realSum),\n",
    "             RMSE(lasso_preds, airbnb_validation$realSum),\n",
    "             RMSE(ridge_preds, airbnb_validation$realSum))\n",
    ")\n",
    "\n",
    "validation_rmse"
   ]
  },
  {
   "cell_type": "markdown",
   "id": "611ce061-f77b-4ba4-b3de-4a353f826713",
   "metadata": {},
   "source": [
    "After evaluating the performance of three regression models on the validation set using RMSE, we find that while all models performed similarly, Ridge regression achieved the lowest RMSE (196.96), followed closely by LASSO regression (197.11) and stepwise selection (197.28). Since the validation set is fairly large, the small differences in RMSE between the three models are unlikely to be a result of random chance. This suggests that Ridge regularization performed slightly better compared to the other two methods, so we will select the Ridge regression model."
   ]
  },
  {
   "cell_type": "markdown",
   "id": "33b354f1-6dea-47c3-8140-0b3dd71a7cf2",
   "metadata": {},
   "source": [
    "### Fitting the Ridge Model on Testing Data\n",
    "Now that we've selected the Ridge model, we will fit it on testing data and evaluate its performance."
   ]
  },
  {
   "cell_type": "code",
   "execution_count": 15,
   "id": "07d07daf-b0f3-4b00-907b-0c9b0761fc9f",
   "metadata": {},
   "outputs": [],
   "source": [
    "# preparing testing data in matrix format\n",
    "test_matrix <- model.matrix(realSum ~ ., data = airbnb_testing)[, -1]\n",
    "\n",
    "# fitting ridge model on testing data\n",
    "ridge_test_preds <- predict(ridge_model, newx = test_matrix, s = \"lambda.min\")"
   ]
  },
  {
   "cell_type": "code",
   "execution_count": 16,
   "id": "1fa33122-3583-4d37-8451-e922a92192fd",
   "metadata": {},
   "outputs": [
    {
     "data": {
      "text/html": [
       "'The RMSE of the model is 198.2848'"
      ],
      "text/latex": [
       "'The RMSE of the model is 198.2848'"
      ],
      "text/markdown": [
       "'The RMSE of the model is 198.2848'"
      ],
      "text/plain": [
       "[1] \"The RMSE of the model is 198.2848\""
      ]
     },
     "metadata": {},
     "output_type": "display_data"
    }
   ],
   "source": [
    "# evaluating performance of the ridge model\n",
    "ridge_test_rmse <- RMSE(ridge_test_preds, airbnb_testing$realSum)\n",
    "sprintf(\"The RMSE of the model is %.4f\", ridge_test_rmse)"
   ]
  },
  {
   "cell_type": "code",
   "execution_count": 17,
   "id": "76acdcf9-5efc-4939-b66e-36a901c354af",
   "metadata": {},
   "outputs": [
    {
     "data": {
      "text/plain": [
       "17 x 1 sparse Matrix of class \"dgCMatrix\"\n",
       "                                     s1\n",
       "(Intercept)                -136.3404254\n",
       "room_typePrivate room      -118.2070324\n",
       "room_typeShared room       -163.8599904\n",
       "person_capacity              19.9317661\n",
       "host_is_superhostTrue       -10.3792555\n",
       "multi                        -1.7986375\n",
       "biz                          -0.2052225\n",
       "cleanliness_rating            1.9381975\n",
       "guest_satisfaction_overall    0.7792359\n",
       "bedrooms                    100.5885161\n",
       "dist                          0.2474648\n",
       "metro_dist                  -12.5034415\n",
       "attr_index_norm               9.0320341\n",
       "rest_index_norm              -1.3579503\n",
       "cityLondon                  147.6247581\n",
       "cityRome                     53.4419201\n",
       "weekend                       8.8503011"
      ]
     },
     "metadata": {},
     "output_type": "display_data"
    }
   ],
   "source": [
    "# visualizing ridge coefficients again\n",
    "coef(ridge_model, s = \"lambda.min\")"
   ]
  },
  {
   "cell_type": "code",
   "execution_count": 18,
   "id": "b14aad4a-6382-47ef-92d6-d72930bccb80",
   "metadata": {},
   "outputs": [
    {
     "data": {
      "text/html": [
       "<table class=\"dataframe\">\n",
       "<caption>A tibble: 2 × 2</caption>\n",
       "<thead>\n",
       "\t<tr><th scope=col>Model</th><th scope=col>RMSE</th></tr>\n",
       "\t<tr><th scope=col>&lt;chr&gt;</th><th scope=col>&lt;dbl&gt;</th></tr>\n",
       "</thead>\n",
       "<tbody>\n",
       "\t<tr><td>Null Model                       </td><td>248.3604</td></tr>\n",
       "\t<tr><td>Ridge Regression with Minimum MSE</td><td>198.2848</td></tr>\n",
       "</tbody>\n",
       "</table>\n"
      ],
      "text/latex": [
       "A tibble: 2 × 2\n",
       "\\begin{tabular}{ll}\n",
       " Model & RMSE\\\\\n",
       " <chr> & <dbl>\\\\\n",
       "\\hline\n",
       "\t Null Model                        & 248.3604\\\\\n",
       "\t Ridge Regression with Minimum MSE & 198.2848\\\\\n",
       "\\end{tabular}\n"
      ],
      "text/markdown": [
       "\n",
       "A tibble: 2 × 2\n",
       "\n",
       "| Model &lt;chr&gt; | RMSE &lt;dbl&gt; |\n",
       "|---|---|\n",
       "| Null Model                        | 248.3604 |\n",
       "| Ridge Regression with Minimum MSE | 198.2848 |\n",
       "\n"
      ],
      "text/plain": [
       "  Model                             RMSE    \n",
       "1 Null Model                        248.3604\n",
       "2 Ridge Regression with Minimum MSE 198.2848"
      ]
     },
     "metadata": {},
     "output_type": "display_data"
    }
   ],
   "source": [
    "#comparing ridge model RMSE and null model RMSE\n",
    "null_preds <- predict(null_model, newdata = airbnb_testing)\n",
    "\n",
    "test_rmse <- tibble(\n",
    "    Model = c(\"Null Model\", \"Ridge Regression with Minimum MSE\"),\n",
    "    RMSE = c(RMSE(null_preds, airbnb_testing$realSum),\n",
    "             ridge_test_rmse)\n",
    ")\n",
    "\n",
    "test_rmse"
   ]
  },
  {
   "cell_type": "markdown",
   "id": "be65745e-d230-4e47-87c9-aff01ae9863a",
   "metadata": {},
   "source": [
    "# Discussion\n",
    "The Ridge regression model, used to predict Airbnb listing prices in Budapest, London, and Rome, has an RMSE of $198.28$. Compared to the null model, the Ridge regression model reduces RMSE by approximately $20\\%$.\n",
    "\n",
    "The coefficients of Ridge regression are biased, so the exact value of the coefficients are not very meaningful to interpret. However, we can still interpret the relative magnitudes (compared to other predictors) and the sign (positive or negative) of each coefficient:\n",
    "- `cityLondon` (147.62) and `cityRome` (53.44) are dummy variables comparing each city to Budapest (the reference category). Their positive coefficients suggest listings are more expensive in London than in Rome than in Budapest, likely due to greater demand in those markets.\n",
    "- `room_typePrivate room` (-118.21) and `room_typeShared room` (-163.86) are dummy variables comparing different room types to entire home listings. The negative coefficients indicate private rooms, followed by shared rooms, are significantly cheaper than entire homes, likely due to fewer amenities and space.\n",
    "- `person_capacity` (19.93) indicates that larger listings that typically host more people offer more space or amenities and can charge higher prices.\n",
    "- `metro_dist` (-12.50) suggests that prices drop the farther a listing is from the nearest metro station, aligning with earlier findings that central locations command higher prices.\n",
    "- `attr_index_norm` (9.03) has a modest positive effect, indicating listings closer to attractions can charge slightly higher prices, though the impact is not as strong as metro access.\n",
    "- `dist` (0.25) and `rest_index_norm` (-1.36) have a surprisingly low effect on prices, implying that overall distance from the city center and nearby restaurant density may be less influential than direct access to transit, or that their effects are already captured by other, more dominant location variables. \n",
    "- `host_is_superhostTrue` (-10.38) is another dummy variable comparing the listing prices of SuperHosts to regular hosts. This is unexpectedly negative, possibly reflect SuperHosts setting more competitive prices to maintain high occupancy and meet performance standards. It could also suggest market saturation, where the abundance of SuperHosts reduces the price premium usually linked to their status.\n",
    "- `weekend` (8.86) shows a modest price increase during weekends, suggesting somewhat consistent pricing across weekdays and weekends.\n",
    "- `guest_satisfaction_overall` (0.78), `cleanliness_rating` (1.94), `multi` (-1.80), `biz` (-0.21) have small positive effects, implying these factors matter less in predicting prices.\n",
    "\n",
    "Overall, city and type of room are the most influential variables. Since we have observed in our analysis that the relationship of price with other characteristics of the listing changes for every city, we could look into interactions to further improve the model.\n",
    "\n",
    "Future research could examine seasonal trends to understand how demand fluctuations affect pricing. This could reveal periods of peak profitability, influence hosts’ pricing strategies, and highlight how tourism cycles shape the dynamics of the local hotel industry and the rental market."
   ]
  },
  {
   "cell_type": "markdown",
   "id": "cb97dcf3-7917-4f4f-8bd3-0729ce1d871e",
   "metadata": {},
   "source": [
    "# References\n",
    "Barron, K., Kung, E., & Proserpio, D. (2019). *When Airbnb Listings in a City Increase, So Do Rent Prices.* Harvard Business Review. https://ci.carmel.ca.us/sites/main/files/file-attachments/harvard_business_article_and_study.pdf\n",
    "\n",
    "Deboosere, R., Kerrigan, D. J., Wachsmuth, D., & El-Geneidy, A. (2019). *Location, location and professionalization: a multilevel hedonic analysis of Airbnb listing prices and revenue.* Regional Studies, Regional Science, 6(1), 143–156. https://doi.org/10.1080/21681376.2019.1592699\n",
    "\n",
    "Gyódi, K., & Nawaro Ł. (2021). *Determinants of Airbnb prices in European cities: A spatial econometrics approach*. https://doi.org/10.1016/j.tourman.2021.104319"
   ]
  }
 ],
 "metadata": {
  "kernelspec": {
   "display_name": "R",
   "language": "R",
   "name": "ir"
  },
  "language_info": {
   "codemirror_mode": "r",
   "file_extension": ".r",
   "mimetype": "text/x-r-source",
   "name": "R",
   "pygments_lexer": "r",
   "version": "4.4.1"
  }
 },
 "nbformat": 4,
 "nbformat_minor": 5
}
