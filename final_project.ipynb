{
 "cells": [
  {
   "cell_type": "markdown",
   "id": "f5a064b2",
   "metadata": {},
   "source": [
    "# Predicting Airbnb Prices\n",
    "**Group Members**: Anthony Leong, Brian Ni, Shivani Aggarwal, Tina Yu <br> \n",
    "STAT 301, April 16 2025"
   ]
  },
  {
   "cell_type": "markdown",
   "id": "422428d3",
   "metadata": {},
   "source": [
    "# Introduction\n",
    "## Background and Research Motivation\n",
    "\n",
    "With the growth of peer-to-peer accommodation platforms, Airbnb has become a dominant player in the short-term rental market across major cities worldwide. The pricing of Airbnb listings varies significantly, driven by numerous listing and location-specific characteristics. There are numerous studies examining this relationship for various reasons:\n",
    "- Understanding what factors are associated with the variation in Airbnb prices can help both hosts optimize their listings and travelers make more informed booking decisions.\n",
    "- Scholars have argued that the existence of Airbnb listings raise the cost of living for local renters as landlords are switching their property to cater short-term rentals, decreasing supply for long-term renters and driving up the rental rates over time (Barron et al., 2019).\n",
    "- The growth of Airbnb in neighbours that are not traditionally touristic brings economic growth to these areas, while also disrupting the hotel industry (Deboosere et al., 2019).\n",
    "\n",
    "While many studies have identified factors associated with listing prices, fewer have evaluated whether these features can be used to *predict prices* with reasonable accuracy. In this project, we explore this predictive focus using Airbnb listings from three popular European cities: London, Rome, and Budapest."
   ]
  },
  {
   "cell_type": "markdown",
   "id": "2dfa8d19-1b45-4183-a7ee-1bbfffd11c2f",
   "metadata": {},
   "source": [
    "## Research Question\n",
    "We are interested in answering the following research question in this report through our analysis.\n",
    "- **Can we predict the price of an Airbnb listing based on its characteristics?**  \n",
    "\n",
    "This question is predictive. We aim to build a model to estimate listing prices from available features, assessing model performance on unseen data."
   ]
  },
  {
   "cell_type": "markdown",
   "id": "94d0b47c-282f-480e-9f3a-5ef03a542b7e",
   "metadata": {},
   "source": [
    "# Methods and Results\n",
    "## Data\n",
    "\n",
    "The dataset that will be used in this project was originally published in the article *Determinants of Airbnb prices in European cities:  A spatial econometrics approach* ([Gyódi & Nawaro, 2021](https://doi.org/10.1016/j.tourman.2021.104319)). This dataset provides information about 51,708 Airbnb listings in 10 popular European cities - Amsterdam, Athens, Barcelona, Berlin, Budapest, Lisbon, London, Paris, Rome, and Vienna.\n",
    "\n",
    "The dataset in the article was collected by web-scraping the Airbnb platform to look for accommodations for two people and two nights in 10 major European cities, 4-6 weeks in advance of the travel dates. Additionally, TripAdvisor was used to obtain reviews of nearby attractions/restaurants and Wikipedia was used to calculate the distance to the nearest metro station.\n",
    "\n",
    "The dataset contains 22 variables as described in the table below: \n",
    "\n",
    "| Variable | Description | Type |\n",
    "| -------- | ----------- | ---- |\n",
    "|`X`| The ID of the listing| Numeric|\n",
    "|`realSum`| The total price of the listing| Numeric|\n",
    "|`room_type`| The type of room being offered (private, shared, or entire home/apartment)| Categorical (3 levels)|\n",
    "|`room_shared`|\tIndicates whether the listing is for a shared room| Boolean|\n",
    "|`room_private`| Indicates whether the listing is for a private room| Boolean|\n",
    "|`person_capacity`|\tThe maximum capacity of the listing| Numeric|\n",
    "|`host_is_superhost`|Indicates whether the host is a superhost | Boolean|\n",
    "|`multi`|Indicates whether the listing is from a host with 2-4 listings | Boolean|\n",
    "|`biz`|Indicates whether the listing is from a host with more than 4 listings |Boolean|\n",
    "|`cleanliness_rating`|\tThe cleanliness rating of the listing (0-10) |Numeric|\n",
    "|`guest_satisfaction_overall`|\tThe overall guest satisfaction rating of the listing (0-100) | Numeric|\n",
    "|`bedrooms`|\tThe total number of bedrooms|Numeric|\n",
    "|`dist`|\tThe distance from the listing to the city centre in km|Numeric|\n",
    "|`metro_dist`|\tThe distance from the listing to the nearest metro station in km|Numeric|\n",
    "|`atrr_index`| Attraction index, determined by the number of reviews at nearby attractions | Numeric|\n",
    "|`atrr_index_norm`| Normalized attraction index (0-100) | Numeric|\n",
    "|`rest_index`| Restaurant index, determined by the number of reviews at nearby restaurants | Numeric|\n",
    "|`rest_index_norm`| Normalized restaurant index (0-100) | Numeric|\n",
    "|`lng`|\tThe longitude of the listing |Numeric|\n",
    "|`lat`|\tThe latitude of the listing |Numeric|\n",
    "|`city`| The city where the listing is located |Categorical (10 levels)|\n",
    "|`weekend`|\tIndeicates whether the listing is on a weekend |Boolean|"
   ]
  },
  {
   "cell_type": "markdown",
   "id": "7447c426-a1f0-4d4f-966a-a39e863e2102",
   "metadata": {},
   "source": [
    "### Pre-selection of Variables\n",
    "\n",
    "The following variables will not be included in the analysis:\n",
    "\n",
    "- `X`: The `X` variable is an identifier for each listing, so it is a completely meaningless variable to analyze\n",
    "- `room_shared` and `room_private`: The type of room is already captured by the `room_type` variable, so `room_shared` and `room_private` are redundant variables that do not need to be analyzed.\n",
    "\n",
    "For the purpose of this project, we will only use listings from Budapest, London, and Rome. Listings from other cities will not be included."
   ]
  },
  {
   "cell_type": "markdown",
   "id": "3d1c01d1-1dad-4cff-a7d2-3b8622d33bcf",
   "metadata": {},
   "source": [
    "### Reading the data"
   ]
  },
  {
   "cell_type": "code",
   "execution_count": null,
   "id": "c0bfae2c",
   "metadata": {
    "vscode": {
     "languageId": "r"
    }
   },
   "outputs": [],
   "source": [
    "# required libraries\n",
    "# install.packages(\"tidyverse\")\n",
    "library(tidyverse)\n",
    "# install.packages(\"repr\")\n",
    "library(repr)\n",
    "# install.packages(\"broom\")\n",
    "library(broom)\n",
    "# install.packages(\"ggplot2\")\n",
    "library(ggplot2)\n",
    "# install.packages(\"glmnet\")\n",
    "library(glmnet)\n",
    "# install.packages(\"car\")\n",
    "library(car)\n",
    "# install.packages(\"MASS\")\n",
    "library(MASS)\n",
    "# install.packages(\"caret\")\n",
    "library(caret)\n",
    "# install.packages(\"dplyr\")\n",
    "library(dplyr)\n",
    "# install.packages(\"corrplot\")\n",
    "library(corrplot)\n",
    "options(repr.matrix.max.rows = 8)"
   ]
  },
  {
   "cell_type": "code",
   "execution_count": null,
   "id": "4856e16c",
   "metadata": {},
   "outputs": [],
   "source": [
    "# code taken from Shivani's assignment 2\n",
    "# loading data from public GitHub repo\n",
    "bud_wd_url <- \"https://raw.githubusercontent.com/shivani-aggarw/stat301/refs/heads/main/data/budapest_weekdays.csv\"\n",
    "bud_we_url <- \"https://raw.githubusercontent.com/shivani-aggarw/stat301/refs/heads/main/data/budapest_weekends.csv\"\n",
    "lon_wd_url <- \"https://raw.githubusercontent.com/shivani-aggarw/stat301/refs/heads/main/data/london_weekdays.csv\"\n",
    "lon_we_url <- \"https://raw.githubusercontent.com/shivani-aggarw/stat301/refs/heads/main/data/london_weekends.csv\"\n",
    "rom_wd_url <- \"https://raw.githubusercontent.com/shivani-aggarw/stat301/refs/heads/main/data/rome_weekdays.csv\"\n",
    "rom_we_url <- \"https://raw.githubusercontent.com/shivani-aggarw/stat301/refs/heads/main/data/rome_weekends.csv\""
   ]
  },
  {
   "cell_type": "code",
   "execution_count": null,
   "id": "a9e572af",
   "metadata": {
    "vscode": {
     "languageId": "r"
    }
   },
   "outputs": [],
   "source": [
    "# code taken from Shivani's assignment 2\n",
    "# reading in the .csv files and adding variables for\n",
    "# city and weekend (since they are stored in the file name)\n",
    "bud_wd <- read.csv(bud_wd_url)\n",
    "bud_wd <- bud_wd  %>% \n",
    "    mutate(city = \"Budapest\",\n",
    "          weekend = 0)  \n",
    "\n",
    "bud_we <- read.csv(bud_we_url)\n",
    "bud_we <- bud_we  %>% \n",
    "    mutate(city = \"Budapest\",\n",
    "          weekend = 1)    \n",
    "\n",
    "lon_wd <- read.csv(lon_wd_url)\n",
    "lon_wd <- lon_wd  %>% \n",
    "    mutate(city = \"London\",\n",
    "          weekend = 0) \n",
    "\n",
    "lon_we <- read.csv(lon_we_url)\n",
    "lon_we <- lon_we  %>% \n",
    "    mutate(city = \"London\",\n",
    "          weekend = 1)  \n",
    "\n",
    "rom_wd <- read.csv(rom_wd_url)\n",
    "rom_wd <- rom_wd  %>% \n",
    "    mutate(city = \"Rome\",\n",
    "          weekend = 0)\n",
    "\n",
    "rom_we <- read.csv(rom_we_url)\n",
    "rom_we <- rom_we  %>% \n",
    "    mutate(city = \"Rome\",\n",
    "          weekend = 1)  \n",
    "\n",
    "airbnb <- rbind(bud_wd, bud_we, lon_wd, lon_we, rom_wd, rom_we)"
   ]
  },
  {
   "cell_type": "markdown",
   "id": "266444a2-b368-4863-9795-31315cdfd00f",
   "metadata": {},
   "source": [
    "## Exploratory Data Analysis\n",
    "### Data Cleaning, Wrangling, and Splitting"
   ]
  },
  {
   "cell_type": "code",
   "execution_count": null,
   "id": "14f7f5f5-0e4a-423c-aef7-4a62b5879152",
   "metadata": {
    "tags": []
   },
   "outputs": [],
   "source": [
    "# dropping irrelevant/redundant variables and observations with missing values\n",
    "# temporary variable 'ID' added to be used for data splitting\n",
    "airbnb_clean <- airbnb %>%\n",
    "    dplyr::select(-X, -room_shared, -room_private) |>\n",
    "    mutate(ID = row_number()) |>\n",
    "    drop_na()\n",
    "\n",
    "# splitting data into three sets - one for training, one for validation, one for testing\n",
    "# justification for having three sets is in the methods section\n",
    "set.seed(9999)\n",
    "\n",
    "airbnb_training <- slice_sample(airbnb_clean, prop = 0.6)   # 60% of the data\n",
    "airbnb_remaining <- anti_join(airbnb_clean, airbnb_training, by = \"ID\")\n",
    "airbnb_validation <- slice_sample(airbnb_remaining, prop = 0.5)   # 20% of the data\n",
    "airbnb_testing <- anti_join(airbnb_remaining, airbnb_validation, by = \"ID\")   # 20% of the data\n",
    "\n",
    "# dropping temporary variable 'ID'\n",
    "airbnb_training <- dplyr::select(airbnb_training, -ID)\n",
    "airbnb_validation <- dplyr::select(airbnb_validation, -ID)\n",
    "airbnb_testing <- dplyr::select(airbnb_testing, -ID)\n",
    "\n",
    "airbnb_training"
   ]
  },
  {
   "cell_type": "markdown",
   "id": "1e794716-11ce-4362-913f-465cb590b4fb",
   "metadata": {},
   "source": [
    "### Visualization of Data\n",
    "To visualize the relationship between Airbnb listing prices and other explanatory variables, we will use two plots:\n",
    "- **Contour Plot**: This plot shows the relationships between Airbnb listing price and distance of the listing from the city centre and the nearest metro station (`dist` and `metro_dist`), faceted by the type of room (`room_type`). This plot will help us visualize the popularity of different room types at different prices and distances from city centres and metros. The lighter the color, the more common the room type is at that price and distance point.\n",
    "- **Violin Boxplot**: This plot visualizes the relationship of price with overall satisfaction levels (`guest_satisfaction_overall`), faceted by city (`city`). This plot will help us visualize the distribution of prices across different satisfaction levels, and how this relationship differs across cities."
   ]
  },
  {
   "cell_type": "code",
   "execution_count": null,
   "id": "cd0191cc-7969-4cd4-9228-ca5b9de204e7",
   "metadata": {},
   "outputs": [],
   "source": [
    "# contour plot of price against distance from city centre and nearest metro station\n",
    "options(repr.plot.width = 14, repr.plot.height = 10)\n",
    "\n",
    "# code taken from Brian's assignment 2\n",
    "# combining dist and metro_dist into one variable\n",
    "airbnb_train_distance <- airbnb_training %>%\n",
    "    dplyr::select(realSum, dist, metro_dist, room_type) %>%\n",
    "    mutate(realSum_shifted = if_else(realSum <= 0, 1, realSum)) %>%\n",
    "    pivot_longer(\n",
    "        cols = c(dist, metro_dist),\n",
    "        names_to = \"DistanceType\",\n",
    "        values_to = \"Distance\")\n",
    "\n",
    "# plotting variables\n",
    "ggplot(airbnb_train_distance, aes(x = Distance, y = realSum_shifted)) +\n",
    "    stat_density_2d(aes(fill = after_stat(level)), geom = \"polygon\", color = \"white\", contour = TRUE) +\n",
    "    facet_wrap(~ room_type) + \n",
    "    scale_fill_viridis_c(option = \"C\", name = \"Density Level\") +\n",
    "    labs(\n",
    "        title = \"Contour Plot of Airbnb Price vs. Distance from City Centre and Nearest Metro Station (km)\",\n",
    "        subtitle = \"Faceted by Room Type\",\n",
    "        x = \"Distance from City Centre and Nearest Metro Station (km)\",\n",
    "        y = \"Price of Listing\"\n",
    "  ) +\n",
    "    theme_minimal(base_size = 12) +\n",
    "    theme(\n",
    "        text = element_text(size = 16), \n",
    "        plot.title = element_text(size = 20, face = \"bold\"),  \n",
    "        axis.title = element_text(size = 16),  \n",
    "        axis.text = element_text(size = 14),  \n",
    "        legend.title = element_text(size = 14),\n",
    "        strip.text = element_text(face = \"bold\")\n",
    "  )"
   ]
  },
  {
   "cell_type": "markdown",
   "id": "57b42082-438d-4e1c-9003-00440e9ffde2",
   "metadata": {},
   "source": [
    "#### Interpretation of Contour Plot\n",
    "\n",
    "The contour plot reveals a tendency for listings closer to the city centre or a metro station to be more expensive, and that entire homes and private rooms are generally more expensive than shared rooms. However, most listings, regardless of distance or purpose, tend to fall within a similar price range. We also observe that entire homes or apartments listed on Airbnb are generally located closer to the city centre or metro stations and are priced higher on average."
   ]
  },
  {
   "cell_type": "code",
   "execution_count": null,
   "id": "d763570f-4534-4963-b9d4-455d29684fbc",
   "metadata": {},
   "outputs": [],
   "source": [
    "# code taken from Brian's assignment 2\n",
    "options(repr.plot.width=25, repr.plot.height=10)\n",
    "\n",
    "# Create bins for guest_satisfaction_overall\n",
    "airbnb_train_binned <- airbnb_training %>%\n",
    "  mutate(\n",
    "    satis_bin = cut(guest_satisfaction_overall,\n",
    "      breaks = c(0, 75, 80, 95, Inf),\n",
    "      labels = c(\"Fair (0-75)\",\"Average (75-80)\",\"Good (80-95)\", \"Excellent (95-100)\")\n",
    "    )\n",
    "  )\n",
    "\n",
    "# Combine violin plot + boxplot, facet by city, log-scale on y-axis\n",
    "ggplot(airbnb_train_binned, aes(x = satis_bin, y = realSum, fill = satis_bin)) +\n",
    "    geom_violin(alpha = 0.4) +\n",
    "    geom_boxplot(width = 0.15, outlier.alpha = 0.3, notch = TRUE) +\n",
    "    facet_wrap(~ city) + \n",
    "    scale_y_log10() +\n",
    "    labs(\n",
    "        title = \"Distribution of Listing Price by Overall Satisfaction Levels\",\n",
    "        subtitle = \"Faceted by City\",\n",
    "        x = \"Binned Overall Satisfaction\",\n",
    "        y = \"Price of Listing (EUR)\",\n",
    "        fill = \"Satisfaction Level\"\n",
    "    ) +\n",
    "    theme_minimal() +\n",
    "    theme(\n",
    "        text = element_text(size = 16), \n",
    "        plot.title = element_text(size = 20, face = \"bold\"),  \n",
    "        axis.title = element_text(size = 16),  \n",
    "        axis.text = element_text(size = 14),  \n",
    "        legend.title = element_text(size = 14),\n",
    "        strip.text = element_text(face = \"bold\")\n",
    "    )"
   ]
  },
  {
   "cell_type": "markdown",
   "id": "934d579f-a813-4c49-b9a2-3a5365593e73",
   "metadata": {},
   "source": [
    "#### Interpretation of Violin Boxplot\n",
    "The chart suggests that higher overall ratings for Airbnb properties do not necessarily correspond to higher or lower listing prices. It is interesting to note that listings with lower overall ratings, however, usually have slightly higher prices, suggesting that higher price for a bad experience at an Airbnb could be a factor in the lower rating. We also observe that listings are generally more expensive in London, followed by Rome, then Budapest. "
   ]
  },
  {
   "cell_type": "markdown",
   "id": "59685070-a58a-48e1-b32c-8d3be8553072",
   "metadata": {},
   "source": [
    "### Summary Tables\n"
   ]
  },
  {
   "cell_type": "code",
   "execution_count": null,
   "id": "e494fae4-161f-46ff-b39e-dc43f67a58a2",
   "metadata": {},
   "outputs": [],
   "source": [
    "# summarizing the range of prices\n",
    "airbnb_training %>%\n",
    "  group_by(city) %>%\n",
    "  summarise(\n",
    "    min_price = min(realSum),\n",
    "    max_price = max(realSum),\n",
    "    mean_price = mean(realSum),\n",
    "    sd_price = sd(realSum)\n",
    "  ) %>%\n",
    "  arrange(desc(mean_price))"
   ]
  },
  {
   "cell_type": "markdown",
   "id": "9ca7da22-25a0-47db-951f-e66997aab1ad",
   "metadata": {},
   "source": [
    "From the range of prices, we can observe substantial variation in pricing across the three cities. This suggests that city-specific factors significantly influence Airbnb prices. For our analysis, it highlights the importance of incorporating `city` as a key variable in our model."
   ]
  },
  {
   "cell_type": "markdown",
   "id": "fb0e38a4-e110-4e17-b600-f3cfa563ae3d",
   "metadata": {},
   "source": [
    "## Methods and Plan\n",
    "The response variable `realSum` is continuous with an unbounded range (at least for positive values) so we will use multiple linear regression to obtain a predictive model for the price of a listing. Since the dataset contains many predictors, interaction terms will not be considered in order to maintain model simplicity.\n",
    "\n",
    "We will fit and compare multiple model selection methods and choose the model that provides the most predictive power by minimizing the Root Mean Squared Error (RMSE). RMSE is well-suited to test prediction accuracy as it directly measures the average magnitude of prediction errors in the same units as the response variable. The model selection methods we will test are:\n",
    "- Backward stepwise selection using `stepAIC()`\n",
    "- LASSO Regression (L1 regularization)\n",
    "- Ridge Regression (L2 regularization)\n",
    "\n",
    "To validate the RMSE from each model and avoid the post-inference problem, the data will be split into three sets: a training set, a validation set, and a testing set. Since the dataset is very large (roughly 23,000 observations), splitting the data into a third set will still leave plenty of data for each set while making RMSE validation easier to implement (as opposed to performing cross-validation). 60% of the data will be used to train the models, 20% of the data will be used to calculate and compare RMSE's, and finally the remaining 20% to fit our selected model to test its predictive power. This will let us avoid the post-inference problem we could potentially run into while selecting variables and fitting the model on the same data. Since a temporary variable was needed to split the data, data splitting was performed as a part of the data cleaning process to avoid leaving unnecessary variables in the dataset."
   ]
  },
  {
   "cell_type": "markdown",
   "id": "3afed11e-efdd-4967-8e7d-48c3892bee63",
   "metadata": {},
   "source": [
    "### Assumptions in the Model\n",
    "In order to use the ordinary least square regression, we first have to make the following assumptions:\n",
    "\n",
    "- **Linearity**: The relationship between the response and predictors is linear\n",
    "- **Independence**: The residual errors are independent\n",
    "- **Homoscedasticity**: The variance of residuals is constant across all levels of the predictors\n",
    "- **Normality**: The conditional distribution of the residuals follows a Normal distribution\n",
    "- **No multicollinearity**: There is not a strong correlation between two or more predictors"
   ]
  },
  {
   "cell_type": "markdown",
   "id": "1b9d3a83-bd09-45e9-8f69-c9d30917b43b",
   "metadata": {},
   "source": [
    "### Assessing Multicollinearity"
   ]
  },
  {
   "cell_type": "code",
   "execution_count": null,
   "id": "da07b11a-df6a-440a-ab8c-a326c47ab97f",
   "metadata": {},
   "outputs": [],
   "source": [
    "# checking multicollinearity\n",
    "options(repr.matrix.max.rows = 18)\n",
    "\n",
    "# vif scores with all variables\n",
    "pre_vif <- vif(lm(realSum ~., data = airbnb_training))\n",
    "pre_vif"
   ]
  },
  {
   "cell_type": "markdown",
   "id": "c4c2ea5d-bcf7-431d-999a-dedde15e75a8",
   "metadata": {},
   "source": [
    "We will focus on the **GVIF^(1/(2*Df))** column to decide the variable selection process as our dataset contains multiple categorical variables. We observe that the values for `attr_index`, `attr_index_norm`, `rest_index`, `rest_index_norm`, `lng`, `lat`, and `city` are all greater than $\\sqrt{5} \\approx 2.23$. This makes intuitive sense, since both the longitude and latitude of a listing would depend highly on what city the listing is in. It also makes intuitive sense that `attr_index` and `attr_index_norm` are highly correlated, since `attr_index_norm` is just `attr_index` but normalized to force the minimum and maximum attraction index to be 0 and 100 respectively (Gyódi & Nawaro, 2021). A similar conclusion is reached for `rest_index` and `rest_index_norm`, since `rest_index_norm` is calculated from `rest_index` in the same way.\n",
    "\n",
    "Since `stepAIC()` and LASSO are sensitive to multicollinearity, the following variables will be removed:\n",
    "- `attr_index`: Since the generalized VIF of `attr_index` is greater than `attr_index_norm`, `attr_index` will be removed\n",
    "- `rest_index`: Since the generalized VIF of `rest_index` is greater than `rest_index_norm`, `rest_index` will be removed\n",
    "- `lng` and `lat`: We determined that city-specific factors are likely to be significant factors that determine the price of a listing, so it makes more sense to work with the categorical variable `city` than the numerical `lng` and `lat` variables"
   ]
  },
  {
   "cell_type": "code",
   "execution_count": null,
   "id": "df1b243a-d4e3-4687-b73e-79aacfa1adf8",
   "metadata": {},
   "outputs": [],
   "source": [
    "# removing raw variables as they have higher VIF scores than normalized variables\n",
    "airbnb_training <- dplyr::select(airbnb_training, -c(attr_index, rest_index, lng, lat))\n",
    "airbnb_validation <- dplyr::select(airbnb_validation, -c(attr_index, rest_index, lng, lat))\n",
    "airbnb_testing <- dplyr::select(airbnb_testing, -c(attr_index, rest_index, lng, lat))\n",
    "\n",
    "# vif scores without raw variables\n",
    "post_vif <- vif(lm(realSum ~., data = airbnb_training))\n",
    "post_vif"
   ]
  },
  {
   "cell_type": "markdown",
   "id": "758b2575-87f3-478d-bb5c-5e95a069201c",
   "metadata": {},
   "source": [
    "### Model Training"
   ]
  },
  {
   "cell_type": "markdown",
   "id": "33d3b1a7-81c9-4204-9977-3f7a6b6e423f",
   "metadata": {},
   "source": [
    "#### Stepwise Selection with stepAIC()"
   ]
  },
  {
   "cell_type": "code",
   "execution_count": null,
   "id": "1854b912-c0c2-492b-9a2f-20936ff0cf78",
   "metadata": {},
   "outputs": [],
   "source": [
    "# code taken from Anthony's assignment 2\n",
    "# full and null models, and training matrix\n",
    "null_model <- lm(realSum ~ 1, data = airbnb_training)\n",
    "full_model <- lm(realSum ~ ., data = airbnb_training)\n",
    "training_matrix <- model.matrix(object = realSum ~ ., data = airbnb_training)[, -1]"
   ]
  },
  {
   "cell_type": "code",
   "execution_count": null,
   "id": "04fed6be-1ef2-43d1-b894-99be5c24ae56",
   "metadata": {},
   "outputs": [],
   "source": [
    "# code taken from Anthony's assignment 2\n",
    "# stepwise training - credit to Anthony\n",
    "n <- nrow(airbnb_training)\n",
    "stepwise_model <- stepAIC(full_model,\n",
    "                          direction = \"backward\",\n",
    "                          scope = list(lower = null_model, upper = full_model),\n",
    "                          k = log(n), trace = 0)\n",
    "summary(stepwise_model)"
   ]
  },
  {
   "cell_type": "markdown",
   "id": "1b1a03c5-e321-4932-874b-c3cc30f60c96",
   "metadata": {},
   "source": [
    "#### LASSO Regression"
   ]
  },
  {
   "cell_type": "code",
   "execution_count": null,
   "id": "a76bedee-1458-4a85-a88d-045a531e959c",
   "metadata": {},
   "outputs": [],
   "source": [
    "# LASSO training\n",
    "options(repr.plot.width = 8, repr.plot.height = 8)\n",
    "lasso_model <- cv.glmnet(x = training_matrix, y = airbnb_training$realSum, alpha = 1)\n",
    "coef(lasso_model, s = \"lambda.min\")\n",
    "plot(lasso_model)\n",
    "sprintf(\"The (log) lambda related to the minimum MSE in the LASSO model is %.4f\", log(lasso_model$lambda.min))"
   ]
  },
  {
   "cell_type": "markdown",
   "id": "f15bef70-e0ae-4b55-9a15-08059a9cadff",
   "metadata": {},
   "source": [
    "#### Ridge Regression"
   ]
  },
  {
   "cell_type": "code",
   "execution_count": null,
   "id": "a7cd0a89-1d6c-4058-9ed8-5f60a5befb1d",
   "metadata": {},
   "outputs": [],
   "source": [
    "# ridge training\n",
    "options(repr.plot.width = 8, repr.plot.height = 8)\n",
    "ridge_model <- cv.glmnet(x = training_matrix, y = airbnb_training$realSum, alpha = 0)\n",
    "coef(ridge_model, s = \"lambda.min\")\n",
    "plot(ridge_model)\n",
    "sprintf(\"The (log) lambda related to the minimum MSE in the Ridge model is %.4f\", log(ridge_model$lambda.min))"
   ]
  },
  {
   "cell_type": "markdown",
   "id": "0994e62b-352c-4925-813f-1e1cf4a92d52",
   "metadata": {},
   "source": [
    "### Model Selection"
   ]
  },
  {
   "cell_type": "code",
   "execution_count": null,
   "id": "f5ebb6e1-3b82-49c7-8742-7c24d5dd4310",
   "metadata": {},
   "outputs": [],
   "source": [
    "# validation\n",
    "validation_matrix <- model.matrix(object = realSum ~ ., data = airbnb_validation)[, -1]\n",
    "stepwise_preds <- predict(stepwise_model, newdata = airbnb_validation)\n",
    "lasso_preds <- predict(lasso_model, newx = validation_matrix, s = \"lambda.min\")\n",
    "ridge_preds <- predict(ridge_model, newx = validation_matrix, s = \"lambda.min\")\n",
    "\n",
    "validation_rmse <- tibble(\n",
    "    Model = c(\"Multiple Linear Regression with Stepwise Selection\", \"LASSO Regression with Minimum MSE\", \"Ridge Regression with Minimum MSE\"),\n",
    "    RMSE = c(RMSE(stepwise_preds, airbnb_validation$realSum),\n",
    "             RMSE(lasso_preds, airbnb_validation$realSum),\n",
    "             RMSE(ridge_preds, airbnb_validation$realSum))\n",
    ")\n",
    "\n",
    "validation_rmse"
   ]
  },
  {
   "cell_type": "markdown",
   "id": "611ce061-f77b-4ba4-b3de-4a353f826713",
   "metadata": {},
   "source": [
    "After evaluating the performance of three regression models on the validation set using RMSE, we find that while all models performed similarly, Ridge regression achieved the lowest RMSE (196.96), followed closely by LASSO regression (197.11) and stepwise selection (197.28). Since the validation set is fairly large, the small differences in RMSE between the three models are unlikely to be a result of random chance. This suggests that Ridge regularization performed slightly better compared to the other two methods, so we will select the Ridge regression model."
   ]
  },
  {
   "cell_type": "markdown",
   "id": "33b354f1-6dea-47c3-8140-0b3dd71a7cf2",
   "metadata": {},
   "source": [
    "### Fitting the Ridge Model on Testing Data\n",
    "Now that we've selected the Ridge model, we will fit it on testing data and evaluate its performance."
   ]
  },
  {
   "cell_type": "code",
   "execution_count": null,
   "id": "07d07daf-b0f3-4b00-907b-0c9b0761fc9f",
   "metadata": {},
   "outputs": [],
   "source": [
    "# preparing testing data in matrix format\n",
    "test_matrix <- model.matrix(realSum ~ ., data = airbnb_testing)[, -1]\n",
    "\n",
    "# fitting ridge model on testing data\n",
    "ridge_test_preds <- predict(ridge_model, newx = test_matrix, s = \"lambda.min\")"
   ]
  },
  {
   "cell_type": "code",
   "execution_count": null,
   "id": "1fa33122-3583-4d37-8451-e922a92192fd",
   "metadata": {},
   "outputs": [],
   "source": [
    "# evaluating performance of the ridge model\n",
    "ridge_test_rmse <- RMSE(ridge_test_preds, airbnb_testing$realSum)\n",
    "sprintf(\"The RMSE of the model is %.4f\", ridge_test_rmse)"
   ]
  },
  {
   "cell_type": "code",
   "execution_count": null,
   "id": "76acdcf9-5efc-4939-b66e-36a901c354af",
   "metadata": {},
   "outputs": [],
   "source": [
    "# visualizing ridge coefficients again\n",
    "coef(ridge_model, s = \"lambda.min\")"
   ]
  },
  {
   "cell_type": "code",
   "execution_count": null,
   "id": "b14aad4a-6382-47ef-92d6-d72930bccb80",
   "metadata": {},
   "outputs": [],
   "source": [
    "null_preds <- predict(null_model, newdata = airbnb_testing)\n",
    "\n",
    "test_rmse <- tibble(\n",
    "    Model = c(\"Null Model\", \"Ridge Regression with Minimum MSE\"),\n",
    "    RMSE = c(RMSE(null_preds, airbnb_testing$realSum),\n",
    "             ridge_test_rmse)\n",
    ")\n",
    "\n",
    "test_rmse"
   ]
  },
  {
   "cell_type": "markdown",
   "id": "be65745e-d230-4e47-87c9-aff01ae9863a",
   "metadata": {},
   "source": [
    "# Discussion\n",
    "The Ridge regression model, used to predict Airbnb listing prices in Budapest, London, and Rome, has an RMSE of $198.28$. Compared to the null model, the Ridge regression model reduces RMSE by approximately $20\\%$.\n",
    "\n",
    "The coefficients of Ridge regression are biased, so the exact value of the coefficients are not very meaningful to interpret. However, we can still interpret the relative magnitudes (compared to other predictors) and the sign (positive or negative) of each coefficient:\n",
    "- `cityLondon` (147.62) and `cityRome` (53.44) are dummy variables comparing each city to Budapest (the reference category). Their positive coefficients suggest listings are more expensive in London than in Rome than in Budapest, likely due to greater demand in those markets.\n",
    "- `room_typePrivate room` (-118.21) and `room_typeShared room` (-163.86) are dummy variables comparing different room types to entire home listings. The negative coefficients indicate private rooms, followed by shared rooms, are significantly cheaper than entire homes, likely due to fewer amenities and space.\n",
    "- `person_capacity` (19.93) indicates that larger listings that typically host more people offer more space or amenities and can charge higher prices.\n",
    "- `metro_dist` (-12.50) suggests that prices drop the farther a listing is from the nearest metro station, aligning with earlier findings that central locations command higher prices.\n",
    "- `attr_index_norm` (9.03) has a modest positive effect, indicating listings closer to attractions can charge slightly higher prices, though the impact is not as strong as metro access.\n",
    "- `dist` (0.25) and `rest_index_norm` (-1.36) have a surprisingly low effect on prices, implying that overall distance from the city center and nearby restaurant density may be less influential than direct access to transit, or that their effects are already captured by other, more dominant location variables. \n",
    "- `host_is_superhostTrue` (-10.38) is another dummy variable comparing the listing prices of SuperHosts to regular hosts. This is unexpectedly negative, possibly reflect SuperHosts setting more competitive prices to maintain high occupancy and meet performance standards. It could also suggest market saturation, where the abundance of SuperHosts reduces the price premium usually linked to their status.\n",
    "- `weekend` (8.86) shows a modest price increase during weekends, suggesting somewhat consistent pricing across weekdays and weekends.\n",
    "- `guest_satisfaction_overall` (0.78), `cleanliness_rating` (1.94), `multi` (-1.80), `biz` (-0.21) have small positive effects, implying these factors matter less in predicting prices.\n",
    "\n",
    "Overall, city and type of room are the most influential variables. Since we have observed in our analysis that the relationship of price with other characteristics of the listing changes for every city, we could look into interactions to further improve the model.\n",
    "\n",
    "Future research could examine seasonal trends to understand how demand fluctuations affect pricing. This could reveal periods of peak profitability, influence hosts’ pricing strategies, and highlight how tourism cycles shape the dynamics of the local hotel industry and the rental market."
   ]
  },
  {
   "cell_type": "markdown",
   "id": "cb97dcf3-7917-4f4f-8bd3-0729ce1d871e",
   "metadata": {},
   "source": [
    "# References\n",
    "Barron, K., Kung, E., & Proserpio, D. (2019). *When Airbnb Listings in a City Increase, So Do Rent Prices.* Harvard Business Review. https://ci.carmel.ca.us/sites/main/files/file-attachments/harvard_business_article_and_study.pdf\n",
    "\n",
    "Deboosere, R., Kerrigan, D. J., Wachsmuth, D., & El-Geneidy, A. (2019). *Location, location and professionalization: a multilevel hedonic analysis of Airbnb listing prices and revenue.* Regional Studies, Regional Science, 6(1), 143–156. https://doi.org/10.1080/21681376.2019.1592699\n",
    "\n",
    "Gyódi, K., & Nawaro Ł. (2021). *Determinants of Airbnb prices in European cities: A spatial econometrics approach*. https://doi.org/10.1016/j.tourman.2021.104319"
   ]
  }
 ],
 "metadata": {
  "kernelspec": {
   "display_name": "R",
   "language": "R",
   "name": "ir"
  },
  "language_info": {
   "codemirror_mode": "r",
   "file_extension": ".r",
   "mimetype": "text/x-r-source",
   "name": "R",
   "pygments_lexer": "r",
   "version": "4.4.1"
  }
 },
 "nbformat": 4,
 "nbformat_minor": 5
}
