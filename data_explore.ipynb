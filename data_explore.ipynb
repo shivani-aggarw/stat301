{
 "cells": [
  {
   "cell_type": "markdown",
   "id": "f5a064b2",
   "metadata": {},
   "source": [
    "# STAT 301 Group Assignment - Planning Stage\n",
    "Type: Individual Assignment <br>\n",
    "Group members: Tina Yu, Anthony Leong, Brian Ni <br> \n",
    "TA: Yian Lin\n",
    "\n",
    "## Data Description\n",
    "### Airbnb Prices in European Cities\n",
    "This dataset provides information about Airbnb listings and their prices in 10 popular European cities - Amsterdam, Athens, Barcelona, Berlin, Budapest, Lisbon, London, Paris, Rome, Vienna. The listing prices are attributed to several characteristics such as room types, cleanliness and satisfaction ratings, number of bedrooms, and such on weekdays and weekends. Each city has two .csv files - for weekdays and weekends each.\n",
    "\n",
    "The dataset includes the variables as shown in the table below: \n",
    "\n",
    "| Variable | Description | Type |\n",
    "| -------- | ----------- | ---- |\n",
    "|`realSum`| The total price of the Airbnb listing| Numeric|\n",
    "|`room_type`| The type of room being offered (private, shared, etc.)| Categorical|\n",
    "|`room_shared`|\tWhether the room is shared or not| Boolean|\n",
    "|`room_private`| Whether the room is private or not| Boolean|\n",
    "|`person_capacity`|\tThe maximum number of people that can stay in the room| Numeric|\n",
    "|`host_is_superhost`|Whether the host is a superhost or not | Boolean|\n",
    "|`multi`|\tWhether the listing is for multiple rooms or not | Boolean|\n",
    "|`biz`|\tWhether the listing is for business purposes or not |Boolean|\n",
    "|`cleanliness_rating`|\tThe cleanliness rating of the listing |Numeric|\n",
    "|`guest_satisfaction_overall`|\tThe overall guest satisfaction rating of the listing | Numeric|\n",
    "|`bedrooms`|\tThe number of bedrooms in the listing |Numeric|\n",
    "|`dist`|\tThe distance from the city centre |Numeric|\n",
    "|`metro_dist`|\tThe distance from the nearest metro station |Numeric|\n",
    "|`lng`|\tThe longitude of the listing |Numeric|\n",
    "|`lat`|\tThe latitude of the listing |Numeric|\n",
    "\n",
    "For the purpose of this assignment, we will use weekdays and weekends data from only 3 cities - Budapest, London, and Rome. This warrants the relevance of 6 csv files with different number of observations. Below is a list of the observations in each file.\n",
    "- `budapest_weekdays.csv`: 2074\n",
    "- `budapest_weekends.csv`: 1948\n",
    "- `london_weekdays.csv`: 4614\n",
    "- `london_weekends.csv`: 5379\n",
    "- `rome_weekdays.csv`: 4492\n",
    "- `rome_weekends.csv`: 4535\n",
    "\n",
    "This dataset is scraped off of a bigger dataset published in the article \"Determinants of Airbnb prices in European cities:  A spatial econometrics approach\" ([DOI link](https://doi.org/10.1016/j.tourman.2021.104319)) authored by Kristóf Gyódi and Łukasz1 Nawaro and published on January 13, 2021"
   ]
  },
  {
   "cell_type": "code",
   "execution_count": null,
   "id": "c0bfae2c",
   "metadata": {
    "vscode": {
     "languageId": "r"
    }
   },
   "outputs": [],
   "source": [
    "library(tidyverse)\n",
    "library(tidyverse)\n",
    "library(repr)\n",
    "library(broom)"
   ]
  }
 ],
 "metadata": {
  "kernelspec": {
   "display_name": "R",
   "language": "R",
   "name": "ir"
  },
  "language_info": {
   "codemirror_mode": "r",
   "file_extension": ".r",
   "mimetype": "text/x-r-source",
   "name": "R",
   "pygments_lexer": "r",
   "version": "4.3.0"
  }
 },
 "nbformat": 4,
 "nbformat_minor": 5
}
